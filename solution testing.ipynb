{
 "cells": [
  {
   "attachments": {},
   "cell_type": "markdown",
   "metadata": {},
   "source": [
    "# Evolving a Lunar Lander with differentiable Genetic Programming"
   ]
  },
  {
   "cell_type": "code",
   "execution_count": 4,
   "metadata": {},
   "outputs": [],
   "source": [
    "import gymnasium as gym\n",
    "\n",
    "from genepro.node_impl import *\n",
    "from genepro.evo import Evolution\n",
    "from genepro.node_impl import Constant\n",
    "\n",
    "import torch\n",
    "import torch.optim as optim\n",
    "\n",
    "import random\n",
    "import os\n",
    "import copy\n",
    "from collections import namedtuple, deque\n",
    "\n",
    "import matplotlib.pyplot as plt\n",
    "from matplotlib import animation\n",
    "\n",
    "import numpy as np\n",
    "import csv\n",
    "import shutil\n",
    "import os\n",
    "from datetime import datetime\n",
    "from sympy import simplify"
   ]
  },
  {
   "attachments": {},
   "cell_type": "markdown",
   "metadata": {},
   "source": [
    "### Creating the leaf nodes\n",
    "The gym environment returns states that represent where the lunar lander is at the current frame. These states are used to calculate the next move of the lander. For each state, we create a leaf node that can be used in the tree that represent the solution."
   ]
  },
  {
   "cell_type": "code",
   "execution_count": 5,
   "metadata": {},
   "outputs": [],
   "source": [
    "# Create environment to find how many features it returns\n",
    "env = gym.make(\"LunarLander-v2\", continuous=True)\n",
    "num_features = env.observation_space.shape[0]\n",
    "\n",
    "# Create a feature for each value the evironment returns\n",
    "leaf_nodes = [Feature(i) for i in range(num_features)]\n",
    "# Add random constants to the features\n",
    "leaf_nodes = leaf_nodes + [Constant()] \n"
   ]
  },
  {
   "attachments": {},
   "cell_type": "markdown",
   "metadata": {},
   "source": [
    "## Checking and setting up gpu usage"
   ]
  },
  {
   "cell_type": "code",
   "execution_count": 6,
   "metadata": {},
   "outputs": [
    {
     "name": "stdout",
     "output_type": "stream",
     "text": [
      "True\n"
     ]
    }
   ],
   "source": [
    "cuda = torch.cuda.is_available()\n",
    "print(cuda)"
   ]
  },
  {
   "cell_type": "code",
   "execution_count": 7,
   "metadata": {},
   "outputs": [
    {
     "name": "stdout",
     "output_type": "stream",
     "text": [
      "cuda:0\n"
     ]
    }
   ],
   "source": [
    "if torch.cuda.is_available():  \n",
    "  dev = \"cuda:0\" \n",
    "else:  \n",
    "  dev = \"cpu\"  \n",
    "device = torch.device(dev)  \n",
    "print(device)\n",
    "a = torch.zeros(4,3)    \n",
    "a = a.to(device)\n",
    "# print(torch.cuda.set_device(1) )"
   ]
  },
  {
   "cell_type": "code",
   "execution_count": 8,
   "metadata": {},
   "outputs": [
    {
     "name": "stdout",
     "output_type": "stream",
     "text": [
      "Requirement already satisfied: pycuda in c:\\users\\wk\\anaconda3\\envs\\genepro23\\lib\\site-packages (2022.2.2)\n",
      "Requirement already satisfied: pytools>=2011.2 in c:\\users\\wk\\anaconda3\\envs\\genepro23\\lib\\site-packages (from pycuda) (2022.1.14)\n",
      "Requirement already satisfied: appdirs>=1.4.0 in c:\\users\\wk\\anaconda3\\envs\\genepro23\\lib\\site-packages (from pycuda) (1.4.4)\n",
      "Requirement already satisfied: mako in c:\\users\\wk\\anaconda3\\envs\\genepro23\\lib\\site-packages (from pycuda) (1.2.4)\n",
      "Requirement already satisfied: platformdirs>=2.2.0 in c:\\users\\wk\\anaconda3\\envs\\genepro23\\lib\\site-packages (from pytools>=2011.2->pycuda) (3.5.1)\n",
      "Requirement already satisfied: typing-extensions>=4.0 in c:\\users\\wk\\anaconda3\\envs\\genepro23\\lib\\site-packages (from pytools>=2011.2->pycuda) (4.6.3)\n",
      "Requirement already satisfied: MarkupSafe>=0.9.2 in c:\\users\\wk\\anaconda3\\envs\\genepro23\\lib\\site-packages (from mako->pycuda) (2.1.3)\n"
     ]
    },
    {
     "data": {
      "text/plain": [
       "'Quadro P1000'"
      ]
     },
     "execution_count": 8,
     "metadata": {},
     "output_type": "execute_result"
    }
   ],
   "source": [
    "!pip install pycuda\n",
    "import torch\n",
    "import pycuda.driver as cuda\n",
    "cuda.init()\n",
    "## Get Id of default device\n",
    "torch.cuda.current_device()\n",
    "# 0\n",
    "cuda.Device(0).name() # '0' is the id of your GPU"
   ]
  },
  {
   "attachments": {},
   "cell_type": "markdown",
   "metadata": {},
   "source": [
    "sets it to first one, aka intel hd stuff"
   ]
  },
  {
   "cell_type": "code",
   "execution_count": 9,
   "metadata": {},
   "outputs": [],
   "source": [
    "import torch\n",
    "\n",
    "# Check if CUDA is available\n",
    "if torch.cuda.is_available():\n",
    "    device = torch.device(\"cuda:0\")  # Use GPU 0\n",
    "else:\n",
    "    device = torch.device(\"cpu\")     # Use CPU\n",
    "\n",
    "# Set the device for tensors\n",
    "torch.cuda.set_device(device)\n"
   ]
  },
  {
   "cell_type": "code",
   "execution_count": 10,
   "metadata": {},
   "outputs": [],
   "source": [
    "# cuda.Device(0).name()\n",
    "# torch.Device(0).name()\n",
    "# torch.device(\"cuda:0\")"
   ]
  },
  {
   "attachments": {},
   "cell_type": "markdown",
   "metadata": {},
   "source": [
    "set it to gpu"
   ]
  },
  {
   "cell_type": "code",
   "execution_count": 11,
   "metadata": {},
   "outputs": [],
   "source": [
    "# import torch\n",
    "\n",
    "# # Check if CUDA is available\n",
    "# if torch.cuda.is_available():\n",
    "#     device = torch.device(torch.cuda.get_device_name(0))  # Use GPU 0\n",
    "#     # device = torch.device(cuda.Device(0))\n",
    "    \n",
    "# else:\n",
    "#     device = torch.device(\"cpu\")  # Use CPU\n",
    "\n",
    "# # Set the device for tensors\n",
    "# torch.cuda.set_device(device)\n"
   ]
  },
  {
   "cell_type": "code",
   "execution_count": 12,
   "metadata": {},
   "outputs": [],
   "source": [
    "import torch\n",
    "\n",
    "# Check if CUDA is available\n",
    "if torch.cuda.is_available():\n",
    "    device_index = 0  # Replace with the index of your GPU\n",
    "    device = torch.device('cuda:' + str(device_index) if torch.cuda.is_available() else 'cpu')\n",
    "else:\n",
    "    device = torch.device('cpu')\n",
    "\n",
    "# Set the device for tensors\n",
    "torch.cuda.set_device(device)\n"
   ]
  },
  {
   "cell_type": "code",
   "execution_count": 13,
   "metadata": {},
   "outputs": [
    {
     "name": "stdout",
     "output_type": "stream",
     "text": [
      "Current device: Quadro P1000\n"
     ]
    }
   ],
   "source": [
    "import torch\n",
    "\n",
    "# Check the current device\n",
    "device = torch.cuda.current_device()\n",
    "print(\"Current device:\", torch.cuda.get_device_name(device))\n"
   ]
  },
  {
   "cell_type": "code",
   "execution_count": 14,
   "metadata": {},
   "outputs": [],
   "source": [
    "env = gym.make(\"LunarLander-v2\", render_mode=\"rgb_array\")"
   ]
  },
  {
   "cell_type": "code",
   "execution_count": 15,
   "metadata": {},
   "outputs": [],
   "source": [
    "Transition = namedtuple('Transition', ('state', 'action', 'next_state', 'reward'))\n",
    "\n",
    "class ReplayMemory(object):\n",
    "    def __init__(self, capacity):\n",
    "        self.memory = deque([], maxlen=capacity)\n",
    "\n",
    "    def push(self, *args):\n",
    "        \"\"\"Save a transition\"\"\"\n",
    "        self.memory.append(Transition(*args))\n",
    "\n",
    "    def sample(self, batch_size):\n",
    "        return random.sample(self.memory, batch_size)\n",
    "\n",
    "    def __len__(self):\n",
    "        return len(self.memory)\n",
    "\n",
    "    def __iadd__(self, other):\n",
    "      self.memory += other.memory\n",
    "      return self \n",
    "\n",
    "    def __add__(self, other):\n",
    "      self.memory = self.memory + other.memory \n",
    "      return self"
   ]
  },
  {
   "cell_type": "code",
   "execution_count": 16,
   "metadata": {},
   "outputs": [],
   "source": [
    "frames = []"
   ]
  },
  {
   "cell_type": "code",
   "execution_count": 17,
   "metadata": {},
   "outputs": [],
   "source": [
    "def fitness_function_pt(multitree, num_episodes=5, episode_duration=300, render=False, ignore_done=False):\n",
    "  memory = ReplayMemory(10000)\n",
    "  rewards = []\n",
    "\n",
    "  for _ in range(num_episodes):\n",
    "    # get initial state of the environment\n",
    "    observation = env.reset()\n",
    "    observation = observation[0]\n",
    "    \n",
    "    for _ in range(episode_duration):\n",
    "      if render:\n",
    "        frames.append(env.render())\n",
    "\n",
    "      input_sample = torch.from_numpy(observation.reshape((1,-1))).float()\n",
    "      \n",
    "      action = torch.argmax(multitree.get_output_pt(input_sample))\n",
    "      observation, reward, terminated, truncated, info = env.step(action.item())\n",
    "      rewards.append(reward)\n",
    "      output_sample = torch.from_numpy(observation.reshape((1,-1))).float()\n",
    "      memory.push(input_sample, torch.tensor([[action.item()]]), output_sample, torch.tensor([reward]))\n",
    "      if (terminated or truncated) and not ignore_done:\n",
    "        break\n",
    "\n",
    "  fitness = np.sum(rewards)\n",
    "  \n",
    "  return fitness, memory"
   ]
  },
  {
   "attachments": {},
   "cell_type": "markdown",
   "metadata": {},
   "source": [
    "GPU attempt up population"
   ]
  },
  {
   "cell_type": "code",
   "execution_count": 18,
   "metadata": {},
   "outputs": [],
   "source": [
    "# num_features = env.observation_space.shape[0]\n",
    "# leaf_nodes = [Feature(i) for i in range(num_features)]\n",
    "# leaf_nodes = leaf_nodes + [Constant()] # Think about the probability of sampling a coefficient\n",
    "# internal_nodes = [Plus(),Minus(),Times(),Div(), Log()] #Add your own operators here\n",
    "\n",
    "# evo = Evolution(\n",
    "#   fitness_function_pt, internal_nodes, leaf_nodes,\n",
    "#   4, # default is 4, number of trees in multitree\n",
    "#   pop_size=1024,\n",
    "#   max_gens=3,\n",
    "#   max_tree_size=64,\n",
    "#   n_jobs=6,\n",
    "#   verbose=True)\n",
    "# evo.evolve()"
   ]
  },
  {
   "attachments": {},
   "cell_type": "markdown",
   "metadata": {},
   "source": [
    "## Creating CSV\n"
   ]
  },
  {
   "cell_type": "code",
   "execution_count": 19,
   "metadata": {},
   "outputs": [],
   "source": [
    "# Atomic funtions for the baseline solution\n",
    "internal_nodes_base = [Plus(),Minus(),Times(),Div(),Log()]\n",
    "leaf_nodes_base = leaf_nodes # as defined at the beginning"
   ]
  },
  {
   "cell_type": "code",
   "execution_count": 20,
   "metadata": {},
   "outputs": [],
   "source": [
    "def Looper(var_to_change, runs=5):\n",
    "    # runs = 5\n",
    "    max_gens = 70\n",
    "    Fittest =np.zeros([runs,max_gens])\n",
    "    #TODO: Set to proper baseline values\n",
    "    for i in range(runs):\n",
    "        evo = Evolution(\n",
    "            fitness_function_pt, internal_nodes_base, leaf_nodes_base, 4,\n",
    "            pop_size=16, \n",
    "            # max_gens=70, \n",
    "            max_gens=1,\n",
    "            max_tree_size=32, \n",
    "            n_jobs=6, verbose=True,\n",
    "            init_max_depth = 4,\n",
    "            # max_tree_size : int=64,\n",
    "            # crossover = [{\"fun\":subtree_crossover, \"rate\": 0.5}],\n",
    "            # crossovers = 0.4,\n",
    "            # mutations = 0.5,\n",
    "            # coeff_opts = 0.5,\n",
    "            # selection = 8,\n",
    "        )\n",
    "        evo.evolve()\n",
    "        # evo = Evolution(\n",
    "        # lander_fitness_function_symmetry_feedback, internal_nodes_base, leaf_nodes, \n",
    "        # pop_size=200,\n",
    "        # max_gens=70, # change also the one outside the loop\n",
    "        # max_tree_size=64,\n",
    "        # n_jobs=4,\n",
    "        # verbose=True,\n",
    "        # mutations  = [{\"fun\":subtree_mutation, \"rate\": 0.5}],\n",
    "        # crossovers = [{\"fun\":subtree_crossover, \"rate\": 0.4}],\n",
    "        # # coeff_opts = [{\"fun\":coeff_mutation, \"rate\": 0.0}],\n",
    "        # # selection = {\"fun\":tournament_selection,\"kwargs\":{\"tournament_size\":var_to_change}},\n",
    "        # )\n",
    "        # evo.evolve()\n",
    "\n",
    "        with open('gen.csv', 'r') as f:\n",
    "            csv_reader = csv.reader(f, delimiter='\\t')\n",
    "            idx=0\n",
    "            for row in csv_reader:\n",
    "                Fittest[i, idx] =  float(row[1])\n",
    "                idx+=1    \n",
    "        (dt, micro) = datetime.utcnow().strftime('%Y%m%d%H%M%S.%f').split('.')\n",
    "        shutil.copyfile('gen.csv', 'gen'+dt+str(int(var_to_change))+'.csv')\n",
    "        os.remove('gen.csv')\n",
    "    Fit_summation = np.sum(Fittest,axis=0)/runs\n",
    "    print(sum(Fit_summation))\n",
    "\n",
    "    plt.title('Fitness')\n",
    "    plt.xlabel(\"Generations\")\n",
    "    plt.ylabel(\"Fitness\")\n",
    "    plt.plot(range(max_gens),Fit_summation)\n",
    "\n",
    "    (dt, _) = datetime.utcnow().strftime('%Y%m%d%H%M%S.%f').split('.')\n",
    "    plt.savefig('gen_plot_baseline'+dt+str(int(var_to_change))+'.png', format='png', dpi=300) #!!! manually set a name)\n",
    "    plt.show()\n",
    "    return evo"
   ]
  },
  {
   "cell_type": "code",
   "execution_count": 21,
   "metadata": {},
   "outputs": [
    {
     "name": "stdout",
     "output_type": "stream",
     "text": [
      "gen: 1, \tbest of gen fitness: -409.367,\tbest of gen size: 23\n",
      "mean = -1206.02, \tmedian = -931.70, \tbest_median = -931.70\n",
      "\n",
      "-943.8787000688387\n"
     ]
    },
    {
     "data": {
      "image/png": "[encoded data removed]",
      "text/plain": [
       "<Figure size 640x480 with 1 Axes>"
      ]
     },
     "metadata": {},
     "output_type": "display_data"
    }
   ],
   "source": [
    "evo = Looper(1,1)\n",
    "# evo = Looper(1,5)"
   ]
  },
  {
   "attachments": {},
   "cell_type": "markdown",
   "metadata": {},
   "source": [
    "## Saving models\n"
   ]
  },
  {
   "cell_type": "code",
   "execution_count": 22,
   "metadata": {},
   "outputs": [],
   "source": [
    "import pickle\n",
    "\n",
    "with open('baseline.pickle', 'wb') as file:\n",
    "    # Pickle the 'data' dictionary using the highest protocol available.\n",
    "    pickle.dump(evo, file, pickle.HIGHEST_PROTOCOL)"
   ]
  },
  {
   "attachments": {},
   "cell_type": "markdown",
   "metadata": {},
   "source": [
    "# Plots from fitnesses.csv\n"
   ]
  },
  {
   "cell_type": "code",
   "execution_count": 23,
   "metadata": {},
   "outputs": [
    {
     "ename": "FileNotFoundError",
     "evalue": "[Errno 2] No such file or directory: 'fitnesses_baseline_v1.csv'",
     "output_type": "error",
     "traceback": [
      "\u001b[1;31m---------------------------------------------------------------------------\u001b[0m",
      "\u001b[1;31mFileNotFoundError\u001b[0m                         Traceback (most recent call last)",
      "Cell \u001b[1;32mIn[23], line 23\u001b[0m\n\u001b[0;32m     20\u001b[0m     plt\u001b[39m.\u001b[39mshow()\n\u001b[0;32m     22\u001b[0m \u001b[39m# Manual renaming of the file to be plotted\u001b[39;00m\n\u001b[1;32m---> 23\u001b[0m plot(\u001b[39m'\u001b[39;49m\u001b[39mfitnesses_baseline_v1.csv\u001b[39;49m\u001b[39m'\u001b[39;49m, every_nth\u001b[39m=\u001b[39;49m\u001b[39m2\u001b[39;49m, title\u001b[39m=\u001b[39;49m\u001b[39m'\u001b[39;49m\u001b[39mBaseline\u001b[39;49m\u001b[39m'\u001b[39;49m)\n",
      "Cell \u001b[1;32mIn[23], line 4\u001b[0m, in \u001b[0;36mplot\u001b[1;34m(file, every_nth, title)\u001b[0m\n\u001b[0;32m      2\u001b[0m fitnesses \u001b[39m=\u001b[39m []\n\u001b[0;32m      3\u001b[0m \u001b[39m# store all fitnesses in a list\u001b[39;00m\n\u001b[1;32m----> 4\u001b[0m \u001b[39mwith\u001b[39;00m \u001b[39mopen\u001b[39;49m(file) \u001b[39mas\u001b[39;00m csv_file:\n\u001b[0;32m      5\u001b[0m     csv_reader \u001b[39m=\u001b[39m csv\u001b[39m.\u001b[39mreader(csv_file, delimiter\u001b[39m=\u001b[39m\u001b[39m'\u001b[39m\u001b[39m\\t\u001b[39;00m\u001b[39m'\u001b[39m)\n\u001b[0;32m      6\u001b[0m     \u001b[39mfor\u001b[39;00m row \u001b[39min\u001b[39;00m csv_reader:\n",
      "File \u001b[1;32mc:\\Users\\WK\\Anaconda3\\envs\\genepro23\\lib\\site-packages\\IPython\\core\\interactiveshell.py:284\u001b[0m, in \u001b[0;36m_modified_open\u001b[1;34m(file, *args, **kwargs)\u001b[0m\n\u001b[0;32m    277\u001b[0m \u001b[39mif\u001b[39;00m file \u001b[39min\u001b[39;00m {\u001b[39m0\u001b[39m, \u001b[39m1\u001b[39m, \u001b[39m2\u001b[39m}:\n\u001b[0;32m    278\u001b[0m     \u001b[39mraise\u001b[39;00m \u001b[39mValueError\u001b[39;00m(\n\u001b[0;32m    279\u001b[0m         \u001b[39mf\u001b[39m\u001b[39m\"\u001b[39m\u001b[39mIPython won\u001b[39m\u001b[39m'\u001b[39m\u001b[39mt let you open fd=\u001b[39m\u001b[39m{\u001b[39;00mfile\u001b[39m}\u001b[39;00m\u001b[39m by default \u001b[39m\u001b[39m\"\u001b[39m\n\u001b[0;32m    280\u001b[0m         \u001b[39m\"\u001b[39m\u001b[39mas it is likely to crash IPython. If you know what you are doing, \u001b[39m\u001b[39m\"\u001b[39m\n\u001b[0;32m    281\u001b[0m         \u001b[39m\"\u001b[39m\u001b[39myou can use builtins\u001b[39m\u001b[39m'\u001b[39m\u001b[39m open.\u001b[39m\u001b[39m\"\u001b[39m\n\u001b[0;32m    282\u001b[0m     )\n\u001b[1;32m--> 284\u001b[0m \u001b[39mreturn\u001b[39;00m io_open(file, \u001b[39m*\u001b[39margs, \u001b[39m*\u001b[39m\u001b[39m*\u001b[39mkwargs)\n",
      "\u001b[1;31mFileNotFoundError\u001b[0m: [Errno 2] No such file or directory: 'fitnesses_baseline_v1.csv'"
     ]
    }
   ],
   "source": [
    "def plot(file, every_nth=1, title=None):\n",
    "    fitnesses = []\n",
    "    # store all fitnesses in a list\n",
    "    with open(file) as csv_file:\n",
    "        csv_reader = csv.reader(csv_file, delimiter='\\t')\n",
    "        for row in csv_reader:\n",
    "            fitnesses.append(row)\n",
    "    fitnesses_array = np.array(fitnesses, dtype=np.float32)  # Transpose for boxplot\n",
    "    filtered_fit_array = np.ma.masked_invalid(fitnesses_array).T\n",
    "\n",
    "    fig, ax = plt.subplots(1, 1, constrained_layout=True, figsize=(12, 8))\n",
    "    ax.set_xlabel(\"Generation\")\n",
    "    plt.boxplot(filtered_fit_array[:,::every_nth], showfliers=False)\n",
    "    # plt.xticks(np.arange(0, len(fitnesses), every_nth))\n",
    "    labels, _ = plt.xticks()\n",
    "    plt.xticks(labels, labels*every_nth-every_nth)\n",
    "    if title is not None:\n",
    "        plt.title(str(title))\n",
    "    plt.savefig('fig1.png')\n",
    "    plt.show()\n",
    "\n",
    "# Manual renaming of the file to be plotted\n",
    "plot('fitnesses_baseline_v1.csv', every_nth=2, title='Baseline')"
   ]
  },
  {
   "attachments": {},
   "cell_type": "markdown",
   "metadata": {},
   "source": [
    "Plot fitness for one run"
   ]
  },
  {
   "cell_type": "code",
   "execution_count": 25,
   "metadata": {},
   "outputs": [
    {
     "ename": "AttributeError",
     "evalue": "'DataFrame' object has no attribute 'append'",
     "output_type": "error",
     "traceback": [
      "\u001b[1;31m---------------------------------------------------------------------------\u001b[0m",
      "\u001b[1;31mAttributeError\u001b[0m                            Traceback (most recent call last)",
      "\u001b[1;32m~\\AppData\\Local\\Temp\\ipykernel_4932\\2942367320.py\u001b[0m in \u001b[0;36m?\u001b[1;34m()\u001b[0m\n\u001b[0;32m      7\u001b[0m \u001b[1;32mimport\u001b[0m \u001b[0mpandas\u001b[0m \u001b[1;32mas\u001b[0m \u001b[0mpd\u001b[0m\u001b[1;33m\u001b[0m\u001b[1;33m\u001b[0m\u001b[0m\n\u001b[0;32m      8\u001b[0m data = {    'gen':                 [],\n\u001b[0;32m      9\u001b[0m             \u001b[1;34m'Fit_best'\u001b[0m\u001b[1;33m:\u001b[0m \u001b[1;33m[\u001b[0m\u001b[1;33m]\u001b[0m\u001b[1;33m,\u001b[0m\u001b[1;33m\u001b[0m\u001b[1;33m\u001b[0m\u001b[0m\n\u001b[1;32m---> 10\u001b[1;33m             'Size_best':    [],    }\n\u001b[0m\u001b[0;32m     11\u001b[0m \u001b[1;33m\u001b[0m\u001b[0m\n\u001b[0;32m     12\u001b[0m \u001b[0mdf\u001b[0m \u001b[1;33m=\u001b[0m \u001b[0mpd\u001b[0m\u001b[1;33m.\u001b[0m\u001b[0mDataFrame\u001b[0m\u001b[1;33m(\u001b[0m\u001b[0mdata\u001b[0m\u001b[1;33m)\u001b[0m\u001b[1;33m\u001b[0m\u001b[1;33m\u001b[0m\u001b[0m\n\u001b[0;32m     13\u001b[0m \u001b[1;32mwith\u001b[0m \u001b[0mopen\u001b[0m\u001b[1;33m(\u001b[0m\u001b[1;34m'gen.csv'\u001b[0m\u001b[1;33m,\u001b[0m \u001b[1;34m'r'\u001b[0m\u001b[1;33m)\u001b[0m \u001b[1;32mas\u001b[0m \u001b[0mf\u001b[0m\u001b[1;33m:\u001b[0m\u001b[1;33m\u001b[0m\u001b[1;33m\u001b[0m\u001b[0m\n",
      "\u001b[1;32mc:\\Users\\WK\\Anaconda3\\envs\\genepro23\\lib\\site-packages\\pandas\\core\\generic.py\u001b[0m in \u001b[0;36m?\u001b[1;34m(self, name)\u001b[0m\n\u001b[0;32m   5985\u001b[0m             \u001b[1;32mand\u001b[0m \u001b[0mname\u001b[0m \u001b[1;32mnot\u001b[0m \u001b[1;32min\u001b[0m \u001b[0mself\u001b[0m\u001b[1;33m.\u001b[0m\u001b[0m_accessors\u001b[0m\u001b[1;33m\u001b[0m\u001b[1;33m\u001b[0m\u001b[0m\n\u001b[0;32m   5986\u001b[0m             \u001b[1;32mand\u001b[0m \u001b[0mself\u001b[0m\u001b[1;33m.\u001b[0m\u001b[0m_info_axis\u001b[0m\u001b[1;33m.\u001b[0m\u001b[0m_can_hold_identifiers_and_holds_name\u001b[0m\u001b[1;33m(\u001b[0m\u001b[0mname\u001b[0m\u001b[1;33m)\u001b[0m\u001b[1;33m\u001b[0m\u001b[1;33m\u001b[0m\u001b[0m\n\u001b[0;32m   5987\u001b[0m         ):\n\u001b[0;32m   5988\u001b[0m             \u001b[1;32mreturn\u001b[0m \u001b[0mself\u001b[0m\u001b[1;33m[\u001b[0m\u001b[0mname\u001b[0m\u001b[1;33m]\u001b[0m\u001b[1;33m\u001b[0m\u001b[1;33m\u001b[0m\u001b[0m\n\u001b[1;32m-> 5989\u001b[1;33m         \u001b[1;32mreturn\u001b[0m \u001b[0mobject\u001b[0m\u001b[1;33m.\u001b[0m\u001b[0m__getattribute__\u001b[0m\u001b[1;33m(\u001b[0m\u001b[0mself\u001b[0m\u001b[1;33m,\u001b[0m \u001b[0mname\u001b[0m\u001b[1;33m)\u001b[0m\u001b[1;33m\u001b[0m\u001b[1;33m\u001b[0m\u001b[0m\n\u001b[0m",
      "\u001b[1;31mAttributeError\u001b[0m: 'DataFrame' object has no attribute 'append'"
     ]
    }
   ],
   "source": [
    "import pandas as pd\n",
    "data = {    'gen':                 [],\n",
    "            'Fit_best': [],\n",
    "            'Size_best':    [],    }\n",
    "\n",
    "df = pd.DataFrame(data)\n",
    "with open('gen.csv', 'r') as f:\n",
    "    csv_reader = csv.reader(f, delimiter='\\t')\n",
    "    for row in csv_reader:\n",
    "        df = df.append({'gen': row[0], 'Fit_best': row[1], 'Size_best': row[2]}, ignore_index=True)\n",
    "        #TODO update to concat   "
   ]
  },
  {
   "attachments": {},
   "cell_type": "markdown",
   "metadata": {},
   "source": [
    "# Manage gifs and improved output\n"
   ]
  },
  {
   "cell_type": "code",
   "execution_count": 26,
   "metadata": {},
   "outputs": [
    {
     "ename": "NameError",
     "evalue": "name 'lander_fitness_function' is not defined",
     "output_type": "error",
     "traceback": [
      "\u001b[1;31m---------------------------------------------------------------------------\u001b[0m",
      "\u001b[1;31mNameError\u001b[0m                                 Traceback (most recent call last)",
      "Cell \u001b[1;32mIn[26], line 3\u001b[0m\n\u001b[0;32m      1\u001b[0m multirun_fitness \u001b[39m=\u001b[39m []\n\u001b[0;32m      2\u001b[0m \u001b[39mfor\u001b[39;00m indiv \u001b[39min\u001b[39;00m evo\u001b[39m.\u001b[39mpopulation:\n\u001b[1;32m----> 3\u001b[0m     multirun_fitness\u001b[39m.\u001b[39mappend(lander_fitness_function(indiv,num_episodes\u001b[39m=\u001b[39m\u001b[39m250\u001b[39m))\n\u001b[0;32m      5\u001b[0m max_multirun_fitness \u001b[39m=\u001b[39m \u001b[39mmax\u001b[39m(multirun_fitness)\n\u001b[0;32m      6\u001b[0m best_indiv \u001b[39m=\u001b[39m evo\u001b[39m.\u001b[39mpopulation[np\u001b[39m.\u001b[39margmax(multirun_fitness)]\n",
      "\u001b[1;31mNameError\u001b[0m: name 'lander_fitness_function' is not defined"
     ]
    }
   ],
   "source": [
    "multirun_fitness = []\n",
    "for indiv in evo.population:\n",
    "    multirun_fitness.append(fitness_function_pt(indiv,num_episodes=250))\n",
    "    \n",
    "max_multirun_fitness = max(multirun_fitness)\n",
    "best_indiv = evo.population[np.argmax(multirun_fitness)]"
   ]
  },
  {
   "cell_type": "code",
   "execution_count": 27,
   "metadata": {},
   "outputs": [
    {
     "ename": "IndexError",
     "evalue": "list index out of range",
     "output_type": "error",
     "traceback": [
      "\u001b[1;31m---------------------------------------------------------------------------\u001b[0m",
      "\u001b[1;31mIndexError\u001b[0m                                Traceback (most recent call last)",
      "Cell \u001b[1;32mIn[27], line 4\u001b[0m\n\u001b[0;32m      2\u001b[0m \u001b[39mimport\u001b[39;00m \u001b[39mglob\u001b[39;00m\n\u001b[0;32m      3\u001b[0m files \u001b[39m=\u001b[39m \u001b[39msorted\u001b[39m(glob\u001b[39m.\u001b[39mglob(\u001b[39m\"\u001b[39m\u001b[39m*.gif\u001b[39m\u001b[39m\"\u001b[39m),key\u001b[39m=\u001b[39mos\u001b[39m.\u001b[39mpath\u001b[39m.\u001b[39mgetmtime)\n\u001b[1;32m----> 4\u001b[0m export_gif \u001b[39m=\u001b[39m files[\u001b[39m0\u001b[39;49m]\n\u001b[0;32m      5\u001b[0m \u001b[39mprint\u001b[39m(export_gif)\n",
      "\u001b[1;31mIndexError\u001b[0m: list index out of range"
     ]
    }
   ],
   "source": [
    "import os\n",
    "import glob\n",
    "files = sorted(glob.glob(\"*.gif\"),key=os.path.getmtime)\n",
    "export_gif = files[0]\n",
    "print(export_gif)"
   ]
  },
  {
   "cell_type": "code",
   "execution_count": 28,
   "metadata": {},
   "outputs": [],
   "source": [
    "def get_frames_of_behavior(individual):\n",
    "  \"\"\"\n",
    "  Runs the individual on the environment (using the fitness function with render=True) and creates a .gif\n",
    "  \"\"\"\n",
    "  fitness, frames = fitness_function_pt(individual, num_episodes=5, render=True, ignore_done=True)\n",
    "  save_frames_as_gif(frames, filename=\"lander_\"+str(fitness)+\".gif\")\n",
    "  save_frames_as_gif(frames, filename=\"lander_new.gif\")"
   ]
  },
  {
   "cell_type": "code",
   "execution_count": 29,
   "metadata": {},
   "outputs": [],
   "source": [
    "def get_frames_of_behavior2(individual):\n",
    "  \"\"\"\n",
    "  Runs the individual on the environment (using the fitness function with render=True) and creates a .gif\n",
    "  \"\"\"\n",
    "  fitness, frames = fitness_function_pt(individual, num_episodes=5, render=True, ignore_done=True)\n",
    "  save_frames_as_gif(frames, filename=\"lander_\"+str(fitness)+\".gif\")\n",
    "  print(fitness)"
   ]
  },
  {
   "cell_type": "code",
   "execution_count": 30,
   "metadata": {},
   "outputs": [
    {
     "ename": "NameError",
     "evalue": "name 'lander_fitness_function' is not defined",
     "output_type": "error",
     "traceback": [
      "\u001b[1;31m---------------------------------------------------------------------------\u001b[0m",
      "\u001b[1;31mNameError\u001b[0m                                 Traceback (most recent call last)",
      "Cell \u001b[1;32mIn[30], line 2\u001b[0m\n\u001b[0;32m      1\u001b[0m best \u001b[39m=\u001b[39m evo\u001b[39m.\u001b[39mbest_of_gens[\u001b[39m-\u001b[39m\u001b[39m1\u001b[39m]\n\u001b[1;32m----> 2\u001b[0m get_frames_of_behavior2(best)\n",
      "Cell \u001b[1;32mIn[29], line 5\u001b[0m, in \u001b[0;36mget_frames_of_behavior2\u001b[1;34m(individual)\u001b[0m\n\u001b[0;32m      1\u001b[0m \u001b[39mdef\u001b[39;00m \u001b[39mget_frames_of_behavior2\u001b[39m(individual):\n\u001b[0;32m      2\u001b[0m \u001b[39m  \u001b[39m\u001b[39m\"\"\"\u001b[39;00m\n\u001b[0;32m      3\u001b[0m \u001b[39m  Runs the individual on the environment (using the fitness function with render=True) and creates a .gif\u001b[39;00m\n\u001b[0;32m      4\u001b[0m \u001b[39m  \"\"\"\u001b[39;00m\n\u001b[1;32m----> 5\u001b[0m   fitness, frames \u001b[39m=\u001b[39m lander_fitness_function(individual, num_episodes\u001b[39m=\u001b[39m\u001b[39m5\u001b[39m, render\u001b[39m=\u001b[39m\u001b[39mTrue\u001b[39;00m, ignore_done\u001b[39m=\u001b[39m\u001b[39mTrue\u001b[39;00m)\n\u001b[0;32m      6\u001b[0m   save_frames_as_gif(frames, filename\u001b[39m=\u001b[39m\u001b[39m\"\u001b[39m\u001b[39mlander_\u001b[39m\u001b[39m\"\u001b[39m\u001b[39m+\u001b[39m\u001b[39mstr\u001b[39m(fitness)\u001b[39m+\u001b[39m\u001b[39m\"\u001b[39m\u001b[39m.gif\u001b[39m\u001b[39m\"\u001b[39m)\n\u001b[0;32m      7\u001b[0m   \u001b[39mprint\u001b[39m(fitness)\n",
      "\u001b[1;31mNameError\u001b[0m: name 'lander_fitness_function' is not defined"
     ]
    }
   ],
   "source": [
    "best = evo.best_of_gens[-1]\n",
    "get_frames_of_behavior2(best)"
   ]
  },
  {
   "cell_type": "code",
   "execution_count": null,
   "metadata": {},
   "outputs": [],
   "source": [
    "best = evo.best_of_gens[-1]\n",
    "print(best.get_readable_repr())\n",
    "print(best.get_output(np.random.rand(1,8)))\n",
    "print(best._get_child_outputs(np.random.rand(1,8)))"
   ]
  },
  {
   "cell_type": "code",
   "execution_count": null,
   "metadata": {},
   "outputs": [],
   "source": [
    "get_frames_of_behavior(best)"
   ]
  },
  {
   "attachments": {},
   "cell_type": "markdown",
   "metadata": {},
   "source": [
    "Newest lander gif (commented)\n",
    "<img src=\"lander_new.gif\" width=\"750\" align=\"center\">"
   ]
  },
  {
   "cell_type": "code",
   "execution_count": null,
   "metadata": {},
   "outputs": [],
   "source": [
    "from IPython.display import Image\n",
    "Image(url='lander_new.gif')  "
   ]
  },
  {
   "attachments": {},
   "cell_type": "markdown",
   "metadata": {},
   "source": [
    "Simplify representation"
   ]
  },
  {
   "cell_type": "code",
   "execution_count": 31,
   "metadata": {},
   "outputs": [
    {
     "ename": "NameError",
     "evalue": "name 'ext_input_evo' is not defined",
     "output_type": "error",
     "traceback": [
      "\u001b[1;31m---------------------------------------------------------------------------\u001b[0m",
      "\u001b[1;31mNameError\u001b[0m                                 Traceback (most recent call last)",
      "Cell \u001b[1;32mIn[31], line 1\u001b[0m\n\u001b[1;32m----> 1\u001b[0m best_ext_input \u001b[39m=\u001b[39m ext_input_evo\u001b[39m.\u001b[39mbest_of_gens[\u001b[39m-\u001b[39m\u001b[39m1\u001b[39m]\n\u001b[0;32m      2\u001b[0m \u001b[39m# get_frames_of_behavior(best_ext_input, save_as=\"best_ext_input\", fitness_func=lander_fitness_function_prev_action)\u001b[39;00m\n\u001b[0;32m      3\u001b[0m get_frames_of_behavior(best_ext_input, save_as\u001b[39m=\u001b[39m\u001b[39m\"\u001b[39m\u001b[39mbest_ext_input\u001b[39m\u001b[39m\"\u001b[39m)\n",
      "\u001b[1;31mNameError\u001b[0m: name 'ext_input_evo' is not defined"
     ]
    }
   ],
   "source": [
    "best_ext_input = ext_input_evo.best_of_gens[-1]\n",
    "# get_frames_of_behavior(best_ext_input, save_as=\"best_ext_input\", fitness_func=lander_fitness_function_prev_action)\n",
    "get_frames_of_behavior(best_ext_input, save_as=\"best_ext_input\")\n",
    "fitness_function_pt\n",
    "\n",
    "simpl_repr = simplify(best_ext_input.get_readable_repr())\n",
    "print(f\"The best solution is: {simpl_repr}\")"
   ]
  },
  {
   "attachments": {},
   "cell_type": "markdown",
   "metadata": {},
   "source": [
    "## Plots from fitenesses.csv"
   ]
  },
  {
   "cell_type": "code",
   "execution_count": 32,
   "metadata": {},
   "outputs": [],
   "source": [
    "def fitBoxplot(file, every_nth=1):\n",
    "    fitnesses = []\n",
    "    # store all fitnesses in a list\n",
    "    with open(file) as csv_file:\n",
    "        csv_reader = csv.reader(csv_file, delimiter='\\t')\n",
    "        for row in csv_reader:\n",
    "            fitnesses.append(row)\n",
    "    fitnesses_array = np.array(fitnesses, dtype=np.float32)  # Transpose for boxplot\n",
    "    filtered_fit_array = np.ma.masked_invalid(fitnesses_array).T\n",
    "\n",
    "    fig = plt.figure(figsize=(10,5))  # Use this to size the figure\n",
    "    ax = fig.add_axes([0,0,1,1])\n",
    "    ax.set_xlabel(\"Generation\")\n",
    "    plt.boxplot(filtered_fit_array[:,::every_nth], showfliers=False)\n",
    "    # plt.xticks(np.arange(0, len(fitnesses), every_nth))\n",
    "    labels, _ = plt.xticks()\n",
    "    plt.xticks(labels, labels*every_nth-every_nth)\n",
    "    plt.show()\n",
    "\n"
   ]
  },
  {
   "cell_type": "code",
   "execution_count": 33,
   "metadata": {},
   "outputs": [],
   "source": [
    "files = sorted( glob.glob(\"fitness*.csv\"),key=os.path.getmtime )\n",
    "for file in files:\n",
    "    fitBoxplot(file, every_nth=5)\n",
    "# This file is on my pc only, get your own fitness file by runing and evlution with save_fitnesses=True\n",
    "# plot('fitnesses20220617003333.csv', every_nth=5)\n"
   ]
  },
  {
   "attachments": {},
   "cell_type": "markdown",
   "metadata": {},
   "source": [
    "## Merge runs"
   ]
  },
  {
   "cell_type": "code",
   "execution_count": 34,
   "metadata": {},
   "outputs": [],
   "source": [
    "runs = 5\n",
    "max_gens = 70 \n",
    "Fittest =np.zeros([runs,max_gens]) # initialize array to store fitness values\n",
    "i = 0\n",
    "j = 0\n",
    "# Fit_summation = np.zeros([10, max_gens])\n",
    "Fit_summation = {}\n",
    "files = sorted( glob.glob(\"*.csv\"),key=os.path.getmtime )\n",
    "# values = [ 1,2,3,4,5,6,7,8 ]\n",
    "\n",
    "for file in files:\n",
    "    # value = file.replace(\".csv\", \"\")\t# max tree size value\n",
    "    # print(file[17:])\n",
    "    # value = value[17:]\n",
    "    # value = values[j]\n",
    "    value = file.replace(\".csv\", \"\")\t# max tree size value\n",
    "    value = value.split(\"_\")[0]\n",
    "    # print(value)\n",
    "    # if j < 8:\n",
    "    #     value = values[j]\n",
    "\n",
    "    with open(file, 'r') as f: # open one csv file for a run\n",
    "        csv_reader = csv.reader(f, delimiter='\\t')\n",
    "        idx=0\n",
    "        for row in csv_reader:\n",
    "            try:\n",
    "                Fittest[i, idx] =  float(row[1])   # fitness for that generation and run\n",
    "            except:\n",
    "                print(\"error\")\n",
    "                print(file)\n",
    "                print(row)\n",
    "            idx+=1    # generation number\n",
    "\n",
    "    i += 1\n",
    "\n",
    "    if i == 3:\n",
    "        # print(value)\n",
    "        i = 0\n",
    "        j += 1\n",
    "        # Fit_summation[,:] = np.sum(Fittest,axis=0)/5   # one vector with the average of all fitness values for that max tree size\n",
    "        # Fit_summation = {value:np.sum(Fittest,axis=0)/5}   # one vector with the average of all fitness values for that max tree size\n",
    "        # Fit_summation.append(value:np.sum(Fittest,axis=0)/5)   # one vector with the average of all fitness values for that max tree size\n",
    "        new_csv = {value:np.sum(Fittest,axis=0)/5} \n",
    "        Fit_summation.update(new_csv)   # one vector with the average of all fitness values for that max tree size\n",
    "        # Fit_summation[int(value)].append([np.sum(Fittest,axis=0)/5])   # one vector with the average of all fitness values for that max tree size\n",
    "        # save the data in a csv file of the average fitness values\n",
    "        with open('gen_merge_' + str(value) + '.csv','a') as f1:\n",
    "          writer = csv.writer(f1, delimiter='\\t',lineterminator='\\n',)\n",
    "          writer.writerow( zip(range(max_gens), Fit_summation[value]) )    \n"
   ]
  },
  {
   "cell_type": "code",
   "execution_count": 35,
   "metadata": {},
   "outputs": [
    {
     "name": "stdout",
     "output_type": "stream",
     "text": [
      "gen202306131210171.csv\n",
      "1\n",
      "gen202306131210411.csv\n",
      "1\n",
      "gen202306131211001.csv\n",
      "1\n",
      "gen202306131211201.csv\n",
      "1\n",
      "gen202306131211401.csv\n",
      "1\n",
      "gen202306131213251.csv\n",
      "1\n",
      "gen202306131213581.csv\n",
      "1\n",
      "gen202306131214251.csv\n",
      "1\n",
      "gen202306131214541.csv\n",
      "1\n",
      "gen202306131215201.csv\n",
      "1\n"
     ]
    },
    {
     "ename": "ValueError",
     "evalue": "invalid literal for int() with base 10: ''",
     "output_type": "error",
     "traceback": [
      "\u001b[1;31m---------------------------------------------------------------------------\u001b[0m",
      "\u001b[1;31mValueError\u001b[0m                                Traceback (most recent call last)",
      "Cell \u001b[1;32mIn[35], line 6\u001b[0m\n\u001b[0;32m      4\u001b[0m \u001b[39mfor\u001b[39;00m file \u001b[39min\u001b[39;00m files:\n\u001b[0;32m      5\u001b[0m     value \u001b[39m=\u001b[39m file\u001b[39m.\u001b[39mreplace(\u001b[39m\"\u001b[39m\u001b[39m.csv\u001b[39m\u001b[39m\"\u001b[39m, \u001b[39m\"\u001b[39m\u001b[39m\"\u001b[39m)\t\u001b[39m# max tree size value\u001b[39;00m\n\u001b[1;32m----> 6\u001b[0m     value \u001b[39m=\u001b[39m \u001b[39mint\u001b[39;49m(value[\u001b[39m17\u001b[39;49m:])\n\u001b[0;32m      7\u001b[0m     \u001b[39mprint\u001b[39m(file)\n\u001b[0;32m      8\u001b[0m     \u001b[39mprint\u001b[39m(value)\n",
      "\u001b[1;31mValueError\u001b[0m: invalid literal for int() with base 10: ''"
     ]
    }
   ],
   "source": [
    "files = sorted( glob.glob(\"*.csv\"),key=os.path.getmtime )\n",
    "values = [ 1,2,3,4,5,6,7,8,9,10]\n",
    "a=b=c=d=e=f=g=h=j=k=0\n",
    "for file in files:\n",
    "    value = file.replace(\".csv\", \"\")\t# max tree size value\n",
    "    value = int(value[17:])\n",
    "    print(file)\n",
    "    print(value)\n",
    "    if value == 1:\n",
    "        a = a+1\n",
    "        shutil.copyfile(file, str(value) + \"_\"+str(a)+'.csv')\n",
    "    if value == 2:\n",
    "        b = b+1\n",
    "        shutil.copyfile(file, str(value) + \"_\"+str(b)+'.csv')\n",
    "    if value == 3:\n",
    "        c = c+1\n",
    "        shutil.copyfile(file, str(value) + \"_\"+str(c)+'.csv')\n",
    "    if value == 4:\n",
    "        d = d+1\n",
    "        shutil.copyfile(file, str(value) + \"_\"+str(d)+'.csv')\n",
    "    if value == 5:\n",
    "        e = e+1\n",
    "        shutil.copyfile(file, str(value) + \"_\"+str(e)+'.csv')\n",
    "    if value == 6:\n",
    "        f = f+1\n",
    "        shutil.copyfile(file, str(value) + \"_\"+str(f)+'.csv')\n",
    "    if value == 7:\n",
    "        g = g+1\n",
    "        shutil.copyfile(file, str(value) + \"_\"+str(g)+'.csv')\n",
    "    if value == 8:\n",
    "        h = h+1\n",
    "        shutil.copyfile(file, str(value) + \"_\"+str(h)+'.csv')\n",
    "    if value == 9:\n",
    "        j = j+1\n",
    "        shutil.copyfile(file, str(value) + \"_\"+str(j)+'.csv')\n",
    "    if value == 10:\n",
    "        k = k+1\n",
    "        shutil.copyfile(file, str(value) + \"_\"+str(k)+'.csv')"
   ]
  },
  {
   "cell_type": "code",
   "execution_count": 36,
   "metadata": {},
   "outputs": [
    {
     "name": "stdout",
     "output_type": "stream",
     "text": [
      "1\n"
     ]
    },
    {
     "ename": "KeyError",
     "evalue": "'1'",
     "output_type": "error",
     "traceback": [
      "\u001b[1;31m---------------------------------------------------------------------------\u001b[0m",
      "\u001b[1;31mKeyError\u001b[0m                                  Traceback (most recent call last)",
      "Cell \u001b[1;32mIn[36], line 12\u001b[0m\n\u001b[0;32m     10\u001b[0m     \u001b[39mprint\u001b[39m(val)\n\u001b[0;32m     11\u001b[0m     \u001b[39m# plt.plot( range(max_gens), Fit_summation[str(val)], label=str(val) )\u001b[39;00m\n\u001b[1;32m---> 12\u001b[0m     plt\u001b[39m.\u001b[39mplot( \u001b[39mrange\u001b[39m(max_gens), Fit_summation[(val)], label\u001b[39m=\u001b[39m\u001b[39mstr\u001b[39m(val) )\n\u001b[0;32m     13\u001b[0m     legned \u001b[39m=\u001b[39m plt\u001b[39m.\u001b[39mlegend(loc\u001b[39m=\u001b[39m\u001b[39m'\u001b[39m\u001b[39mlower right\u001b[39m\u001b[39m'\u001b[39m, shadow\u001b[39m=\u001b[39m\u001b[39mTrue\u001b[39;00m)\n\u001b[0;32m     14\u001b[0m plt\u001b[39m.\u001b[39msavefig(\u001b[39m'\u001b[39m\u001b[39mgen_atomic_fitness.png\u001b[39m\u001b[39m'\u001b[39m, \u001b[39mformat\u001b[39m\u001b[39m=\u001b[39m\u001b[39m'\u001b[39m\u001b[39mpng\u001b[39m\u001b[39m'\u001b[39m, dpi\u001b[39m=\u001b[39m\u001b[39m300\u001b[39m)\n",
      "\u001b[1;31mKeyError\u001b[0m: '1'"
     ]
    },
    {
     "data": {
      "image/png": "[encoded data removed]",
      "text/plain": [
       "<Figure size 640x480 with 1 Axes>"
      ]
     },
     "metadata": {},
     "output_type": "display_data"
    }
   ],
   "source": [
    "# values = [ 1,2,3,4,5,6,7,8]\n",
    "# values = [1,3,5,7,8]\n",
    "# values= [1,2,3,4,5,6,7,8,9,10]\n",
    "values= ['1','2','3','4','5','6','7','8','9','10']\n",
    "plt.figure( facecolor=(1, 1, 1) )\n",
    "plt.title (\"Variations of atomic functions\")\n",
    "plt.xlabel(\"Generations\")\n",
    "plt.ylabel(\"Fitness\")\n",
    "for val in values:\n",
    "    print(val)\n",
    "    # plt.plot( range(max_gens), Fit_summation[str(val)], label=str(val) )\n",
    "    plt.plot( range(max_gens), Fit_summation[(val)], label=str(val) )\n",
    "    legned = plt.legend(loc='lower right', shadow=True)\n",
    "plt.savefig('gen_atomic_fitness.png', format='png', dpi=300)\n",
    "plt.show()"
   ]
  },
  {
   "cell_type": "code",
   "execution_count": 37,
   "metadata": {},
   "outputs": [
    {
     "name": "stdout",
     "output_type": "stream",
     "text": [
      "gen202306131210171\n",
      "gen202306131210411\n",
      "gen202306131211001\n",
      "gen202306131211201\n",
      "gen202306131211401\n",
      "gen202306131213251\n",
      "gen202306131213581\n",
      "gen202306131214251\n",
      "gen202306131214541\n",
      "gen202306131215201\n",
      "gen\n",
      "gen202306131232211\n",
      "gen\n",
      "error\n",
      "gen_merge_gen202306131211001.csv\n",
      "['(0, -375.3122691272125)', '(1, 0.0)', '(2, 0.0)', '(3, 0.0)', '(4, 0.0)', '(5, 0.0)', '(6, 0.0)', '(7, 0.0)', '(8, 0.0)', '(9, 0.0)', '(10, 0.0)', '(11, 0.0)', '(12, 0.0)', '(13, 0.0)', '(14, 0.0)', '(15, 0.0)', '(16, 0.0)', '(17, 0.0)', '(18, 0.0)', '(19, 0.0)', '(20, 0.0)', '(21, 0.0)', '(22, 0.0)', '(23, 0.0)', '(24, 0.0)', '(25, 0.0)', '(26, 0.0)', '(27, 0.0)', '(28, 0.0)', '(29, 0.0)', '(30, 0.0)', '(31, 0.0)', '(32, 0.0)', '(33, 0.0)', '(34, 0.0)', '(35, 0.0)', '(36, 0.0)', '(37, 0.0)', '(38, 0.0)', '(39, 0.0)', '(40, 0.0)', '(41, 0.0)', '(42, 0.0)', '(43, 0.0)', '(44, 0.0)', '(45, 0.0)', '(46, 0.0)', '(47, 0.0)', '(48, 0.0)', '(49, 0.0)', '(50, 0.0)', '(51, 0.0)', '(52, 0.0)', '(53, 0.0)', '(54, 0.0)', '(55, 0.0)', '(56, 0.0)', '(57, 0.0)', '(58, 0.0)', '(59, 0.0)', '(60, 0.0)', '(61, 0.0)', '(62, 0.0)', '(63, 0.0)', '(64, 0.0)', '(65, 0.0)', '(66, 0.0)', '(67, 0.0)', '(68, 0.0)', '(69, 0.0)']\n",
      "gen\n",
      "error\n",
      "gen_merge_gen202306131213251.csv\n",
      "['(0, -296.6136078936032)', '(1, 0.0)', '(2, 0.0)', '(3, 0.0)', '(4, 0.0)', '(5, 0.0)', '(6, 0.0)', '(7, 0.0)', '(8, 0.0)', '(9, 0.0)', '(10, 0.0)', '(11, 0.0)', '(12, 0.0)', '(13, 0.0)', '(14, 0.0)', '(15, 0.0)', '(16, 0.0)', '(17, 0.0)', '(18, 0.0)', '(19, 0.0)', '(20, 0.0)', '(21, 0.0)', '(22, 0.0)', '(23, 0.0)', '(24, 0.0)', '(25, 0.0)', '(26, 0.0)', '(27, 0.0)', '(28, 0.0)', '(29, 0.0)', '(30, 0.0)', '(31, 0.0)', '(32, 0.0)', '(33, 0.0)', '(34, 0.0)', '(35, 0.0)', '(36, 0.0)', '(37, 0.0)', '(38, 0.0)', '(39, 0.0)', '(40, 0.0)', '(41, 0.0)', '(42, 0.0)', '(43, 0.0)', '(44, 0.0)', '(45, 0.0)', '(46, 0.0)', '(47, 0.0)', '(48, 0.0)', '(49, 0.0)', '(50, 0.0)', '(51, 0.0)', '(52, 0.0)', '(53, 0.0)', '(54, 0.0)', '(55, 0.0)', '(56, 0.0)', '(57, 0.0)', '(58, 0.0)', '(59, 0.0)', '(60, 0.0)', '(61, 0.0)', '(62, 0.0)', '(63, 0.0)', '(64, 0.0)', '(65, 0.0)', '(66, 0.0)', '(67, 0.0)', '(68, 0.0)', '(69, 0.0)']\n",
      "gen\n",
      "error\n",
      "gen_merge_gen202306131214541.csv\n",
      "['(0, -378.06694690856887)', '(1, 0.0)', '(2, 0.0)', '(3, 0.0)', '(4, 0.0)', '(5, 0.0)', '(6, 0.0)', '(7, 0.0)', '(8, 0.0)', '(9, 0.0)', '(10, 0.0)', '(11, 0.0)', '(12, 0.0)', '(13, 0.0)', '(14, 0.0)', '(15, 0.0)', '(16, 0.0)', '(17, 0.0)', '(18, 0.0)', '(19, 0.0)', '(20, 0.0)', '(21, 0.0)', '(22, 0.0)', '(23, 0.0)', '(24, 0.0)', '(25, 0.0)', '(26, 0.0)', '(27, 0.0)', '(28, 0.0)', '(29, 0.0)', '(30, 0.0)', '(31, 0.0)', '(32, 0.0)', '(33, 0.0)', '(34, 0.0)', '(35, 0.0)', '(36, 0.0)', '(37, 0.0)', '(38, 0.0)', '(39, 0.0)', '(40, 0.0)', '(41, 0.0)', '(42, 0.0)', '(43, 0.0)', '(44, 0.0)', '(45, 0.0)', '(46, 0.0)', '(47, 0.0)', '(48, 0.0)', '(49, 0.0)', '(50, 0.0)', '(51, 0.0)', '(52, 0.0)', '(53, 0.0)', '(54, 0.0)', '(55, 0.0)', '(56, 0.0)', '(57, 0.0)', '(58, 0.0)', '(59, 0.0)', '(60, 0.0)', '(61, 0.0)', '(62, 0.0)', '(63, 0.0)', '(64, 0.0)', '(65, 0.0)', '(66, 0.0)', '(67, 0.0)', '(68, 0.0)', '(69, 0.0)']\n",
      "gen\n",
      "error\n",
      "gen_merge_gen202306131232211.csv\n",
      "['(0, -314.4908474862393)', '(1, -163.74663655091425)', '(2, 0.0)', '(3, 0.0)', '(4, 0.0)', '(5, 0.0)', '(6, 0.0)', '(7, 0.0)', '(8, 0.0)', '(9, 0.0)', '(10, 0.0)', '(11, 0.0)', '(12, 0.0)', '(13, 0.0)', '(14, 0.0)', '(15, 0.0)', '(16, 0.0)', '(17, 0.0)', '(18, 0.0)', '(19, 0.0)', '(20, 0.0)', '(21, 0.0)', '(22, 0.0)', '(23, 0.0)', '(24, 0.0)', '(25, 0.0)', '(26, 0.0)', '(27, 0.0)', '(28, 0.0)', '(29, 0.0)', '(30, 0.0)', '(31, 0.0)', '(32, 0.0)', '(33, 0.0)', '(34, 0.0)', '(35, 0.0)', '(36, 0.0)', '(37, 0.0)', '(38, 0.0)', '(39, 0.0)', '(40, 0.0)', '(41, 0.0)', '(42, 0.0)', '(43, 0.0)', '(44, 0.0)', '(45, 0.0)', '(46, 0.0)', '(47, 0.0)', '(48, 0.0)', '(49, 0.0)', '(50, 0.0)', '(51, 0.0)', '(52, 0.0)', '(53, 0.0)', '(54, 0.0)', '(55, 0.0)', '(56, 0.0)', '(57, 0.0)', '(58, 0.0)', '(59, 0.0)', '(60, 0.0)', '(61, 0.0)', '(62, 0.0)', '(63, 0.0)', '(64, 0.0)', '(65, 0.0)', '(66, 0.0)', '(67, 0.0)', '(68, 0.0)', '(69, 0.0)']\n",
      "1\n",
      "1\n",
      "1\n",
      "1\n",
      "1\n",
      "1\n",
      "1\n",
      "1\n",
      "1\n",
      "1\n"
     ]
    }
   ],
   "source": [
    "runs = 5\n",
    "max_gens = 70 \n",
    "Fittest =np.zeros([runs,max_gens]) # initialize array to store fitness values\n",
    "i = 0\n",
    "j = 0\n",
    "# Fit_summation = np.zeros([10, max_gens])\n",
    "Fit_summation = {}\n",
    "files = sorted( glob.glob(\"*.csv\"),key=os.path.getmtime )\n",
    "# values = [ 1,2,3,4,5,6,7,8 ]\n",
    "\n",
    "for file in files:\n",
    "    # value = file.replace(\".csv\", \"\")\t# max tree size value\n",
    "    # print(file[17:])\n",
    "    # value = value[17:]\n",
    "    # value = values[j]\n",
    "    value = file.replace(\".csv\", \"\")\t# max tree size value\n",
    "    value = value.split(\"_\")[0]\n",
    "    print(value)\n",
    "    # if j < 8:\n",
    "    #     value = values[j]\n",
    "\n",
    "    with open(file, 'r') as f: # open one csv file for a run\n",
    "        csv_reader = csv.reader(f, delimiter='\\t')\n",
    "        idx=0\n",
    "        for row in csv_reader:\n",
    "            try:\n",
    "                Fittest[i, idx] =  float(row[3])   # fitness for that generation and run\n",
    "            except:\n",
    "                print(\"error\")\n",
    "                print(file)\n",
    "                print(row)\n",
    "            idx+=1    # generation number\n",
    "\n",
    "    i += 1\n",
    "\n",
    "    if i == 3:\n",
    "        # print(value)\n",
    "        i = 0\n",
    "        j += 1\n",
    "        # Fit_summation[,:] = np.sum(Fittest,axis=0)/5   # one vector with the average of all fitness values for that max tree size\n",
    "        # Fit_summation = {value:np.sum(Fittest,axis=0)/5}   # one vector with the average of all fitness values for that max tree size\n",
    "        # Fit_summation.append(value:np.sum(Fittest,axis=0)/5)   # one vector with the average of all fitness values for that max tree size\n",
    "        new_csv = {value:np.sum(Fittest,axis=0)/5} \n",
    "        Fit_summation.update(new_csv)   # one vector with the average of all fitness values for that max tree size\n",
    "        # Fit_summation[int(value)].append([np.sum(Fittest,axis=0)/5])   # one vector with the average of all fitness values for that max tree size\n",
    "        # save the data in a csv file of the average fitness values\n",
    "        with open('gen_median_' + str(value) + '.csv','a') as f1:\n",
    "          writer = csv.writer(f1, delimiter='\\t',lineterminator='\\n',)\n",
    "          writer.writerow( zip(range(max_gens), Fit_summation[value]) )    \n"
   ]
  },
  {
   "cell_type": "code",
   "execution_count": 38,
   "metadata": {},
   "outputs": [
    {
     "name": "stdout",
     "output_type": "stream",
     "text": [
      "1\n",
      "2\n"
     ]
    },
    {
     "ename": "KeyError",
     "evalue": "'2'",
     "output_type": "error",
     "traceback": [
      "\u001b[1;31m---------------------------------------------------------------------------\u001b[0m",
      "\u001b[1;31mKeyError\u001b[0m                                  Traceback (most recent call last)",
      "Cell \u001b[1;32mIn[38], line 12\u001b[0m\n\u001b[0;32m     10\u001b[0m     \u001b[39mprint\u001b[39m(val)\n\u001b[0;32m     11\u001b[0m     \u001b[39m# plt.plot( range(max_gens), Fit_summation[str(val)], label=str(val) )\u001b[39;00m\n\u001b[1;32m---> 12\u001b[0m     plt\u001b[39m.\u001b[39mplot( \u001b[39mrange\u001b[39m(max_gens), Fit_summation[(val)], label\u001b[39m=\u001b[39m\u001b[39mstr\u001b[39m(val) )\n\u001b[0;32m     13\u001b[0m     legned \u001b[39m=\u001b[39m plt\u001b[39m.\u001b[39mlegend(loc\u001b[39m=\u001b[39m\u001b[39m'\u001b[39m\u001b[39mlower right\u001b[39m\u001b[39m'\u001b[39m, shadow\u001b[39m=\u001b[39m\u001b[39mTrue\u001b[39;00m)\n\u001b[0;32m     14\u001b[0m plt\u001b[39m.\u001b[39msavefig(\u001b[39m'\u001b[39m\u001b[39mgen_atomic_median.png\u001b[39m\u001b[39m'\u001b[39m, \u001b[39mformat\u001b[39m\u001b[39m=\u001b[39m\u001b[39m'\u001b[39m\u001b[39mpng\u001b[39m\u001b[39m'\u001b[39m, dpi\u001b[39m=\u001b[39m\u001b[39m300\u001b[39m)\n",
      "\u001b[1;31mKeyError\u001b[0m: '2'"
     ]
    },
    {
     "data": {
      "image/png": "[encoded data removed]",
      "text/plain": [
       "<Figure size 640x480 with 1 Axes>"
      ]
     },
     "metadata": {},
     "output_type": "display_data"
    }
   ],
   "source": [
    "# values = [ 1,2,3,4,5,6,7,8]\n",
    "# values = [1,3,5,7,8]\n",
    "# values= [1,2,3,4,5,6,7,8,9,10]\n",
    "values= ['1','2','3','4','5','6','7','8','9','10']\n",
    "plt.figure( facecolor=(1, 1, 1) )\n",
    "plt.title (\"Variations of atomic functions\")\n",
    "plt.xlabel(\"Generations\")\n",
    "plt.ylabel(\"Median of the fitness\")\n",
    "for val in values:\n",
    "    print(val)\n",
    "    # plt.plot( range(max_gens), Fit_summation[str(val)], label=str(val) )\n",
    "    plt.plot( range(max_gens), Fit_summation[(val)], label=str(val) )\n",
    "    legned = plt.legend(loc='lower right', shadow=True)\n",
    "plt.savefig('gen_atomic_median.png', format='png', dpi=300)\n",
    "plt.show()"
   ]
  },
  {
   "cell_type": "code",
   "execution_count": 39,
   "metadata": {},
   "outputs": [
    {
     "ename": "TypeError",
     "evalue": "unsupported operand type(s) for +: 'range' and 'float'",
     "output_type": "error",
     "traceback": [
      "\u001b[1;31m---------------------------------------------------------------------------\u001b[0m",
      "\u001b[1;31mTypeError\u001b[0m                                 Traceback (most recent call last)",
      "Cell \u001b[1;32mIn[39], line 17\u001b[0m\n\u001b[0;32m     15\u001b[0m median_avg \u001b[39m=\u001b[39m np\u001b[39m.\u001b[39mmean(median,axis\u001b[39m=\u001b[39m\u001b[39m0\u001b[39m)\n\u001b[0;32m     16\u001b[0m median_std \u001b[39m=\u001b[39m np\u001b[39m.\u001b[39mstd(median, axis\u001b[39m=\u001b[39m\u001b[39m0\u001b[39m)\n\u001b[1;32m---> 17\u001b[0m plt\u001b[39m.\u001b[39merrorbar(\u001b[39mrange\u001b[39;49m(max_gens)\u001b[39m+\u001b[39;49m\u001b[39m0.01\u001b[39;49m,median_avg,yerr\u001b[39m=\u001b[39mmedian_std, fmt\u001b[39m=\u001b[39m\u001b[39m'\u001b[39m\u001b[39m-o\u001b[39m\u001b[39m'\u001b[39m,label\u001b[39m=\u001b[39m\u001b[39m\"\u001b[39m\u001b[39mMethod 2\u001b[39m\u001b[39m\"\u001b[39m)\n\u001b[0;32m     18\u001b[0m \u001b[39m# path = \"crossover/*.csv\"\u001b[39;00m\n\u001b[0;32m     19\u001b[0m path \u001b[39m=\u001b[39m \u001b[39m\"\u001b[39m\u001b[39m10_*.csv\u001b[39m\u001b[39m\"\u001b[39m\n",
      "\u001b[1;31mTypeError\u001b[0m: unsupported operand type(s) for +: 'range' and 'float'"
     ]
    }
   ],
   "source": [
    "median = np.zeros([runs,max_gens])\n",
    "\n",
    "# path = \"gen2*10.csv\"\n",
    "path = \"2_*.csv\"\n",
    "i=0\n",
    "for filename in glob.glob(path):\n",
    "    print(str(filename))\n",
    "    with open(filename, 'r') as f:\n",
    "        csv_reader = csv.reader(f, delimiter='\\t')\n",
    "        idx=0\n",
    "        for row in csv_reader:\n",
    "            median[i, idx] =  float(row[3])\n",
    "            idx+=1\n",
    "        i += 1\n",
    "median_avg = np.mean(median,axis=0)\n",
    "median_std = np.std(median, axis=0)\n",
    "plt.errorbar(range(max_gens)+0.01,median_avg,yerr=median_std, fmt='-o',label=\"Method 2\")\n",
    "# path = \"crossover/*.csv\"\n",
    "path = \"10_*.csv\"\n",
    "i=0\n",
    "for filename in glob.glob(path):\n",
    "    print(str(filename))\n",
    "    with open(filename, 'r') as f:\n",
    "        csv_reader = csv.reader(f, delimiter='\\t')\n",
    "        idx=0\n",
    "        for row in csv_reader:\n",
    "            median[i, idx] =  float(row[3])\n",
    "            idx+=1\n",
    "        i += 1\n",
    "median_avg = np.mean(median,axis=0)\n",
    "median_std = np.std(median, axis=0)\n",
    "plt.errorbar(range(max_gens)+0.01,median_avg,yerr=median_std, fmt='-o',label=\"Method 10\")\n",
    "plt.legend(loc=\"lower right\")\n",
    "plt.title('Atomic function variations')\n",
    "plt.xlabel(\"Generations\")\n",
    "plt.ylabel(\"Median fitness\")\n",
    "plt.savefig('Luuk_atomic_median.png', format='png', dpi=300)\n",
    "plt.show()"
   ]
  },
  {
   "attachments": {},
   "cell_type": "markdown",
   "metadata": {},
   "source": [
    "# Test"
   ]
  },
  {
   "cell_type": "code",
   "execution_count": null,
   "metadata": {},
   "outputs": [],
   "source": [
    "def get_test_score(tree):\n",
    "    rewards = []\n",
    "\n",
    "    for i in range(10):\n",
    "      # get initial state\n",
    "      observation = env.reset(seed=i)\n",
    "      observation = observation[0]\n",
    "\n",
    "      for _ in range(500):    \n",
    "        # build up the input sample for GP\n",
    "        input_sample = torch.from_numpy(observation.reshape((1,-1))).float()\n",
    "        # get output (squeezing because it is encapsulated in an array)\n",
    "        output = tree.get_output_pt(input_sample)\n",
    "        action = action = torch.Tensor.argmax(output)# What goes here?\n",
    "        observation, reward, terminated, truncated, info = env.step(action.item())\n",
    "        rewards.append(reward)\n",
    "\n",
    "\n",
    "        output_sample = torch.from_numpy(observation.reshape((1,-1))).float()\n",
    "        if (terminated or truncated):\n",
    "            break\n",
    "\n",
    "    fitness = np.sum(rewards)\n",
    "    \n",
    "    return fitness\n",
    "\n",
    "best = evo.best_of_gens[-1]\n",
    "\n",
    "print(best.get_readable_repr())\n",
    "print(get_test_score(best))"
   ]
  },
  {
   "attachments": {},
   "cell_type": "markdown",
   "metadata": {},
   "source": [
    "## Make an animation\n",
    "Here the best evolved individual is selected and one episode is rendered. Make sure to save your lunar landers over time to track progress and make comparisons."
   ]
  },
  {
   "cell_type": "code",
   "execution_count": null,
   "metadata": {},
   "outputs": [],
   "source": [
    "frames = []\n",
    "\n",
    "# gist to save gif from https://gist.github.com/botforge/64cbb71780e6208172bbf03cd9293553\n",
    "def save_frames_as_gif(frames, path='./', filename='evolved_lander.gif'):\n",
    "  plt.figure(figsize=(frames[0].shape[1] / 72.0, frames[0].shape[0] / 72.0), dpi=72)\n",
    "  patch = plt.imshow(frames[0])\n",
    "  plt.axis('off')\n",
    "  def animate(i):\n",
    "      patch.set_data(frames[i])\n",
    "  anim = animation.FuncAnimation(plt.gcf(), animate, frames = len(frames), interval=50)\n",
    "  anim.save(path + filename, writer='imagemagick', fps=60)\n",
    "\n",
    "frames = []\n",
    "fitness_function_pt(best, num_episodes=1, episode_duration=500, render=True, ignore_done=False)\n",
    "env.close()\n",
    "save_frames_as_gif(frames)"
   ]
  },
  {
   "attachments": {},
   "cell_type": "markdown",
   "metadata": {},
   "source": [
    "## Play animation"
   ]
  },
  {
   "attachments": {},
   "cell_type": "markdown",
   "metadata": {},
   "source": [
    "<img src=\"evolved_lander.gif\" width=\"750\">"
   ]
  },
  {
   "attachments": {},
   "cell_type": "markdown",
   "metadata": {},
   "source": [
    "## Optimisation\n",
    "The coefficients in the multi-tree aren't optimised. Here Q-learning (taken from https://pytorch.org/tutorials/intermediate/reinforcement_q_learning.html) is used to optimise the weights further. Incorporate coefficient optimisation in training your agent(s). Coefficient Optimisation can be expensive. Think about how often you want to optimise, when, which individuals etc."
   ]
  },
  {
   "cell_type": "code",
   "execution_count": null,
   "metadata": {},
   "outputs": [],
   "source": [
    "batch_size = 128\n",
    "GAMMA = 0.99\n",
    "\n",
    "constants = best.get_subtrees_consts()\n",
    "\n",
    "if len(constants)>0:\n",
    "  optimizer = optim.AdamW(constants, lr=1e-3, amsgrad=True)\n",
    "\n",
    "for _ in range(500):\n",
    "\n",
    "  if len(constants)>0 and len(evo.memory)>batch_size:\n",
    "    target_tree = copy.deepcopy(best)\n",
    "\n",
    "    transitions = evo.memory.sample(batch_size)\n",
    "    batch = Transition(*zip(*transitions))\n",
    "    \n",
    "    non_final_mask = torch.tensor(tuple(map(lambda s: s is not None,\n",
    "                                        batch.next_state)), dtype=torch.bool)\n",
    "\n",
    "    non_final_next_states = torch.cat([s for s in batch.next_state\n",
    "                                               if s is not None])\n",
    "    state_batch = torch.cat(batch.state)\n",
    "    action_batch = torch.cat(batch.action)\n",
    "    reward_batch = torch.cat(batch.reward)\n",
    "\n",
    "    state_action_values = best.get_output_pt(state_batch).gather(1, action_batch)\n",
    "    next_state_values = torch.zeros(batch_size, dtype=torch.float)\n",
    "    with torch.no_grad():\n",
    "      next_state_values[non_final_mask] = target_tree.get_output_pt(non_final_next_states).max(1)[0].float()\n",
    "\n",
    "    expected_state_action_values = (next_state_values * GAMMA) + reward_batch\n",
    "    \n",
    "    criterion = nn.SmoothL1Loss()\n",
    "    loss = criterion(state_action_values, expected_state_action_values.unsqueeze(1))\n",
    "   \n",
    "    # Optimize the model\n",
    "    optimizer.zero_grad()\n",
    "    loss.backward()\n",
    "    torch.nn.utils.clip_grad_value_(constants, 100)\n",
    "    optimizer.step()\n",
    "\n",
    "print(best.get_readable_repr())\n",
    "print(get_test_score(best))"
   ]
  },
  {
   "cell_type": "code",
   "execution_count": null,
   "metadata": {},
   "outputs": [],
   "source": [
    "frames = []\n",
    "fitness_function_pt(best, num_episodes=1, episode_duration=500, render=True, ignore_done=False)\n",
    "env.close()\n",
    "save_frames_as_gif(frames, filename='evolved_lander_RL.gif')"
   ]
  },
  {
   "attachments": {},
   "cell_type": "markdown",
   "metadata": {},
   "source": [
    "<img src=\"evolved_lander_RL.gif\" width=\"750\">"
   ]
  },
  {
   "cell_type": "code",
   "execution_count": null,
   "metadata": {},
   "outputs": [],
   "source": []
  },
  {
   "cell_type": "code",
   "execution_count": null,
   "metadata": {},
   "outputs": [],
   "source": []
  }
 ],
 "metadata": {
  "kernelspec": {
   "display_name": "genepro23",
   "language": "python",
   "name": "python3"
  },
  "language_info": {
   "codemirror_mode": {
    "name": "ipython",
    "version": 3
   },
   "file_extension": ".py",
   "mimetype": "text/x-python",
   "name": "python",
   "nbconvert_exporter": "python",
   "pygments_lexer": "ipython3",
   "version": "3.9.16"
  }
 },
 "nbformat": 4,
 "nbformat_minor": 4
}
