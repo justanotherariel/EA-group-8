{
 "cells": [
  {
   "attachments": {},
   "cell_type": "markdown",
   "metadata": {},
   "source": [
    "# Evolving a Lunar Lander with differentiable Genetic Programming"
   ]
  },
  {
   "attachments": {},
   "cell_type": "markdown",
   "metadata": {},
   "source": [
    "## Installation\n",
    "To install the required libraries run the command:"
   ]
  },
  {
   "cell_type": "code",
   "execution_count": 1,
   "metadata": {},
   "outputs": [
    {
     "name": "stdout",
     "output_type": "stream",
     "text": [
      "Requirement already satisfied: pygame>=2.1.0 in /home/rweis/miniconda3/envs/tud-ea/lib/python3.9/site-packages (from -r requirements.txt (line 1)) (2.1.3)\n",
      "Requirement already satisfied: pyglet==1.5.21 in /home/rweis/miniconda3/envs/tud-ea/lib/python3.9/site-packages (from -r requirements.txt (line 2)) (1.5.21)\n",
      "Requirement already satisfied: matplotlib in /home/rweis/miniconda3/envs/tud-ea/lib/python3.9/site-packages (from -r requirements.txt (line 3)) (3.7.1)\n",
      "Requirement already satisfied: numpy in /home/rweis/miniconda3/envs/tud-ea/lib/python3.9/site-packages (from -r requirements.txt (line 4)) (1.24.3)\n",
      "Requirement already satisfied: scikit-learn in /home/rweis/miniconda3/envs/tud-ea/lib/python3.9/site-packages (from -r requirements.txt (line 5)) (1.2.2)\n",
      "Requirement already satisfied: sympy>=1.9 in /home/rweis/miniconda3/envs/tud-ea/lib/python3.9/site-packages (from -r requirements.txt (line 6)) (1.12)\n",
      "Requirement already satisfied: joblib>=1.1.0 in /home/rweis/miniconda3/envs/tud-ea/lib/python3.9/site-packages (from -r requirements.txt (line 7)) (1.2.0)\n",
      "Requirement already satisfied: torch in /home/rweis/miniconda3/envs/tud-ea/lib/python3.9/site-packages (from -r requirements.txt (line 8)) (2.0.1)\n",
      "Requirement already satisfied: notebook in /home/rweis/miniconda3/envs/tud-ea/lib/python3.9/site-packages (from -r requirements.txt (line 9)) (6.5.4)\n",
      "Requirement already satisfied: swig in /home/rweis/miniconda3/envs/tud-ea/lib/python3.9/site-packages (from -r requirements.txt (line 10)) (4.1.1)\n",
      "Requirement already satisfied: gymnasium[box2d]>=0.28 in /home/rweis/miniconda3/envs/tud-ea/lib/python3.9/site-packages (from -r requirements.txt (line 11)) (0.28.1)\n",
      "Requirement already satisfied: importlib-resources>=3.2.0 in /home/rweis/miniconda3/envs/tud-ea/lib/python3.9/site-packages (from matplotlib->-r requirements.txt (line 3)) (5.12.0)\n",
      "Requirement already satisfied: cycler>=0.10 in /home/rweis/miniconda3/envs/tud-ea/lib/python3.9/site-packages (from matplotlib->-r requirements.txt (line 3)) (0.11.0)\n",
      "Requirement already satisfied: python-dateutil>=2.7 in /home/rweis/miniconda3/envs/tud-ea/lib/python3.9/site-packages (from matplotlib->-r requirements.txt (line 3)) (2.8.2)\n",
      "Requirement already satisfied: packaging>=20.0 in /home/rweis/miniconda3/envs/tud-ea/lib/python3.9/site-packages (from matplotlib->-r requirements.txt (line 3)) (23.1)\n",
      "Requirement already satisfied: pillow>=6.2.0 in /home/rweis/miniconda3/envs/tud-ea/lib/python3.9/site-packages (from matplotlib->-r requirements.txt (line 3)) (9.5.0)\n",
      "Requirement already satisfied: kiwisolver>=1.0.1 in /home/rweis/miniconda3/envs/tud-ea/lib/python3.9/site-packages (from matplotlib->-r requirements.txt (line 3)) (1.4.4)\n",
      "Requirement already satisfied: fonttools>=4.22.0 in /home/rweis/miniconda3/envs/tud-ea/lib/python3.9/site-packages (from matplotlib->-r requirements.txt (line 3)) (4.39.4)\n",
      "Requirement already satisfied: pyparsing>=2.3.1 in /home/rweis/miniconda3/envs/tud-ea/lib/python3.9/site-packages (from matplotlib->-r requirements.txt (line 3)) (3.0.9)\n",
      "Requirement already satisfied: contourpy>=1.0.1 in /home/rweis/miniconda3/envs/tud-ea/lib/python3.9/site-packages (from matplotlib->-r requirements.txt (line 3)) (1.0.7)\n",
      "Requirement already satisfied: scipy>=1.3.2 in /home/rweis/miniconda3/envs/tud-ea/lib/python3.9/site-packages (from scikit-learn->-r requirements.txt (line 5)) (1.10.1)\n",
      "Requirement already satisfied: threadpoolctl>=2.0.0 in /home/rweis/miniconda3/envs/tud-ea/lib/python3.9/site-packages (from scikit-learn->-r requirements.txt (line 5)) (3.1.0)\n",
      "Requirement already satisfied: mpmath>=0.19 in /home/rweis/miniconda3/envs/tud-ea/lib/python3.9/site-packages (from sympy>=1.9->-r requirements.txt (line 6)) (1.3.0)\n",
      "Requirement already satisfied: nvidia-cusolver-cu11==11.4.0.1 in /home/rweis/miniconda3/envs/tud-ea/lib/python3.9/site-packages (from torch->-r requirements.txt (line 8)) (11.4.0.1)\n",
      "Requirement already satisfied: typing-extensions in /home/rweis/miniconda3/envs/tud-ea/lib/python3.9/site-packages (from torch->-r requirements.txt (line 8)) (4.5.0)\n",
      "Requirement already satisfied: nvidia-cusparse-cu11==11.7.4.91 in /home/rweis/miniconda3/envs/tud-ea/lib/python3.9/site-packages (from torch->-r requirements.txt (line 8)) (11.7.4.91)\n",
      "Requirement already satisfied: nvidia-curand-cu11==10.2.10.91 in /home/rweis/miniconda3/envs/tud-ea/lib/python3.9/site-packages (from torch->-r requirements.txt (line 8)) (10.2.10.91)\n",
      "Requirement already satisfied: nvidia-cuda-cupti-cu11==11.7.101 in /home/rweis/miniconda3/envs/tud-ea/lib/python3.9/site-packages (from torch->-r requirements.txt (line 8)) (11.7.101)\n",
      "Requirement already satisfied: nvidia-cufft-cu11==10.9.0.58 in /home/rweis/miniconda3/envs/tud-ea/lib/python3.9/site-packages (from torch->-r requirements.txt (line 8)) (10.9.0.58)\n",
      "Requirement already satisfied: nvidia-nccl-cu11==2.14.3 in /home/rweis/miniconda3/envs/tud-ea/lib/python3.9/site-packages (from torch->-r requirements.txt (line 8)) (2.14.3)\n",
      "Requirement already satisfied: nvidia-nvtx-cu11==11.7.91 in /home/rweis/miniconda3/envs/tud-ea/lib/python3.9/site-packages (from torch->-r requirements.txt (line 8)) (11.7.91)\n",
      "Requirement already satisfied: nvidia-cudnn-cu11==8.5.0.96 in /home/rweis/miniconda3/envs/tud-ea/lib/python3.9/site-packages (from torch->-r requirements.txt (line 8)) (8.5.0.96)\n",
      "Requirement already satisfied: nvidia-cublas-cu11==11.10.3.66 in /home/rweis/miniconda3/envs/tud-ea/lib/python3.9/site-packages (from torch->-r requirements.txt (line 8)) (11.10.3.66)\n",
      "Requirement already satisfied: filelock in /home/rweis/miniconda3/envs/tud-ea/lib/python3.9/site-packages (from torch->-r requirements.txt (line 8)) (3.12.0)\n",
      "Requirement already satisfied: nvidia-cuda-runtime-cu11==11.7.99 in /home/rweis/miniconda3/envs/tud-ea/lib/python3.9/site-packages (from torch->-r requirements.txt (line 8)) (11.7.99)\n",
      "Requirement already satisfied: triton==2.0.0 in /home/rweis/miniconda3/envs/tud-ea/lib/python3.9/site-packages (from torch->-r requirements.txt (line 8)) (2.0.0)\n",
      "Requirement already satisfied: networkx in /home/rweis/miniconda3/envs/tud-ea/lib/python3.9/site-packages (from torch->-r requirements.txt (line 8)) (3.1)\n",
      "Requirement already satisfied: jinja2 in /home/rweis/miniconda3/envs/tud-ea/lib/python3.9/site-packages (from torch->-r requirements.txt (line 8)) (3.1.2)\n",
      "Requirement already satisfied: nvidia-cuda-nvrtc-cu11==11.7.99 in /home/rweis/miniconda3/envs/tud-ea/lib/python3.9/site-packages (from torch->-r requirements.txt (line 8)) (11.7.99)\n",
      "Requirement already satisfied: wheel in /home/rweis/miniconda3/envs/tud-ea/lib/python3.9/site-packages (from nvidia-cublas-cu11==11.10.3.66->torch->-r requirements.txt (line 8)) (0.38.4)\n",
      "Requirement already satisfied: setuptools in /home/rweis/miniconda3/envs/tud-ea/lib/python3.9/site-packages (from nvidia-cublas-cu11==11.10.3.66->torch->-r requirements.txt (line 8)) (66.0.0)\n",
      "Requirement already satisfied: lit in /home/rweis/miniconda3/envs/tud-ea/lib/python3.9/site-packages (from triton==2.0.0->torch->-r requirements.txt (line 8)) (16.0.5)\n",
      "Requirement already satisfied: cmake in /home/rweis/miniconda3/envs/tud-ea/lib/python3.9/site-packages (from triton==2.0.0->torch->-r requirements.txt (line 8)) (3.26.3)\n",
      "Requirement already satisfied: tornado>=6.1 in /home/rweis/miniconda3/envs/tud-ea/lib/python3.9/site-packages (from notebook->-r requirements.txt (line 9)) (6.3.2)\n",
      "Requirement already satisfied: traitlets>=4.2.1 in /home/rweis/miniconda3/envs/tud-ea/lib/python3.9/site-packages (from notebook->-r requirements.txt (line 9)) (5.9.0)\n",
      "Requirement already satisfied: argon2-cffi in /home/rweis/miniconda3/envs/tud-ea/lib/python3.9/site-packages (from notebook->-r requirements.txt (line 9)) (21.3.0)\n",
      "Requirement already satisfied: pyzmq>=17 in /home/rweis/miniconda3/envs/tud-ea/lib/python3.9/site-packages (from notebook->-r requirements.txt (line 9)) (25.0.2)\n",
      "Requirement already satisfied: jupyter-client>=5.3.4 in /home/rweis/miniconda3/envs/tud-ea/lib/python3.9/site-packages (from notebook->-r requirements.txt (line 9)) (8.2.0)\n",
      "Requirement already satisfied: ipython-genutils in /home/rweis/miniconda3/envs/tud-ea/lib/python3.9/site-packages (from notebook->-r requirements.txt (line 9)) (0.2.0)\n",
      "Requirement already satisfied: nbconvert>=5 in /home/rweis/miniconda3/envs/tud-ea/lib/python3.9/site-packages (from notebook->-r requirements.txt (line 9)) (7.4.0)\n",
      "Requirement already satisfied: terminado>=0.8.3 in /home/rweis/miniconda3/envs/tud-ea/lib/python3.9/site-packages (from notebook->-r requirements.txt (line 9)) (0.17.1)\n",
      "Requirement already satisfied: jupyter-core>=4.6.1 in /home/rweis/miniconda3/envs/tud-ea/lib/python3.9/site-packages (from notebook->-r requirements.txt (line 9)) (5.3.0)\n",
      "Requirement already satisfied: prometheus-client in /home/rweis/miniconda3/envs/tud-ea/lib/python3.9/site-packages (from notebook->-r requirements.txt (line 9)) (0.16.0)\n",
      "Requirement already satisfied: Send2Trash>=1.8.0 in /home/rweis/miniconda3/envs/tud-ea/lib/python3.9/site-packages (from notebook->-r requirements.txt (line 9)) (1.8.2)\n",
      "Requirement already satisfied: ipykernel in /home/rweis/miniconda3/envs/tud-ea/lib/python3.9/site-packages (from notebook->-r requirements.txt (line 9)) (6.23.1)\n",
      "Requirement already satisfied: nbclassic>=0.4.7 in /home/rweis/miniconda3/envs/tud-ea/lib/python3.9/site-packages (from notebook->-r requirements.txt (line 9)) (1.0.0)\n",
      "Requirement already satisfied: nest-asyncio>=1.5 in /home/rweis/miniconda3/envs/tud-ea/lib/python3.9/site-packages (from notebook->-r requirements.txt (line 9)) (1.5.6)\n",
      "Requirement already satisfied: nbformat in /home/rweis/miniconda3/envs/tud-ea/lib/python3.9/site-packages (from notebook->-r requirements.txt (line 9)) (5.8.0)\n",
      "Requirement already satisfied: jax-jumpy>=1.0.0 in /home/rweis/miniconda3/envs/tud-ea/lib/python3.9/site-packages (from gymnasium[box2d]>=0.28->-r requirements.txt (line 11)) (1.0.0)\n",
      "Requirement already satisfied: importlib-metadata>=4.8.0 in /home/rweis/miniconda3/envs/tud-ea/lib/python3.9/site-packages (from gymnasium[box2d]>=0.28->-r requirements.txt (line 11)) (6.6.0)\n",
      "Requirement already satisfied: farama-notifications>=0.0.1 in /home/rweis/miniconda3/envs/tud-ea/lib/python3.9/site-packages (from gymnasium[box2d]>=0.28->-r requirements.txt (line 11)) (0.0.4)\n",
      "Requirement already satisfied: cloudpickle>=1.2.0 in /home/rweis/miniconda3/envs/tud-ea/lib/python3.9/site-packages (from gymnasium[box2d]>=0.28->-r requirements.txt (line 11)) (2.2.1)\n",
      "Requirement already satisfied: box2d-py==2.3.5 in /home/rweis/miniconda3/envs/tud-ea/lib/python3.9/site-packages (from gymnasium[box2d]>=0.28->-r requirements.txt (line 11)) (2.3.5)\n",
      "Requirement already satisfied: zipp>=0.5 in /home/rweis/miniconda3/envs/tud-ea/lib/python3.9/site-packages (from importlib-metadata>=4.8.0->gymnasium[box2d]>=0.28->-r requirements.txt (line 11)) (3.15.0)\n",
      "Requirement already satisfied: platformdirs>=2.5 in /home/rweis/miniconda3/envs/tud-ea/lib/python3.9/site-packages (from jupyter-core>=4.6.1->notebook->-r requirements.txt (line 9)) (3.5.1)\n",
      "Requirement already satisfied: jupyter-server>=1.8 in /home/rweis/miniconda3/envs/tud-ea/lib/python3.9/site-packages (from nbclassic>=0.4.7->notebook->-r requirements.txt (line 9)) (2.5.0)\n",
      "Requirement already satisfied: notebook-shim>=0.2.3 in /home/rweis/miniconda3/envs/tud-ea/lib/python3.9/site-packages (from nbclassic>=0.4.7->notebook->-r requirements.txt (line 9)) (0.2.3)\n",
      "Requirement already satisfied: beautifulsoup4 in /home/rweis/miniconda3/envs/tud-ea/lib/python3.9/site-packages (from nbconvert>=5->notebook->-r requirements.txt (line 9)) (4.12.2)\n",
      "Requirement already satisfied: defusedxml in /home/rweis/miniconda3/envs/tud-ea/lib/python3.9/site-packages (from nbconvert>=5->notebook->-r requirements.txt (line 9)) (0.7.1)\n",
      "Requirement already satisfied: tinycss2 in /home/rweis/miniconda3/envs/tud-ea/lib/python3.9/site-packages (from nbconvert>=5->notebook->-r requirements.txt (line 9)) (1.2.1)\n",
      "Requirement already satisfied: jupyterlab-pygments in /home/rweis/miniconda3/envs/tud-ea/lib/python3.9/site-packages (from nbconvert>=5->notebook->-r requirements.txt (line 9)) (0.2.2)\n",
      "Requirement already satisfied: mistune<3,>=2.0.3 in /home/rweis/miniconda3/envs/tud-ea/lib/python3.9/site-packages (from nbconvert>=5->notebook->-r requirements.txt (line 9)) (2.0.5)\n",
      "Requirement already satisfied: markupsafe>=2.0 in /home/rweis/miniconda3/envs/tud-ea/lib/python3.9/site-packages (from nbconvert>=5->notebook->-r requirements.txt (line 9)) (2.1.2)\n",
      "Requirement already satisfied: nbclient>=0.5.0 in /home/rweis/miniconda3/envs/tud-ea/lib/python3.9/site-packages (from nbconvert>=5->notebook->-r requirements.txt (line 9)) (0.8.0)\n",
      "Requirement already satisfied: pandocfilters>=1.4.1 in /home/rweis/miniconda3/envs/tud-ea/lib/python3.9/site-packages (from nbconvert>=5->notebook->-r requirements.txt (line 9)) (1.5.0)\n",
      "Requirement already satisfied: pygments>=2.4.1 in /home/rweis/miniconda3/envs/tud-ea/lib/python3.9/site-packages (from nbconvert>=5->notebook->-r requirements.txt (line 9)) (2.15.1)\n",
      "Requirement already satisfied: bleach in /home/rweis/miniconda3/envs/tud-ea/lib/python3.9/site-packages (from nbconvert>=5->notebook->-r requirements.txt (line 9)) (6.0.0)\n",
      "Requirement already satisfied: fastjsonschema in /home/rweis/miniconda3/envs/tud-ea/lib/python3.9/site-packages (from nbformat->notebook->-r requirements.txt (line 9)) (2.17.1)\n",
      "Requirement already satisfied: jsonschema>=2.6 in /home/rweis/miniconda3/envs/tud-ea/lib/python3.9/site-packages (from nbformat->notebook->-r requirements.txt (line 9)) (4.17.3)\n",
      "Requirement already satisfied: six>=1.5 in /home/rweis/miniconda3/envs/tud-ea/lib/python3.9/site-packages (from python-dateutil>=2.7->matplotlib->-r requirements.txt (line 3)) (1.16.0)\n",
      "Requirement already satisfied: ptyprocess in /home/rweis/miniconda3/envs/tud-ea/lib/python3.9/site-packages (from terminado>=0.8.3->notebook->-r requirements.txt (line 9)) (0.7.0)\n",
      "Requirement already satisfied: argon2-cffi-bindings in /home/rweis/miniconda3/envs/tud-ea/lib/python3.9/site-packages (from argon2-cffi->notebook->-r requirements.txt (line 9)) (21.2.0)\n",
      "Requirement already satisfied: psutil in /home/rweis/miniconda3/envs/tud-ea/lib/python3.9/site-packages (from ipykernel->notebook->-r requirements.txt (line 9)) (5.9.5)\n",
      "Requirement already satisfied: matplotlib-inline>=0.1 in /home/rweis/miniconda3/envs/tud-ea/lib/python3.9/site-packages (from ipykernel->notebook->-r requirements.txt (line 9)) (0.1.6)\n",
      "Requirement already satisfied: comm>=0.1.1 in /home/rweis/miniconda3/envs/tud-ea/lib/python3.9/site-packages (from ipykernel->notebook->-r requirements.txt (line 9)) (0.1.3)\n",
      "Requirement already satisfied: ipython>=7.23.1 in /home/rweis/miniconda3/envs/tud-ea/lib/python3.9/site-packages (from ipykernel->notebook->-r requirements.txt (line 9)) (8.13.2)\n",
      "Requirement already satisfied: debugpy>=1.6.5 in /home/rweis/miniconda3/envs/tud-ea/lib/python3.9/site-packages (from ipykernel->notebook->-r requirements.txt (line 9)) (1.6.7)\n",
      "Requirement already satisfied: jedi>=0.16 in /home/rweis/miniconda3/envs/tud-ea/lib/python3.9/site-packages (from ipython>=7.23.1->ipykernel->notebook->-r requirements.txt (line 9)) (0.18.2)\n",
      "Requirement already satisfied: stack-data in /home/rweis/miniconda3/envs/tud-ea/lib/python3.9/site-packages (from ipython>=7.23.1->ipykernel->notebook->-r requirements.txt (line 9)) (0.6.2)\n",
      "Requirement already satisfied: decorator in /home/rweis/miniconda3/envs/tud-ea/lib/python3.9/site-packages (from ipython>=7.23.1->ipykernel->notebook->-r requirements.txt (line 9)) (5.1.1)\n",
      "Requirement already satisfied: prompt-toolkit!=3.0.37,<3.1.0,>=3.0.30 in /home/rweis/miniconda3/envs/tud-ea/lib/python3.9/site-packages (from ipython>=7.23.1->ipykernel->notebook->-r requirements.txt (line 9)) (3.0.38)\n",
      "Requirement already satisfied: pickleshare in /home/rweis/miniconda3/envs/tud-ea/lib/python3.9/site-packages (from ipython>=7.23.1->ipykernel->notebook->-r requirements.txt (line 9)) (0.7.5)\n",
      "Requirement already satisfied: pexpect>4.3 in /home/rweis/miniconda3/envs/tud-ea/lib/python3.9/site-packages (from ipython>=7.23.1->ipykernel->notebook->-r requirements.txt (line 9)) (4.8.0)\n",
      "Requirement already satisfied: backcall in /home/rweis/miniconda3/envs/tud-ea/lib/python3.9/site-packages (from ipython>=7.23.1->ipykernel->notebook->-r requirements.txt (line 9)) (0.2.0)\n",
      "Requirement already satisfied: pyrsistent!=0.17.0,!=0.17.1,!=0.17.2,>=0.14.0 in /home/rweis/miniconda3/envs/tud-ea/lib/python3.9/site-packages (from jsonschema>=2.6->nbformat->notebook->-r requirements.txt (line 9)) (0.19.3)\n",
      "Requirement already satisfied: attrs>=17.4.0 in /home/rweis/miniconda3/envs/tud-ea/lib/python3.9/site-packages (from jsonschema>=2.6->nbformat->notebook->-r requirements.txt (line 9)) (23.1.0)\n",
      "Requirement already satisfied: jupyter-events>=0.4.0 in /home/rweis/miniconda3/envs/tud-ea/lib/python3.9/site-packages (from jupyter-server>=1.8->nbclassic>=0.4.7->notebook->-r requirements.txt (line 9)) (0.6.3)\n",
      "Requirement already satisfied: anyio>=3.1.0 in /home/rweis/miniconda3/envs/tud-ea/lib/python3.9/site-packages (from jupyter-server>=1.8->nbclassic>=0.4.7->notebook->-r requirements.txt (line 9)) (3.6.2)\n",
      "Requirement already satisfied: jupyter-server-terminals in /home/rweis/miniconda3/envs/tud-ea/lib/python3.9/site-packages (from jupyter-server>=1.8->nbclassic>=0.4.7->notebook->-r requirements.txt (line 9)) (0.4.4)\n",
      "Requirement already satisfied: websocket-client in /home/rweis/miniconda3/envs/tud-ea/lib/python3.9/site-packages (from jupyter-server>=1.8->nbclassic>=0.4.7->notebook->-r requirements.txt (line 9)) (1.5.2)\n",
      "Requirement already satisfied: cffi>=1.0.1 in /home/rweis/miniconda3/envs/tud-ea/lib/python3.9/site-packages (from argon2-cffi-bindings->argon2-cffi->notebook->-r requirements.txt (line 9)) (1.15.1)\n",
      "Requirement already satisfied: soupsieve>1.2 in /home/rweis/miniconda3/envs/tud-ea/lib/python3.9/site-packages (from beautifulsoup4->nbconvert>=5->notebook->-r requirements.txt (line 9)) (2.4.1)\n",
      "Requirement already satisfied: webencodings in /home/rweis/miniconda3/envs/tud-ea/lib/python3.9/site-packages (from bleach->nbconvert>=5->notebook->-r requirements.txt (line 9)) (0.5.1)\n",
      "Requirement already satisfied: sniffio>=1.1 in /home/rweis/miniconda3/envs/tud-ea/lib/python3.9/site-packages (from anyio>=3.1.0->jupyter-server>=1.8->nbclassic>=0.4.7->notebook->-r requirements.txt (line 9)) (1.3.0)\n",
      "Requirement already satisfied: idna>=2.8 in /home/rweis/miniconda3/envs/tud-ea/lib/python3.9/site-packages (from anyio>=3.1.0->jupyter-server>=1.8->nbclassic>=0.4.7->notebook->-r requirements.txt (line 9)) (3.4)\n",
      "Requirement already satisfied: pycparser in /home/rweis/miniconda3/envs/tud-ea/lib/python3.9/site-packages (from cffi>=1.0.1->argon2-cffi-bindings->argon2-cffi->notebook->-r requirements.txt (line 9)) (2.21)\n",
      "Requirement already satisfied: parso<0.9.0,>=0.8.0 in /home/rweis/miniconda3/envs/tud-ea/lib/python3.9/site-packages (from jedi>=0.16->ipython>=7.23.1->ipykernel->notebook->-r requirements.txt (line 9)) (0.8.3)\n",
      "Requirement already satisfied: pyyaml>=5.3 in /home/rweis/miniconda3/envs/tud-ea/lib/python3.9/site-packages (from jupyter-events>=0.4.0->jupyter-server>=1.8->nbclassic>=0.4.7->notebook->-r requirements.txt (line 9)) (6.0)\n",
      "Requirement already satisfied: rfc3339-validator in /home/rweis/miniconda3/envs/tud-ea/lib/python3.9/site-packages (from jupyter-events>=0.4.0->jupyter-server>=1.8->nbclassic>=0.4.7->notebook->-r requirements.txt (line 9)) (0.1.4)\n",
      "Requirement already satisfied: rfc3986-validator>=0.1.1 in /home/rweis/miniconda3/envs/tud-ea/lib/python3.9/site-packages (from jupyter-events>=0.4.0->jupyter-server>=1.8->nbclassic>=0.4.7->notebook->-r requirements.txt (line 9)) (0.1.1)\n",
      "Requirement already satisfied: python-json-logger>=2.0.4 in /home/rweis/miniconda3/envs/tud-ea/lib/python3.9/site-packages (from jupyter-events>=0.4.0->jupyter-server>=1.8->nbclassic>=0.4.7->notebook->-r requirements.txt (line 9)) (2.0.7)\n",
      "Requirement already satisfied: wcwidth in /home/rweis/miniconda3/envs/tud-ea/lib/python3.9/site-packages (from prompt-toolkit!=3.0.37,<3.1.0,>=3.0.30->ipython>=7.23.1->ipykernel->notebook->-r requirements.txt (line 9)) (0.2.6)\n",
      "Requirement already satisfied: asttokens>=2.1.0 in /home/rweis/miniconda3/envs/tud-ea/lib/python3.9/site-packages (from stack-data->ipython>=7.23.1->ipykernel->notebook->-r requirements.txt (line 9)) (2.2.1)\n",
      "Requirement already satisfied: pure-eval in /home/rweis/miniconda3/envs/tud-ea/lib/python3.9/site-packages (from stack-data->ipython>=7.23.1->ipykernel->notebook->-r requirements.txt (line 9)) (0.2.2)\n",
      "Requirement already satisfied: executing>=1.2.0 in /home/rweis/miniconda3/envs/tud-ea/lib/python3.9/site-packages (from stack-data->ipython>=7.23.1->ipykernel->notebook->-r requirements.txt (line 9)) (1.2.0)\n",
      "Requirement already satisfied: fqdn in /home/rweis/miniconda3/envs/tud-ea/lib/python3.9/site-packages (from jsonschema>=2.6->nbformat->notebook->-r requirements.txt (line 9)) (1.5.1)\n",
      "Requirement already satisfied: jsonpointer>1.13 in /home/rweis/miniconda3/envs/tud-ea/lib/python3.9/site-packages (from jsonschema>=2.6->nbformat->notebook->-r requirements.txt (line 9)) (2.3)\n",
      "Requirement already satisfied: uri-template in /home/rweis/miniconda3/envs/tud-ea/lib/python3.9/site-packages (from jsonschema>=2.6->nbformat->notebook->-r requirements.txt (line 9)) (1.2.0)\n",
      "Requirement already satisfied: webcolors>=1.11 in /home/rweis/miniconda3/envs/tud-ea/lib/python3.9/site-packages (from jsonschema>=2.6->nbformat->notebook->-r requirements.txt (line 9)) (1.13)\n",
      "Requirement already satisfied: isoduration in /home/rweis/miniconda3/envs/tud-ea/lib/python3.9/site-packages (from jsonschema>=2.6->nbformat->notebook->-r requirements.txt (line 9)) (20.11.0)\n",
      "Requirement already satisfied: arrow>=0.15.0 in /home/rweis/miniconda3/envs/tud-ea/lib/python3.9/site-packages (from isoduration->jsonschema>=2.6->nbformat->notebook->-r requirements.txt (line 9)) (1.2.3)\n",
      "Note: you may need to restart the kernel to use updated packages.\n"
     ]
    }
   ],
   "source": [
    "%pip install -r requirements.txt"
   ]
  },
  {
   "attachments": {},
   "cell_type": "markdown",
   "metadata": {},
   "source": [
    "## Imports\n",
    "Imports from the standard genepro-multi library are done here. Any adjustments (e.g. different operators) should be made in the notebook."
   ]
  },
  {
   "cell_type": "code",
   "execution_count": 2,
   "metadata": {},
   "outputs": [],
   "source": [
    "import gymnasium as gym\n",
    "\n",
    "from genepro.node_impl import *\n",
    "from genepro.evo import Evolution\n",
    "from genepro.node_impl import Constant\n",
    "\n",
    "import torch\n",
    "import torch.optim as optim\n",
    "\n",
    "import random\n",
    "import os\n",
    "import copy\n",
    "from collections import namedtuple, deque\n",
    "\n",
    "import matplotlib.pyplot as plt\n",
    "from matplotlib import animation"
   ]
  },
  {
   "attachments": {},
   "cell_type": "markdown",
   "metadata": {},
   "source": [
    "## Reinforcement Learning Setup\n",
    "Here we first setup the Gymnasium environment. Please see https://gymnasium.farama.org/environments/box2d/lunar_lander/ for more information on the environment. \n",
    "\n",
    "Then a memory buffer is made. This is a buffer in which state transitions are stored. When the buffer reaches its maximum capacity old transitions are replaced by new ones.\n",
    "\n",
    "A frame buffer is initialised used to later store animation frames of the environment."
   ]
  },
  {
   "cell_type": "code",
   "execution_count": 3,
   "metadata": {},
   "outputs": [],
   "source": [
    "env = gym.make(\"LunarLander-v2\", render_mode=\"rgb_array\")"
   ]
  },
  {
   "cell_type": "code",
   "execution_count": 4,
   "metadata": {},
   "outputs": [],
   "source": [
    "Transition = namedtuple('Transition', ('state', 'action', 'next_state', 'reward'))\n",
    "\n",
    "class ReplayMemory(object):\n",
    "    def __init__(self, capacity):\n",
    "        self.memory = deque([], maxlen=capacity)\n",
    "\n",
    "    def push(self, *args):\n",
    "        \"\"\"Save a transition\"\"\"\n",
    "        self.memory.append(Transition(*args))\n",
    "\n",
    "    def sample(self, batch_size):\n",
    "        return random.sample(self.memory, batch_size)\n",
    "\n",
    "    def __len__(self):\n",
    "        return len(self.memory)\n",
    "\n",
    "    def __iadd__(self, other):\n",
    "      self.memory += other.memory\n",
    "      return self \n",
    "\n",
    "    def __add__(self, other):\n",
    "      self.memory = self.memory + other.memory \n",
    "      return self"
   ]
  },
  {
   "cell_type": "code",
   "execution_count": 5,
   "metadata": {},
   "outputs": [],
   "source": [
    "frames = []"
   ]
  },
  {
   "attachments": {},
   "cell_type": "markdown",
   "metadata": {},
   "source": [
    "## Fitness Function\n",
    "\n",
    "Here you get to be creative. The default setup evaluates 5 episodes of 300 frames. Think of what action to pick and what fitness function to use. The Multi-tree takes an input of $n \\times d$ where $n$ is a batch of size 1."
   ]
  },
  {
   "cell_type": "code",
   "execution_count": 6,
   "metadata": {},
   "outputs": [],
   "source": [
    "def fitness_function_pt(multitree, generation, num_episodes=5, episode_duration=300, render=False, ignore_done=False):\n",
    "  memory = ReplayMemory(10000)\n",
    "  rewards = []\n",
    "  for i in range(num_episodes):\n",
    "    episode_rewards = 0\n",
    "    # get initial state of the environment\n",
    "    observation = env.reset(seed=(generation*1000 + i))\n",
    "    observation = observation[0]\n",
    "    \n",
    "    for _ in range(episode_duration):\n",
    "      if render:\n",
    "        frames.append(env.render())\n",
    "\n",
    "      input_sample = torch.from_numpy(observation.reshape((1,-1))).float()\n",
    "      \n",
    "      action = torch.argmax(multitree.get_output_pt(input_sample))\n",
    "      observation, reward, terminated, truncated, info = env.step(action.item())\n",
    "      episode_rewards += reward\n",
    "      output_sample = torch.from_numpy(observation.reshape((1,-1))).float()\n",
    "      memory.push(input_sample, torch.tensor([[action.item()]]), output_sample, torch.tensor([reward]))\n",
    "      if (terminated or truncated) and not ignore_done:\n",
    "        break\n",
    "\n",
    "    rewards.append(episode_rewards)\n",
    "    \n",
    "  fitness = np.mean(rewards)  - (np.std(rewards) / 2)\n",
    "  return fitness, memory"
   ]
  },
  {
   "attachments": {},
   "cell_type": "markdown",
   "metadata": {},
   "source": [
    "## Evolution Setup\n",
    "Here the leaf and internal nodes are defined. Think about the odds of sampling a constant in this default configurations. Also think about any operators that could be useful and add them here. \n",
    "\n",
    "Adjust the population size (multiple of 8 if you want to use the standard tournament selection), max generations and max tree size to taste. Be aware that each of these settings can increase the runtime."
   ]
  },
  {
   "cell_type": "code",
   "execution_count": 8,
   "metadata": {},
   "outputs": [],
   "source": [
    "num_features = env.observation_space.shape[0]\n",
    "leaf_nodes = [Feature(i) for i in range(num_features)] + [Constant() for _ in range(1)]\n",
    "internal_nodes = [Plus(), Minus(), Times(), Div(), Square(), Sqrt(), Log(), Sin(), Cos(), Max(), Min()] #Add your own operators here\n",
    "\n",
    "evo = Evolution(\n",
    "  fitness_function_pt, internal_nodes, leaf_nodes,\n",
    "  4,\n",
    "  pop_size=256,\n",
    "  max_gens=50,\n",
    "  max_tree_size=31,\n",
    "  n_jobs=8,\n",
    "  verbose=True)"
   ]
  },
  {
   "attachments": {},
   "cell_type": "markdown",
   "metadata": {},
   "source": [
    "## Evolve\n",
    "Running this cell will use all the settings above as parameters"
   ]
  },
  {
   "cell_type": "code",
   "execution_count": 9,
   "metadata": {},
   "outputs": [
    {
     "name": "stdout",
     "output_type": "stream",
     "text": [
      "Generation: 1\n",
      "\tBest - \tFitness: 16.951, Size: 23\n",
      "\tPopulation - \tAverage Fitness: -254.3121318282415\n",
      "Generation: 2\n",
      "\tBest - \tFitness: -80.488, Size: 13\n",
      "\tPopulation - \tAverage Fitness: -303.8623601341095\n",
      "Generation: 3\n",
      "\tBest - \tFitness: -25.904, Size: 13\n",
      "\tPopulation - \tAverage Fitness: -192.48682812458188\n",
      "Generation: 4\n",
      "\tBest - \tFitness: -68.905, Size: 30\n",
      "\tPopulation - \tAverage Fitness: -231.17053660321432\n",
      "Generation: 5\n",
      "\tBest - \tFitness: -41.860, Size: 23\n",
      "\tPopulation - \tAverage Fitness: -220.13529757416225\n",
      "Generation: 6\n",
      "\tBest - \tFitness: -35.239, Size: 15\n",
      "\tPopulation - \tAverage Fitness: -217.90544665011268\n",
      "Generation: 7\n",
      "\tBest - \tFitness: -42.465, Size: 25\n",
      "\tPopulation - \tAverage Fitness: -195.95269737490702\n",
      "Generation: 8\n",
      "\tBest - \tFitness: -48.004, Size: 23\n",
      "\tPopulation - \tAverage Fitness: -141.54022793859994\n",
      "Generation: 9\n",
      "\tBest - \tFitness: -40.962, Size: 24\n",
      "\tPopulation - \tAverage Fitness: -152.91929333471666\n",
      "Generation: 10\n",
      "\tBest - \tFitness: -46.244, Size: 27\n",
      "\tPopulation - \tAverage Fitness: -130.3204496855602\n",
      "Generation: 11\n",
      "\tBest - \tFitness: -41.204, Size: 31\n",
      "\tPopulation - \tAverage Fitness: -140.72817863222866\n",
      "Generation: 12\n",
      "\tBest - \tFitness: -39.696, Size: 28\n",
      "\tPopulation - \tAverage Fitness: -115.36691332230791\n",
      "Generation: 13\n",
      "\tBest - \tFitness: -43.274, Size: 14\n",
      "\tPopulation - \tAverage Fitness: -150.91036243382436\n",
      "Generation: 14\n",
      "\tBest - \tFitness: -36.153, Size: 28\n",
      "\tPopulation - \tAverage Fitness: -100.47434291184595\n",
      "Generation: 15\n",
      "\tBest - \tFitness: -44.269, Size: 17\n",
      "\tPopulation - \tAverage Fitness: -146.5579997411533\n",
      "Generation: 16\n",
      "\tBest - \tFitness: -3.937, Size: 28\n",
      "\tPopulation - \tAverage Fitness: -101.68953173033489\n",
      "Generation: 17\n",
      "\tBest - \tFitness: -40.376, Size: 26\n",
      "\tPopulation - \tAverage Fitness: -131.97744279894897\n",
      "Generation: 18\n",
      "\tBest - \tFitness: 15.156, Size: 23\n",
      "\tPopulation - \tAverage Fitness: -113.44746917515972\n",
      "Generation: 19\n",
      "\tBest - \tFitness: -44.823, Size: 28\n",
      "\tPopulation - \tAverage Fitness: -117.28362348587561\n",
      "Generation: 20\n",
      "\tBest - \tFitness: -3.394, Size: 26\n",
      "\tPopulation - \tAverage Fitness: -122.97286331960883\n",
      "Generation: 21\n",
      "\tBest - \tFitness: -50.233, Size: 20\n",
      "\tPopulation - \tAverage Fitness: -133.46155993895357\n",
      "Generation: 22\n",
      "\tBest - \tFitness: -41.301, Size: 29\n",
      "\tPopulation - \tAverage Fitness: -123.75523779659642\n",
      "Generation: 23\n",
      "\tBest - \tFitness: -22.796, Size: 29\n",
      "\tPopulation - \tAverage Fitness: -98.60175536629593\n",
      "Generation: 24\n",
      "\tBest - \tFitness: -21.330, Size: 29\n",
      "\tPopulation - \tAverage Fitness: -129.90528568625135\n",
      "Generation: 25\n",
      "\tBest - \tFitness: 112.299, Size: 23\n",
      "\tPopulation - \tAverage Fitness: -75.31592397018576\n",
      "Generation: 26\n",
      "\tBest - \tFitness: -27.202, Size: 29\n",
      "\tPopulation - \tAverage Fitness: -146.06524505159095\n",
      "Generation: 27\n",
      "\tBest - \tFitness: -15.751, Size: 30\n",
      "\tPopulation - \tAverage Fitness: -97.7673513081184\n"
     ]
    }
   ],
   "source": [
    "np.random.seed(42)\n",
    "evo.evolve()"
   ]
  },
  {
   "attachments": {},
   "cell_type": "markdown",
   "metadata": {},
   "source": [
    "# Test"
   ]
  },
  {
   "cell_type": "code",
   "execution_count": null,
   "metadata": {},
   "outputs": [],
   "source": [
    "def get_test_score(tree):\n",
    "    rewards = []\n",
    "\n",
    "    for i in range(10):\n",
    "      # get initial state\n",
    "      observation = env.reset(seed=i)\n",
    "      observation = observation[0]\n",
    "\n",
    "      for _ in range(500):    \n",
    "        # build up the input sample for GP\n",
    "        input_sample = torch.from_numpy(observation.reshape((1,-1))).float()\n",
    "        # get output (squeezing because it is encapsulated in an array)\n",
    "        output = tree.get_output_pt(input_sample)\n",
    "        action = torch.argmax(output)\n",
    "        observation, reward, terminated, truncated, info = env.step(action.item())\n",
    "        rewards.append(reward)\n",
    "\n",
    "        output_sample = torch.from_numpy(observation.reshape((1,-1))).float()\n",
    "        if (terminated or truncated):\n",
    "            break\n",
    "\n",
    "    fitness = np.sum(rewards)\n",
    "    \n",
    "    return fitness\n",
    "\n",
    "best = evo.best_of_gens[-1]\n",
    "\n",
    "print(best.get_readable_repr())\n",
    "print(get_test_score(best))"
   ]
  },
  {
   "attachments": {},
   "cell_type": "markdown",
   "metadata": {},
   "source": [
    "## Make an animation\n",
    "Here the best evolved individual is selected and one episode is rendered. Make sure to save your lunar landers over time to track progress and make comparisons."
   ]
  },
  {
   "cell_type": "code",
   "execution_count": null,
   "metadata": {},
   "outputs": [],
   "source": [
    "frames = []\n",
    "\n",
    "# gist to save gif from https://gist.github.com/botforge/64cbb71780e6208172bbf03cd9293553\n",
    "def save_frames_as_gif(frames, path='./', filename='evolved_lander.gif'):\n",
    "  plt.figure(figsize=(frames[0].shape[1] / 72.0, frames[0].shape[0] / 72.0), dpi=72)\n",
    "  patch = plt.imshow(frames[0])\n",
    "  plt.axis('off')\n",
    "  def animate(i):\n",
    "      patch.set_data(frames[i])\n",
    "  anim = animation.FuncAnimation(plt.gcf(), animate, frames = len(frames), interval=50)\n",
    "  anim.save(path + filename, writer='imagemagick', fps=60)\n",
    "\n",
    "frames = []\n",
    "fitness_function_pt(best, num_episodes=1, episode_duration=500, render=True, ignore_done=False)\n",
    "env.close()\n",
    "save_frames_as_gif(frames)"
   ]
  },
  {
   "attachments": {},
   "cell_type": "markdown",
   "metadata": {},
   "source": [
    "## Play animation"
   ]
  },
  {
   "attachments": {},
   "cell_type": "markdown",
   "metadata": {},
   "source": [
    "<img src=\"evolved_lander.gif\" width=\"750\">"
   ]
  },
  {
   "attachments": {},
   "cell_type": "markdown",
   "metadata": {},
   "source": [
    "## Optimisation\n",
    "The coefficients in the multi-tree aren't optimised. Here Q-learning (taken from https://pytorch.org/tutorials/intermediate/reinforcement_q_learning.html) is used to optimise the weights further. Incorporate coefficient optimisation in training your agent(s). Coefficient Optimisation can be expensive. Think about how often you want to optimise, when, which individuals etc."
   ]
  },
  {
   "cell_type": "code",
   "execution_count": null,
   "metadata": {},
   "outputs": [],
   "source": [
    "batch_size = 128\n",
    "GAMMA = 0.99\n",
    "\n",
    "constants = best.get_subtrees_consts()\n",
    "\n",
    "if len(constants)>0:\n",
    "  optimizer = optim.AdamW(constants, lr=1e-3, amsgrad=True)\n",
    "\n",
    "for _ in range(500):\n",
    "\n",
    "  if len(constants)>0 and len(evo.memory)>batch_size:\n",
    "    target_tree = copy.deepcopy(best)\n",
    "\n",
    "    transitions = evo.memory.sample(batch_size)\n",
    "    batch = Transition(*zip(*transitions))\n",
    "    \n",
    "    non_final_mask = torch.tensor(tuple(map(lambda s: s is not None,\n",
    "                                        batch.next_state)), dtype=torch.bool)\n",
    "\n",
    "    non_final_next_states = torch.cat([s for s in batch.next_state\n",
    "                                               if s is not None])\n",
    "    state_batch = torch.cat(batch.state)\n",
    "    action_batch = torch.cat(batch.action)\n",
    "    reward_batch = torch.cat(batch.reward)\n",
    "\n",
    "    state_action_values = best.get_output_pt(state_batch).gather(1, action_batch)\n",
    "    next_state_values = torch.zeros(batch_size, dtype=torch.float)\n",
    "    with torch.no_grad():\n",
    "      next_state_values[non_final_mask] = target_tree.get_output_pt(non_final_next_states).max(1)[0].float()\n",
    "\n",
    "    expected_state_action_values = (next_state_values * GAMMA) + reward_batch\n",
    "    \n",
    "    criterion = nn.SmoothL1Loss()\n",
    "    loss = criterion(state_action_values, expected_state_action_values.unsqueeze(1))\n",
    "   \n",
    "    # Optimize the model\n",
    "    optimizer.zero_grad()\n",
    "    loss.backward()\n",
    "    torch.nn.utils.clip_grad_value_(constants, 100)\n",
    "    optimizer.step()\n",
    "\n",
    "print(best.get_readable_repr())\n",
    "print(get_test_score(best))"
   ]
  },
  {
   "cell_type": "code",
   "execution_count": null,
   "metadata": {},
   "outputs": [],
   "source": [
    "frames = []\n",
    "fitness_function_pt(best, num_episodes=1, episode_duration=500, render=True, ignore_done=False)\n",
    "env.close()\n",
    "save_frames_as_gif(frames, filename='evolved_lander_RL.gif')"
   ]
  },
  {
   "attachments": {},
   "cell_type": "markdown",
   "metadata": {},
   "source": [
    "<img src=\"evolved_lander_RL.gif\" width=\"750\">"
   ]
  }
 ],
 "metadata": {
  "interpreter": {
   "hash": "8b0a5908a6891454a7e50dc6e5e918788a28048daba85f96cdc509b10ea9c204"
  },
  "kernelspec": {
   "display_name": "Python 3.9.16 ('env': venv)",
   "language": "python",
   "name": "python3"
  },
  "language_info": {
   "codemirror_mode": {
    "name": "ipython",
    "version": 3
   },
   "file_extension": ".py",
   "mimetype": "text/x-python",
   "name": "python",
   "nbconvert_exporter": "python",
   "pygments_lexer": "ipython3",
   "version": "3.9.16"
  }
 },
 "nbformat": 4,
 "nbformat_minor": 4
}
