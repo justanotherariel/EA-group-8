{
 "cells": [
  {
   "attachments": {},
   "cell_type": "markdown",
   "metadata": {},
   "source": [
    "# Evolving a Lunar Lander with differentiable Genetic Programming"
   ]
  },
  {
   "attachments": {},
   "cell_type": "markdown",
   "metadata": {},
   "source": [
    "## Installation\n",
    "To install the required libraries run the command:"
   ]
  },
  {
   "cell_type": "code",
   "execution_count": 2,
   "metadata": {
    "ExecuteTime": {
     "end_time": "2023-06-15T14:25:31.791680600Z",
     "start_time": "2023-06-15T14:25:31.504099500Z"
    }
   },
   "outputs": [],
   "source": [
    "install = False\n",
    "load_model = True\n",
    "merge_csv = True"
   ]
  },
  {
   "cell_type": "code",
   "execution_count": 3,
   "metadata": {
    "ExecuteTime": {
     "end_time": "2023-06-15T14:25:31.937550900Z",
     "start_time": "2023-06-15T14:25:31.504966600Z"
    }
   },
   "outputs": [],
   "source": [
    "# %%capture --no-display\n",
    "if install:\n",
    "    %pip install -r requirements.txt"
   ]
  },
  {
   "attachments": {},
   "cell_type": "markdown",
   "metadata": {},
   "source": [
    "## Imports\n",
    "Imports from the standard genepro-multi library are done here. Any adjustments (e.g. different operators) should be made in the notebook."
   ]
  },
  {
   "cell_type": "code",
   "execution_count": 4,
   "metadata": {
    "ExecuteTime": {
     "end_time": "2023-06-15T14:25:36.656118800Z",
     "start_time": "2023-06-15T14:25:31.545379200Z"
    }
   },
   "outputs": [],
   "source": [
    "import gymnasium as gym\n",
    "\n",
    "from genepro.node_impl import *\n",
    "from genepro.evo import Evolution\n",
    "from genepro.node_impl import Constant\n",
    "\n",
    "import torch\n",
    "import torch.optim as optim\n",
    "\n",
    "import random\n",
    "import os\n",
    "import copy\n",
    "from collections import namedtuple, deque\n",
    "\n",
    "import matplotlib.pyplot as plt\n",
    "from matplotlib import animation\n",
    "from sympy import simplify\n",
    "import pickle\n",
    "import os\n",
    "import glob\n",
    "import csv\n",
    "import pandas as pd\n",
    "import numpy as np"
   ]
  },
  {
   "attachments": {},
   "cell_type": "markdown",
   "metadata": {},
   "source": [
    "## Reinforcement Learning Setup\n",
    "Here we first setup the Gymnasium environment. Please see https://gymnasium.farama.org/environments/box2d/lunar_lander/ for more information on the environment. \n",
    "\n",
    "Then a memory buffer is made. This is a buffer in which state transitions are stored. When the buffer reaches its maximum capacity old transitions are replaced by new ones.\n",
    "\n",
    "A frame buffer is initialised used to later store animation frames of the environment."
   ]
  },
  {
   "cell_type": "code",
   "execution_count": 5,
   "metadata": {
    "ExecuteTime": {
     "end_time": "2023-06-15T14:25:36.842419100Z",
     "start_time": "2023-06-15T14:25:36.659650500Z"
    }
   },
   "outputs": [],
   "source": [
    "env = gym.make(\"LunarLander-v2\", render_mode=\"rgb_array\")"
   ]
  },
  {
   "cell_type": "code",
   "execution_count": 6,
   "metadata": {
    "ExecuteTime": {
     "end_time": "2023-06-15T14:25:36.865872800Z",
     "start_time": "2023-06-15T14:25:36.851794100Z"
    }
   },
   "outputs": [],
   "source": [
    "Transition = namedtuple('Transition', ('state', 'action', 'next_state', 'reward'))\n",
    "\n",
    "class ReplayMemory(object):\n",
    "    def __init__(self, capacity):\n",
    "        self.memory = deque([], maxlen=capacity)\n",
    "\n",
    "    def push(self, *args):\n",
    "        \"\"\"Save a transition\"\"\"\n",
    "        self.memory.append(Transition(*args))\n",
    "\n",
    "    def sample(self, batch_size):\n",
    "        return random.sample(self.memory, batch_size)\n",
    "\n",
    "    def __len__(self):\n",
    "        return len(self.memory)\n",
    "\n",
    "    def __iadd__(self, other):\n",
    "      self.memory += other.memory\n",
    "      return self \n",
    "\n",
    "    def __add__(self, other):\n",
    "      self.memory = self.memory + other.memory \n",
    "      return self"
   ]
  },
  {
   "cell_type": "code",
   "execution_count": 7,
   "metadata": {
    "ExecuteTime": {
     "end_time": "2023-06-15T14:25:36.892102Z",
     "start_time": "2023-06-15T14:25:36.865872800Z"
    }
   },
   "outputs": [],
   "source": [
    "frames = []"
   ]
  },
  {
   "attachments": {},
   "cell_type": "markdown",
   "metadata": {},
   "source": [
    "## Fitness Function\n",
    "\n",
    "Here you get to be creative. The default setup evaluates 5 episodes of 300 frames. Think of what action to pick and what fitness function to use. The Multi-tree takes an input of $n \\times d$ where $n$ is a batch of size 1."
   ]
  },
  {
   "cell_type": "code",
   "execution_count": 8,
   "metadata": {
    "ExecuteTime": {
     "end_time": "2023-06-15T14:25:36.912755300Z",
     "start_time": "2023-06-15T14:25:36.892102Z"
    }
   },
   "outputs": [],
   "source": [
    "def fitness_function_pt(multitree, generation, num_episodes=5, episode_duration=300, render=False, ignore_done=False):\n",
    "  memory = ReplayMemory(10000)\n",
    "  rewards = []\n",
    "\n",
    "  for i in range(num_episodes):\n",
    "    # get initial state of the environment\n",
    "    observation = env.reset(seed=(generation*1000 + i))\n",
    "    observation = observation[0]\n",
    "    \n",
    "    for _ in range(episode_duration):\n",
    "      if render:\n",
    "        frames.append(env.render())\n",
    "\n",
    "      input_sample = torch.from_numpy(observation.reshape((1,-1))).float()\n",
    "      \n",
    "      action = torch.argmax(multitree.get_output_pt(input_sample))\n",
    "      observation, reward, terminated, truncated, info = env.step(action.item())\n",
    "      rewards.append(reward)\n",
    "      output_sample = torch.from_numpy(observation.reshape((1,-1))).float()\n",
    "      memory.push(input_sample, torch.tensor([[action.item()]]), output_sample, torch.tensor([reward]))\n",
    "      if (terminated or truncated) and not ignore_done:\n",
    "        break\n",
    "\n",
    "  fitness = np.sum(rewards)/num_episodes\n",
    "  return fitness, memory"
   ]
  },
  {
   "attachments": {},
   "cell_type": "markdown",
   "metadata": {},
   "source": [
    "# Evolution Setup & Evolve\n",
    "Here the leaf and internal nodes are defined. Think about the odds of sampling a constant in this default configurations. Also think about any operators that could be useful and add them here. \n",
    "\n",
    "Adjust the population size (multiple of 8 if you want to use the standard tournament selection), max generations and max tree size to taste. Be aware that each of these settings can increase the runtime."
   ]
  },
  {
   "cell_type": "code",
   "execution_count": 9,
   "metadata": {
    "ExecuteTime": {
     "end_time": "2023-06-15T14:25:36.938853400Z",
     "start_time": "2023-06-15T14:25:36.912755300Z"
    }
   },
   "outputs": [],
   "source": [
    "# if load_model:\n",
    "    # %%script false\n",
    "# else:\n",
    "if not load_model:\n",
    "  np.random.seed(42)\n",
    "\n",
    "  num_features = env.observation_space.shape[0]\n",
    "  leaf_nodes = [Feature(i) for i in range(num_features)] + [Constant() for _ in range(1)]\n",
    "  internal_nodes = [Plus(), Minus(), Times(), Div(), Square(), Sqrt(), Log(), Sin(), Cos(), Max(), Min()] #Add your own operators here\n",
    "\n",
    "  # Run a few times to collect Data\n",
    "  for i in range(5):\n",
    "    print(f\"------ Evolution {i} ------\")\n",
    "    \n",
    "    evo = Evolution(\n",
    "      fitness_function_pt, internal_nodes, leaf_nodes,\n",
    "      4,\n",
    "      pop_size=256,\n",
    "      max_gens=50,\n",
    "      max_tree_size=31,\n",
    "      n_jobs=8,\n",
    "      log_data=True,\n",
    "      verbose=True)\n",
    "    \n",
    "    evo.evolve()"
   ]
  },
  {
   "attachments": {},
   "cell_type": "markdown",
   "metadata": {},
   "source": [
    "## Save the Evolution"
   ]
  },
  {
   "cell_type": "code",
   "execution_count": 10,
   "metadata": {
    "ExecuteTime": {
     "end_time": "2023-06-15T14:25:36.955695800Z",
     "start_time": "2023-06-15T14:25:36.928632900Z"
    }
   },
   "outputs": [],
   "source": [
    "if not load_model:\n",
    "    with open('baseline.pickle', 'wb') as file:\n",
    "        pickle.dump(evo, file, pickle.HIGHEST_PROTOCOL)"
   ]
  },
  {
   "attachments": {},
   "cell_type": "markdown",
   "metadata": {},
   "source": [
    "## Load the Evolution"
   ]
  },
  {
   "cell_type": "code",
   "execution_count": 11,
   "metadata": {
    "ExecuteTime": {
     "end_time": "2023-06-15T14:25:40.773900800Z",
     "start_time": "2023-06-15T14:25:36.955695800Z"
    }
   },
   "outputs": [],
   "source": [
    "evo = pickle.load(open('baseline.pickle', 'rb'))"
   ]
  },
  {
   "attachments": {},
   "cell_type": "markdown",
   "metadata": {},
   "source": [
    "# Testing, visualisation of the results"
   ]
  },
  {
   "attachments": {},
   "cell_type": "markdown",
   "metadata": {},
   "source": [
    "## Scoring and representation"
   ]
  },
  {
   "cell_type": "code",
   "execution_count": 12,
   "metadata": {
    "ExecuteTime": {
     "end_time": "2023-06-15T14:25:40.773900800Z",
     "start_time": "2023-06-15T14:25:40.773900800Z"
    }
   },
   "outputs": [],
   "source": [
    "def get_test_score(tree):\n",
    "    rewards = []\n",
    "\n",
    "    for i in range(10):\n",
    "      # get initial state\n",
    "      observation = env.reset(seed=i)\n",
    "      observation = observation[0]\n",
    "\n",
    "      for _ in range(500):    \n",
    "        # build up the input sample for GP\n",
    "        input_sample = torch.from_numpy(observation.reshape((1,-1))).float()\n",
    "        # get output (squeezing because it is encapsulated in an array)\n",
    "        output = tree.get_output_pt(input_sample)\n",
    "        action = torch.argmax(output)\n",
    "        observation, reward, terminated, truncated, info = env.step(action.item())\n",
    "        rewards.append(reward)\n",
    "\n",
    "        output_sample = torch.from_numpy(observation.reshape((1,-1))).float()\n",
    "        if (terminated or truncated):\n",
    "            break\n",
    "\n",
    "    fitness = np.mean(rewards)\n",
    "    \n",
    "    return fitness\n",
    "\n",
    "best = evo.best_of_gens[-1]\n",
    "representation = best.get_readable_repr()\n"
   ]
  },
  {
   "cell_type": "code",
   "execution_count": 13,
   "metadata": {
    "collapsed": false,
    "ExecuteTime": {
     "end_time": "2023-06-15T14:25:45.299628600Z",
     "start_time": "2023-06-15T14:25:40.773900800Z"
    }
   },
   "outputs": [
    {
     "name": "stdout",
     "output_type": "stream",
     "text": [
      "default:\n",
      "sqrt(abs(x_1))\n",
      "simple:\n",
      "sqrt(Abs(x_1))\n",
      "\n",
      "\n",
      "default:\n",
      "((sqrt(abs(x_1))+(sqrt(abs(x_1))+max(log(abs(x_7)),((x_3*x_5)+x_6))))+(sin(((sqrt(abs(x_1))+x_0)-sin(x_6)))+max(x_3,x_3)))\n",
      "simple:\n",
      "x_3 + sin(x_0 - sin(x_6) + sqrt(Abs(x_1))) + 2*sqrt(Abs(x_1)) + Max(x_3*x_5 + x_6, log(Abs(x_7)))\n",
      "\n",
      "\n",
      "default:\n",
      "(max(x_7,(x_5)**2)+((log(abs(x_3))+max(sqrt(abs(log(abs(x_2)))),sqrt(abs(x_0))))+sin(cos(x_0))))\n",
      "simple:\n",
      "log(Abs(x_3)) + sin(cos(x_0)) + Max(x_5**2, x_7) + Max(sqrt(Abs(x_0)), sqrt(Abs(log(Abs(x_2)))))\n",
      "\n",
      "\n",
      "default:\n",
      "((x_5-(sqrt(abs(x_4))-cos(sqrt(abs(sqrt(abs(x_6)))))))/sin(min(cos((cos(x_6)/sin((x_4-x_4)))),x_5)))\n",
      "simple:\n",
      "(x_5 + cos(Abs(x_6)**(1/4)) - sqrt(Abs(x_4)))/sin(Min(x_5, cos(zoo*cos(x_6))))\n",
      "\n",
      "\n"
     ]
    },
    {
     "name": "stderr",
     "output_type": "stream",
     "text": [
      "C:\\Users\\WK\\Anaconda3\\envs\\genepro23\\lib\\site-packages\\gymnasium\\utils\\passive_env_checker.py:233: DeprecationWarning: `np.bool8` is a deprecated alias for `np.bool_`.  (Deprecated NumPy 1.24)\n",
      "  if not isinstance(terminated, (bool, np.bool8)):\n"
     ]
    },
    {
     "name": "stdout",
     "output_type": "stream",
     "text": [
      "0.2913799299808232\n"
     ]
    }
   ],
   "source": [
    "for x in range(len(representation)):\n",
    "    print(\"default:\")\n",
    "    print(representation[x])\n",
    "    print(\"simple:\")\n",
    "    simpl_repr = simplify(representation[x])\n",
    "    print(simpl_repr)\n",
    "    print(\"\\n\")\n",
    "print(get_test_score(best))"
   ]
  },
  {
   "cell_type": "code",
   "execution_count": 14,
   "metadata": {
    "collapsed": false,
    "ExecuteTime": {
     "end_time": "2023-06-15T14:25:48.901563800Z",
     "start_time": "2023-06-15T14:25:45.299628600Z"
    }
   },
   "outputs": [
    {
     "name": "stdout",
     "output_type": "stream",
     "text": [
      "['sqrt(abs(x_1))', '((sqrt(abs(x_1))+(sqrt(abs(x_1))+max(log(abs(x_7)),((x_3*x_5)+x_6))))+(sin(((sqrt(abs(x_1))+x_0)-sin(x_6)))+max(x_3,x_3)))', '(max(x_7,(x_5)**2)+((log(abs(x_3))+max(sqrt(abs(log(abs(x_2)))),sqrt(abs(x_0))))+sin(cos(x_0))))', '((x_5-(sqrt(abs(x_4))-cos(sqrt(abs(sqrt(abs(x_6)))))))/sin(min(cos((cos(x_6)/sin((x_4-x_4)))),x_5)))']\n",
      "0.291379920635771\n"
     ]
    }
   ],
   "source": [
    "best = evo.best_of_gens[-1]\n",
    "representation = best.get_readable_repr()\n",
    "print(representation)\n",
    "print(get_test_score(best))\n"
   ]
  },
  {
   "attachments": {},
   "cell_type": "markdown",
   "metadata": {},
   "source": [
    "## Make plots"
   ]
  },
  {
   "attachments": {},
   "cell_type": "markdown",
   "metadata": {},
   "source": [
    "### Merge runs, by csv"
   ]
  },
  {
   "cell_type": "code",
   "execution_count": 15,
   "metadata": {
    "ExecuteTime": {
     "end_time": "2023-06-15T14:25:49.926884Z",
     "start_time": "2023-06-15T14:25:48.901563800Z"
    }
   },
   "outputs": [
    {
     "ename": "ValueError",
     "evalue": "malformed node or string: ['-129.0233973101214', '-128.51217367988474', '-252.81654952393987', '-153.59965562888812', '-129.0233973101214', '-128.8567429112322', '-172.26371016550434', '-535.1389189722822', '-558.8074346838282', '-129.0233973101214', '-127.93009863580718', '-129.0233973101214', '-170.66674360187497', '-129.0233973101214', '-129.0233973101214', '-116.76907618624827', '-254.291613221227', '-192.15903462975643', '-102.94963763090868', '-66.19334249348637', '-127.93009863580718', '-129.0233973101214', '-89.84638810915371', '-193.4539991037063', '-141.60844312434784', '-122.81630480187907', '-117.30499586669089', '-129.0233973101214', '-129.0233973101214', '-119.32116869769149', '-109.62104436783764', '-313.5412261376411', '-288.7255176635223', '-98.3285167726488', '-287.91537134225086', '-185.6213057543088', '-129.12876978459812', '-78.03408816126982', '-129.0233973101214', '-104.97616867682055', '-129.0233973101214', '-214.90196162892295', '-266.10556942519077', '-137.81744721228074', '-611.6560175163344', '-129.0233973101214', '-134.04492090961747', '-404.31093540690364', '-181.59323195861222', '-129.0233973101214', '-116.76936854682386', '-129.0233973101214', '-129.29141198171783', '-127.12733269523783', '-139.7265274306837', '-183.50880042607776', '-129.0233973101214', '-178.03507315476446', '-127.93009863580718', '-126.12297529341295', '-128.8567429112322', '-129.0233973101214', '-610.0078650228324', '-126.58200796841501', '-129.0233973101214', '-89.84638810915371', '-129.0233973101214', '-127.12733269523783', '-801.7425268379284', '-129.0233973101214', '-571.9996518605975', '-129.0233973101214', '-129.0233973101214', '-128.51217367988474', '-225.65541667579268', '-129.0233973101214', '-215.03261112834917', '-127.93009863580718', '-166.02380632416916', '-322.0766577938326', '-128.8567429112322', '-449.76892861342037', '-606.4273760673558', '-129.01108082327784', '-129.0233973101214', '-185.1080460223656', '-129.0233973101214', '-129.0233973101214', '-127.93009863580718', '-341.25930858170886', '-129.0233973101214', '-45.13266817869305', '-800.840351939163', '-129.98913532892328', '-116.76907618624827', '-294.5942673318333', '-128.74013897959804', '-129.0233973101214', '-129.0233973101214', '-78.03408816126982', '-116.76907618624827', '-147.69272276127512', '-271.01115944602986', '-84.36962299009636', '-129.0233973101214', '-129.0233973101214', '-854.4286061440143', '-129.0233973101214', '-623.0263314052107', '-129.0233973101214', '-127.93009863580718', '-128.8567429112322', '-104.97616867682055', '-110.76116467388483', '-128.21101743039247', '-129.12876978459812', '-153.59965562888812', '-135.001101966151', '-206.04951271534273', '-129.0233973101214', '-293.65885820672577', '-129.0233973101214', '-127.93009863580718', '-179.9265635027209', '-572.3112852175137', '-129.0233973101214', '-496.868896722009', '-129.0233973101214', '-191.01536333347312', '-169.36155084013154', '-107.69960151183652', '-102.94963763090868', '-129.0233973101214', '-128.51217367988474', '-129.0233973101214', '-129.0233973101214', '-129.0233973101214', '-127.93009863580718', '-151.5514304260643', '-430.7801540668146', '-127.12733269523783', '-78.03408816126982', '-129.0233973101214', '-129.0233973101214', '-128.21101743039247', '-129.0233973101214', '-127.4566669648968', '-127.93009863580718', '-135.001101966151', '-129.0233973101214', '-129.0233973101214', '-127.79806782107892', '-109.27646258542461', '-127.7358084944088', '-779.0410099708319', '-192.15903462975643', '-389.8619137529189', '-128.46175849472252', '-192.15903462975643', '-128.8567429112322', '-128.8567429112322', '-99.25675840958795', '-128.21101743039247', '-128.8567429112322', '-126.5153307477697', '-324.47994949090236', '-472.4433007507849', '-162.27856996666847', '-129.98913532892328', '-173.7565809575618', '-129.0233973101214', '-87.6403424764172', '-1110.2077740499515', '-128.8567429112322', '-129.0233973101214', '-313.43070108354857', '-129.0233973101214', '-141.17805127789376', '-78.03408816126982', '-119.27364734896707', '-127.12733269523783', '-129.0233973101214', '-151.5514304260643', '-191.05588857516955', '-128.51217367988474', '-129.0233973101214', '-180.63963626514715', '-116.76907618624827', '-288.7255176635223', '-172.19109520118505', '-129.0233973101214', '-129.0233973101214', '-129.0233973101214', '-117.02872064587052', '-129.0233973101214', '-109.96601198833082', '-152.60518873027345', '-129.0233973101214', '-129.0233973101214', '-172.49120017059815', '-107.69960151183652', '-76.34101480482778', '-128.8567429112322', '-183.99236572871536', '-104.97616867682055', '-134.40031704093275', '-234.24402972203015', '-123.69041022870172', '-192.15903462975643', '-129.0233973101214', '-185.6213057543088', '-68.49172739771939', '-129.0233973101214', '-129.0233973101214', '-181.59323195861222', '-132.16008144605357', '-135.001101966151', '-129.0233973101214', '-141.17805127789376', '-119.24171947016748', '-120.07579055125282', '-597.3906563654534', '-350.93268863191696', '-392.91932110284387', '-125.37838934343594', '-107.69960151183652', '-265.2819523111357', '-129.0233973101214', '-66.19334249348637', '-89.84638810915371', '-128.51217367988474', '-127.79806782107892', '-127.12733269523783', '-129.0233973101214', '-265.6334493947323', '-169.4120897009148', '-115.83771539379045', '-129.0233973101214', '-129.0233973101214', '-129.0233973101214', '-98.3285167726488', '-129.0233973101214', '-129.0233973101214', '-72.8140381538374', '-129.0233973101214', '-301.8603652843743', '-569.4684164100861', '-129.0233973101214', '-129.0233973101214', '-143.97762156171837', '-128.85415155852746', '-129.0233973101214', '-111.60637054705519', '-129.0233973101214', '-274.551213989796', '-128.8567429112322']",
     "output_type": "error",
     "traceback": [
      "\u001B[1;31m---------------------------------------------------------------------------\u001B[0m",
      "\u001B[1;31mValueError\u001B[0m                                Traceback (most recent call last)",
      "Cell \u001B[1;32mIn[15], line 27\u001B[0m\n\u001B[0;32m     19\u001B[0m \u001B[38;5;28;01mimport\u001B[39;00m \u001B[38;5;21;01mast\u001B[39;00m\n\u001B[0;32m     21\u001B[0m \u001B[38;5;66;03m# # Example list of strings\u001B[39;00m\n\u001B[0;32m     22\u001B[0m \u001B[38;5;66;03m# string_list = ['(42, -31.008967780041235)', '(43, -84.49012744923436)', '(44, -30.526799093246673)',\u001B[39;00m\n\u001B[0;32m     23\u001B[0m \u001B[38;5;66;03m#                '(45, 9.76065061269475)', '(46, 15.455921193225896)', '(47, -115.96278733998668)',\u001B[39;00m\n\u001B[0;32m     24\u001B[0m \u001B[38;5;66;03m#                '(48, -3.2837081747830394)', '(49, 28.089485223942813)']\u001B[39;00m\n\u001B[0;32m     25\u001B[0m \n\u001B[0;32m     26\u001B[0m \u001B[38;5;66;03m# Convert strings to lists\u001B[39;00m\n\u001B[1;32m---> 27\u001B[0m list_of_lists \u001B[38;5;241m=\u001B[39m [ast\u001B[38;5;241m.\u001B[39mliteral_eval(string) \u001B[38;5;28;01mfor\u001B[39;00m string \u001B[38;5;129;01min\u001B[39;00m csv_reader]\n\u001B[0;32m     29\u001B[0m \u001B[38;5;66;03m# Print the resulting list of lists\u001B[39;00m\n\u001B[0;32m     30\u001B[0m \u001B[38;5;28;01mfor\u001B[39;00m sublist \u001B[38;5;129;01min\u001B[39;00m list_of_lists:\n",
      "Cell \u001B[1;32mIn[15], line 27\u001B[0m, in \u001B[0;36m<listcomp>\u001B[1;34m(.0)\u001B[0m\n\u001B[0;32m     19\u001B[0m \u001B[38;5;28;01mimport\u001B[39;00m \u001B[38;5;21;01mast\u001B[39;00m\n\u001B[0;32m     21\u001B[0m \u001B[38;5;66;03m# # Example list of strings\u001B[39;00m\n\u001B[0;32m     22\u001B[0m \u001B[38;5;66;03m# string_list = ['(42, -31.008967780041235)', '(43, -84.49012744923436)', '(44, -30.526799093246673)',\u001B[39;00m\n\u001B[0;32m     23\u001B[0m \u001B[38;5;66;03m#                '(45, 9.76065061269475)', '(46, 15.455921193225896)', '(47, -115.96278733998668)',\u001B[39;00m\n\u001B[0;32m     24\u001B[0m \u001B[38;5;66;03m#                '(48, -3.2837081747830394)', '(49, 28.089485223942813)']\u001B[39;00m\n\u001B[0;32m     25\u001B[0m \n\u001B[0;32m     26\u001B[0m \u001B[38;5;66;03m# Convert strings to lists\u001B[39;00m\n\u001B[1;32m---> 27\u001B[0m list_of_lists \u001B[38;5;241m=\u001B[39m [\u001B[43mast\u001B[49m\u001B[38;5;241;43m.\u001B[39;49m\u001B[43mliteral_eval\u001B[49m\u001B[43m(\u001B[49m\u001B[43mstring\u001B[49m\u001B[43m)\u001B[49m \u001B[38;5;28;01mfor\u001B[39;00m string \u001B[38;5;129;01min\u001B[39;00m csv_reader]\n\u001B[0;32m     29\u001B[0m \u001B[38;5;66;03m# Print the resulting list of lists\u001B[39;00m\n\u001B[0;32m     30\u001B[0m \u001B[38;5;28;01mfor\u001B[39;00m sublist \u001B[38;5;129;01min\u001B[39;00m list_of_lists:\n",
      "File \u001B[1;32m~\\Anaconda3\\envs\\genepro23\\lib\\ast.py:105\u001B[0m, in \u001B[0;36mliteral_eval\u001B[1;34m(node_or_string)\u001B[0m\n\u001B[0;32m    103\u001B[0m                 \u001B[38;5;28;01mreturn\u001B[39;00m left \u001B[38;5;241m-\u001B[39m right\n\u001B[0;32m    104\u001B[0m     \u001B[38;5;28;01mreturn\u001B[39;00m _convert_signed_num(node)\n\u001B[1;32m--> 105\u001B[0m \u001B[38;5;28;01mreturn\u001B[39;00m \u001B[43m_convert\u001B[49m\u001B[43m(\u001B[49m\u001B[43mnode_or_string\u001B[49m\u001B[43m)\u001B[49m\n",
      "File \u001B[1;32m~\\Anaconda3\\envs\\genepro23\\lib\\ast.py:104\u001B[0m, in \u001B[0;36mliteral_eval.<locals>._convert\u001B[1;34m(node)\u001B[0m\n\u001B[0;32m    102\u001B[0m         \u001B[38;5;28;01melse\u001B[39;00m:\n\u001B[0;32m    103\u001B[0m             \u001B[38;5;28;01mreturn\u001B[39;00m left \u001B[38;5;241m-\u001B[39m right\n\u001B[1;32m--> 104\u001B[0m \u001B[38;5;28;01mreturn\u001B[39;00m \u001B[43m_convert_signed_num\u001B[49m\u001B[43m(\u001B[49m\u001B[43mnode\u001B[49m\u001B[43m)\u001B[49m\n",
      "File \u001B[1;32m~\\Anaconda3\\envs\\genepro23\\lib\\ast.py:78\u001B[0m, in \u001B[0;36mliteral_eval.<locals>._convert_signed_num\u001B[1;34m(node)\u001B[0m\n\u001B[0;32m     76\u001B[0m     \u001B[38;5;28;01melse\u001B[39;00m:\n\u001B[0;32m     77\u001B[0m         \u001B[38;5;28;01mreturn\u001B[39;00m \u001B[38;5;241m-\u001B[39m operand\n\u001B[1;32m---> 78\u001B[0m \u001B[38;5;28;01mreturn\u001B[39;00m \u001B[43m_convert_num\u001B[49m\u001B[43m(\u001B[49m\u001B[43mnode\u001B[49m\u001B[43m)\u001B[49m\n",
      "File \u001B[1;32m~\\Anaconda3\\envs\\genepro23\\lib\\ast.py:69\u001B[0m, in \u001B[0;36mliteral_eval.<locals>._convert_num\u001B[1;34m(node)\u001B[0m\n\u001B[0;32m     67\u001B[0m \u001B[38;5;28;01mdef\u001B[39;00m \u001B[38;5;21m_convert_num\u001B[39m(node):\n\u001B[0;32m     68\u001B[0m     \u001B[38;5;28;01mif\u001B[39;00m \u001B[38;5;129;01mnot\u001B[39;00m \u001B[38;5;28misinstance\u001B[39m(node, Constant) \u001B[38;5;129;01mor\u001B[39;00m \u001B[38;5;28mtype\u001B[39m(node\u001B[38;5;241m.\u001B[39mvalue) \u001B[38;5;129;01mnot\u001B[39;00m \u001B[38;5;129;01min\u001B[39;00m (\u001B[38;5;28mint\u001B[39m, \u001B[38;5;28mfloat\u001B[39m, \u001B[38;5;28mcomplex\u001B[39m):\n\u001B[1;32m---> 69\u001B[0m         \u001B[43m_raise_malformed_node\u001B[49m\u001B[43m(\u001B[49m\u001B[43mnode\u001B[49m\u001B[43m)\u001B[49m\n\u001B[0;32m     70\u001B[0m     \u001B[38;5;28;01mreturn\u001B[39;00m node\u001B[38;5;241m.\u001B[39mvalue\n",
      "File \u001B[1;32m~\\Anaconda3\\envs\\genepro23\\lib\\ast.py:66\u001B[0m, in \u001B[0;36mliteral_eval.<locals>._raise_malformed_node\u001B[1;34m(node)\u001B[0m\n\u001B[0;32m     65\u001B[0m \u001B[38;5;28;01mdef\u001B[39;00m \u001B[38;5;21m_raise_malformed_node\u001B[39m(node):\n\u001B[1;32m---> 66\u001B[0m     \u001B[38;5;28;01mraise\u001B[39;00m \u001B[38;5;167;01mValueError\u001B[39;00m(\u001B[38;5;124mf\u001B[39m\u001B[38;5;124m'\u001B[39m\u001B[38;5;124mmalformed node or string: \u001B[39m\u001B[38;5;132;01m{\u001B[39;00mnode\u001B[38;5;132;01m!r}\u001B[39;00m\u001B[38;5;124m'\u001B[39m)\n",
      "\u001B[1;31mValueError\u001B[0m: malformed node or string: ['-129.0233973101214', '-128.51217367988474', '-252.81654952393987', '-153.59965562888812', '-129.0233973101214', '-128.8567429112322', '-172.26371016550434', '-535.1389189722822', '-558.8074346838282', '-129.0233973101214', '-127.93009863580718', '-129.0233973101214', '-170.66674360187497', '-129.0233973101214', '-129.0233973101214', '-116.76907618624827', '-254.291613221227', '-192.15903462975643', '-102.94963763090868', '-66.19334249348637', '-127.93009863580718', '-129.0233973101214', '-89.84638810915371', '-193.4539991037063', '-141.60844312434784', '-122.81630480187907', '-117.30499586669089', '-129.0233973101214', '-129.0233973101214', '-119.32116869769149', '-109.62104436783764', '-313.5412261376411', '-288.7255176635223', '-98.3285167726488', '-287.91537134225086', '-185.6213057543088', '-129.12876978459812', '-78.03408816126982', '-129.0233973101214', '-104.97616867682055', '-129.0233973101214', '-214.90196162892295', '-266.10556942519077', '-137.81744721228074', '-611.6560175163344', '-129.0233973101214', '-134.04492090961747', '-404.31093540690364', '-181.59323195861222', '-129.0233973101214', '-116.76936854682386', '-129.0233973101214', '-129.29141198171783', '-127.12733269523783', '-139.7265274306837', '-183.50880042607776', '-129.0233973101214', '-178.03507315476446', '-127.93009863580718', '-126.12297529341295', '-128.8567429112322', '-129.0233973101214', '-610.0078650228324', '-126.58200796841501', '-129.0233973101214', '-89.84638810915371', '-129.0233973101214', '-127.12733269523783', '-801.7425268379284', '-129.0233973101214', '-571.9996518605975', '-129.0233973101214', '-129.0233973101214', '-128.51217367988474', '-225.65541667579268', '-129.0233973101214', '-215.03261112834917', '-127.93009863580718', '-166.02380632416916', '-322.0766577938326', '-128.8567429112322', '-449.76892861342037', '-606.4273760673558', '-129.01108082327784', '-129.0233973101214', '-185.1080460223656', '-129.0233973101214', '-129.0233973101214', '-127.93009863580718', '-341.25930858170886', '-129.0233973101214', '-45.13266817869305', '-800.840351939163', '-129.98913532892328', '-116.76907618624827', '-294.5942673318333', '-128.74013897959804', '-129.0233973101214', '-129.0233973101214', '-78.03408816126982', '-116.76907618624827', '-147.69272276127512', '-271.01115944602986', '-84.36962299009636', '-129.0233973101214', '-129.0233973101214', '-854.4286061440143', '-129.0233973101214', '-623.0263314052107', '-129.0233973101214', '-127.93009863580718', '-128.8567429112322', '-104.97616867682055', '-110.76116467388483', '-128.21101743039247', '-129.12876978459812', '-153.59965562888812', '-135.001101966151', '-206.04951271534273', '-129.0233973101214', '-293.65885820672577', '-129.0233973101214', '-127.93009863580718', '-179.9265635027209', '-572.3112852175137', '-129.0233973101214', '-496.868896722009', '-129.0233973101214', '-191.01536333347312', '-169.36155084013154', '-107.69960151183652', '-102.94963763090868', '-129.0233973101214', '-128.51217367988474', '-129.0233973101214', '-129.0233973101214', '-129.0233973101214', '-127.93009863580718', '-151.5514304260643', '-430.7801540668146', '-127.12733269523783', '-78.03408816126982', '-129.0233973101214', '-129.0233973101214', '-128.21101743039247', '-129.0233973101214', '-127.4566669648968', '-127.93009863580718', '-135.001101966151', '-129.0233973101214', '-129.0233973101214', '-127.79806782107892', '-109.27646258542461', '-127.7358084944088', '-779.0410099708319', '-192.15903462975643', '-389.8619137529189', '-128.46175849472252', '-192.15903462975643', '-128.8567429112322', '-128.8567429112322', '-99.25675840958795', '-128.21101743039247', '-128.8567429112322', '-126.5153307477697', '-324.47994949090236', '-472.4433007507849', '-162.27856996666847', '-129.98913532892328', '-173.7565809575618', '-129.0233973101214', '-87.6403424764172', '-1110.2077740499515', '-128.8567429112322', '-129.0233973101214', '-313.43070108354857', '-129.0233973101214', '-141.17805127789376', '-78.03408816126982', '-119.27364734896707', '-127.12733269523783', '-129.0233973101214', '-151.5514304260643', '-191.05588857516955', '-128.51217367988474', '-129.0233973101214', '-180.63963626514715', '-116.76907618624827', '-288.7255176635223', '-172.19109520118505', '-129.0233973101214', '-129.0233973101214', '-129.0233973101214', '-117.02872064587052', '-129.0233973101214', '-109.96601198833082', '-152.60518873027345', '-129.0233973101214', '-129.0233973101214', '-172.49120017059815', '-107.69960151183652', '-76.34101480482778', '-128.8567429112322', '-183.99236572871536', '-104.97616867682055', '-134.40031704093275', '-234.24402972203015', '-123.69041022870172', '-192.15903462975643', '-129.0233973101214', '-185.6213057543088', '-68.49172739771939', '-129.0233973101214', '-129.0233973101214', '-181.59323195861222', '-132.16008144605357', '-135.001101966151', '-129.0233973101214', '-141.17805127789376', '-119.24171947016748', '-120.07579055125282', '-597.3906563654534', '-350.93268863191696', '-392.91932110284387', '-125.37838934343594', '-107.69960151183652', '-265.2819523111357', '-129.0233973101214', '-66.19334249348637', '-89.84638810915371', '-128.51217367988474', '-127.79806782107892', '-127.12733269523783', '-129.0233973101214', '-265.6334493947323', '-169.4120897009148', '-115.83771539379045', '-129.0233973101214', '-129.0233973101214', '-129.0233973101214', '-98.3285167726488', '-129.0233973101214', '-129.0233973101214', '-72.8140381538374', '-129.0233973101214', '-301.8603652843743', '-569.4684164100861', '-129.0233973101214', '-129.0233973101214', '-143.97762156171837', '-128.85415155852746', '-129.0233973101214', '-111.60637054705519', '-129.0233973101214', '-274.551213989796', '-128.8567429112322']"
     ]
    }
   ],
   "source": [
    "Fit_summation = {}\n",
    "if merge_csv:\n",
    "    runs = 5\n",
    "    max_gens = 50\n",
    "    Fittest =np.zeros([runs,max_gens]) # initialize array to store fitness values\n",
    "    i = 0\n",
    "    j = 0\n",
    " \n",
    "    files = sorted( glob.glob(\"*.csv\"),key=os.path.getmtime )\n",
    "    # values = [ 1,2,3,4,5,6,7,8 ]\n",
    "\n",
    "    for file in files:\n",
    "        value = file.replace(\".csv\", \"\")\t# max tree size value\n",
    "        value = value.split(\"_\")[0]\n",
    "\n",
    "        with open(file, 'r') as f: # open one csv file for a run\n",
    "            csv_reader = csv.reader(f, delimiter='\\t')\n",
    "            idx=0\n",
    "            import ast\n",
    "\n",
    "            # # Example list of strings\n",
    "            # string_list = ['(42, -31.008967780041235)', '(43, -84.49012744923436)', '(44, -30.526799093246673)',\n",
    "            #                '(45, 9.76065061269475)', '(46, 15.455921193225896)', '(47, -115.96278733998668)',\n",
    "            #                '(48, -3.2837081747830394)', '(49, 28.089485223942813)']\n",
    "\n",
    "            # Convert strings to lists\n",
    "            list_of_lists = [ast.literal_eval(string) for string in csv_reader]\n",
    "\n",
    "            # Print the resulting list of lists\n",
    "            for sublist in list_of_lists:\n",
    "                print(sublist)\n",
    "\n",
    "            for row in csv_reader:\n",
    "                try:\n",
    "                    Fittest[i, idx] =  float(row[1])   # fitness for that generation and run\n",
    "                except:\n",
    "                    print(\"error\")\n",
    "                    print(file)\n",
    "                    print(row)\n",
    "                idx+=1    # generation number\n",
    "\n",
    "        i += 1\n",
    "\n",
    "        if i == 3:\n",
    "            i = 0\n",
    "            j += 1\n",
    "            new_csv = {value:np.sum(Fittest,axis=0)/5} \n",
    "            Fit_summation.update(new_csv)   # one vector with the average of all fitness values for that max tree size\n",
    "            with open('gen_merge_' + str(value) + '.csv','a') as f1:\n",
    "                writer = csv.writer(f1, delimiter='\\t',lineterminator='\\n',)\n",
    "                writer.writerow( zip(range(max_gens), Fit_summation[value]) )    \n"
   ]
  },
  {
   "attachments": {},
   "cell_type": "markdown",
   "metadata": {},
   "source": [
    "### Sort csv by run based on numbers given in the csv (not done so will not work)"
   ]
  },
  {
   "cell_type": "code",
   "execution_count": 16,
   "metadata": {
    "ExecuteTime": {
     "end_time": "2023-06-15T14:32:54.687423500Z",
     "start_time": "2023-06-15T14:32:54.295428200Z"
    }
   },
   "outputs": [
    {
     "name": "stdout",
     "output_type": "stream",
     "text": [
      "Couldn't find program: 'false'\n"
     ]
    }
   ],
   "source": [
    "%%script false\n",
    "files = sorted( glob.glob(\"*.csv\"),key=os.path.getmtime )\n",
    "values = [ 1,2,3,4,5,6,7,8,9,10]\n",
    "a=b=c=d=e=f=g=h=j=k=0\n",
    "for file in files:\n",
    "    value = file.replace(\".csv\", \"\")\t# max tree size value\n",
    "    value = int(value[17:])\n",
    "    print(file)\n",
    "    print(value)\n",
    "    if value == 1:\n",
    "        a = a+1\n",
    "        shutil.copyfile(file, str(value) + \"_\"+str(a)+'.csv')\n",
    "    if value == 2:\n",
    "        b = b+1\n",
    "        shutil.copyfile(file, str(value) + \"_\"+str(b)+'.csv')\n",
    "    if value == 3:\n",
    "        c = c+1\n",
    "        shutil.copyfile(file, str(value) + \"_\"+str(c)+'.csv')\n",
    "    if value == 4:\n",
    "        d = d+1\n",
    "        shutil.copyfile(file, str(value) + \"_\"+str(d)+'.csv')\n",
    "    if value == 5:\n",
    "        e = e+1\n",
    "        shutil.copyfile(file, str(value) + \"_\"+str(e)+'.csv')\n",
    "    if value == 6:\n",
    "        f = f+1\n",
    "        shutil.copyfile(file, str(value) + \"_\"+str(f)+'.csv')\n",
    "    if value == 7:\n",
    "        g = g+1\n",
    "        shutil.copyfile(file, str(value) + \"_\"+str(g)+'.csv')\n",
    "    if value == 8:\n",
    "        h = h+1\n",
    "        shutil.copyfile(file, str(value) + \"_\"+str(h)+'.csv')\n",
    "    if value == 9:\n",
    "        j = j+1\n",
    "        shutil.copyfile(file, str(value) + \"_\"+str(j)+'.csv')\n",
    "    if value == 10:\n",
    "        k = k+1\n",
    "        shutil.copyfile(file, str(value) + \"_\"+str(k)+'.csv')"
   ]
  },
  {
   "cell_type": "code",
   "execution_count": 17,
   "metadata": {
    "ExecuteTime": {
     "end_time": "2023-06-15T14:32:54.809056700Z",
     "start_time": "2023-06-15T14:32:54.321198700Z"
    }
   },
   "outputs": [
    {
     "name": "stdout",
     "output_type": "stream",
     "text": [
      "Couldn't find program: 'false'\n"
     ]
    }
   ],
   "source": [
    "%%script false\n",
    "values= ['1','2','3','4','5','6','7','8','9','10']\n",
    "plt.figure( facecolor=(1, 1, 1) )\n",
    "plt.title (\"Variations of atomic functions\")\n",
    "plt.xlabel(\"Generations\")\n",
    "plt.ylabel(\"Fitness\")\n",
    "for val in values:\n",
    "    print(val)\n",
    "    plt.plot( range(max_gens), Fit_summation[(val)], label=str(val) )\n",
    "    legned = plt.legend(loc='lower right', shadow=True)\n",
    "plt.savefig('gen_atomic_fitness.png', format='png', dpi=300)\n",
    "plt.show()"
   ]
  },
  {
   "cell_type": "code",
   "execution_count": 18,
   "metadata": {
    "ExecuteTime": {
     "end_time": "2023-06-15T14:32:55.133999900Z",
     "start_time": "2023-06-15T14:32:54.367665900Z"
    }
   },
   "outputs": [
    {
     "ename": "KeyError",
     "evalue": "'baseline'",
     "output_type": "error",
     "traceback": [
      "\u001B[1;31m---------------------------------------------------------------------------\u001B[0m",
      "\u001B[1;31mKeyError\u001B[0m                                  Traceback (most recent call last)",
      "Cell \u001B[1;32mIn[18], line 8\u001B[0m\n\u001B[0;32m      5\u001B[0m plt\u001B[38;5;241m.\u001B[39mxlabel(\u001B[38;5;124m\"\u001B[39m\u001B[38;5;124mGenerations\u001B[39m\u001B[38;5;124m\"\u001B[39m)\n\u001B[0;32m      6\u001B[0m plt\u001B[38;5;241m.\u001B[39mylabel(\u001B[38;5;124m\"\u001B[39m\u001B[38;5;124mFitness\u001B[39m\u001B[38;5;124m\"\u001B[39m)\n\u001B[1;32m----> 8\u001B[0m plt\u001B[38;5;241m.\u001B[39mplot( \u001B[38;5;28mrange\u001B[39m(max_gens), \u001B[43mFit_summation\u001B[49m\u001B[43m[\u001B[49m\u001B[38;5;124;43m'\u001B[39;49m\u001B[38;5;124;43mbaseline\u001B[39;49m\u001B[38;5;124;43m'\u001B[39;49m\u001B[43m]\u001B[49m, label\u001B[38;5;241m=\u001B[39m\u001B[38;5;28mstr\u001B[39m(\u001B[38;5;124m\"\u001B[39m\u001B[38;5;124mbaseline\u001B[39m\u001B[38;5;124m\"\u001B[39m) )\n\u001B[0;32m      9\u001B[0m legned \u001B[38;5;241m=\u001B[39m plt\u001B[38;5;241m.\u001B[39mlegend(loc\u001B[38;5;241m=\u001B[39m\u001B[38;5;124m'\u001B[39m\u001B[38;5;124mlower right\u001B[39m\u001B[38;5;124m'\u001B[39m, shadow\u001B[38;5;241m=\u001B[39m\u001B[38;5;28;01mTrue\u001B[39;00m)\n\u001B[0;32m     10\u001B[0m plt\u001B[38;5;241m.\u001B[39msavefig(\u001B[38;5;124m'\u001B[39m\u001B[38;5;124mgen_baseline_fitness.png\u001B[39m\u001B[38;5;124m'\u001B[39m, \u001B[38;5;28mformat\u001B[39m\u001B[38;5;241m=\u001B[39m\u001B[38;5;124m'\u001B[39m\u001B[38;5;124mpng\u001B[39m\u001B[38;5;124m'\u001B[39m, dpi\u001B[38;5;241m=\u001B[39m\u001B[38;5;241m300\u001B[39m)\n",
      "\u001B[1;31mKeyError\u001B[0m: 'baseline'"
     ]
    },
    {
     "data": {
      "text/plain": "<Figure size 640x480 with 1 Axes>",
      "image/png": "[encoded data removed]"
     },
     "metadata": {},
     "output_type": "display_data"
    }
   ],
   "source": [
    "max_gens = 50\n",
    "values= ['1']\n",
    "plt.figure( facecolor=(1, 1, 1) )\n",
    "plt.title (\"Comparison of x to baseline\")\n",
    "plt.xlabel(\"Generations\")\n",
    "plt.ylabel(\"Fitness\")\n",
    "\n",
    "plt.plot( range(max_gens), Fit_summation['baseline'], label=str(\"baseline\") )\n",
    "legned = plt.legend(loc='lower right', shadow=True)\n",
    "plt.savefig('gen_baseline_fitness.png', format='png', dpi=300)\n",
    "plt.show()"
   ]
  },
  {
   "attachments": {},
   "cell_type": "markdown",
   "metadata": {},
   "source": [
    "### Direct from CSV fitnesses"
   ]
  },
  {
   "cell_type": "code",
   "execution_count": null,
   "metadata": {
    "ExecuteTime": {
     "start_time": "2023-06-15T14:32:55.085996400Z"
    }
   },
   "outputs": [],
   "source": [
    "def plot(file, every_nth=1, title=None):\n",
    "    fitnesses = []\n",
    "    # store all fitnesses in a list\n",
    "    with open(file) as csv_file:\n",
    "        csv_reader = csv.reader(csv_file, delimiter='\\t')\n",
    "        for row in csv_reader:\n",
    "            fitnesses.append(row)\n",
    "    fitnesses_array = np.array(fitnesses, dtype=np.float32)  # Transpose for boxplot\n",
    "    filtered_fit_array = np.ma.masked_invalid(fitnesses_array).T\n",
    "\n",
    "    fig, ax = plt.subplots(1, 1, constrained_layout=True, figsize=(12, 8))\n",
    "    ax.set_xlabel(\"Generation\")\n",
    "    plt.boxplot(filtered_fit_array[:,::every_nth], showfliers=False)\n",
    "    # plt.xticks(np.arange(0, len(fitnesses), every_nth))\n",
    "    labels, _ = plt.xticks()\n",
    "    plt.xticks(labels, labels*every_nth-every_nth)\n",
    "    if title is not None:\n",
    "        plt.title(str(title))\n",
    "    plt.savefig('fig1.png')\n",
    "    plt.show()\n",
    "\n",
    "# Manual renaming of the file to be plotted\n",
    "# plot('fitnesses_baseline_v1.csv', every_nth=2, title='Baseline')\n",
    "plot('baseline.csv', every_nth=2, title='Baseline')"
   ]
  },
  {
   "attachments": {},
   "cell_type": "markdown",
   "metadata": {},
   "source": [
    "### Generate plot for mean fitness"
   ]
  },
  {
   "cell_type": "code",
   "execution_count": null,
   "metadata": {
    "ExecuteTime": {
     "start_time": "2023-06-15T14:32:55.091591900Z"
    }
   },
   "outputs": [],
   "source": [
    "runs = 5\n",
    "max_gens = 70 \n",
    "Fittest =np.zeros([runs,max_gens]) # initialize array to store fitness values\n",
    "i = 0\n",
    "j = 0\n",
    "\n",
    "Fit_summation = {}\n",
    "files = sorted( glob.glob(\"*.csv\"),key=os.path.getmtime )\n",
    "\n",
    "for file in files:\n",
    "    value = file.replace(\".csv\", \"\")\t# max tree size value\n",
    "    value = value.split(\"_\")[0]\n",
    "    print(value)\n",
    "\n",
    "    with open(file, 'r') as f: # open one csv file for a run\n",
    "        csv_reader = csv.reader(f, delimiter='\\t')\n",
    "        idx=0\n",
    "        for row in csv_reader:\n",
    "            try:\n",
    "                Fittest[i, idx] =  float(row[3])   # fitness for that generation and run\n",
    "            except:\n",
    "                print(\"error\")\n",
    "                print(file)\n",
    "                print(row)\n",
    "            idx+=1    # generation number\n",
    "    i += 1\n",
    "    if i == 3:\n",
    "        i = 0\n",
    "        j += 1\n",
    "        new_csv = {value:np.sum(Fittest,axis=0)/5} \n",
    "        Fit_summation.update(new_csv)   # one vector with the average of all fitness values for that max tree size\n",
    "        with open('gen_median_' + str(value) + '.csv','a') as f1:\n",
    "          writer = csv.writer(f1, delimiter='\\t',lineterminator='\\n',)\n",
    "          writer.writerow( zip(range(max_gens), Fit_summation[value]) )    \n"
   ]
  },
  {
   "cell_type": "code",
   "execution_count": null,
   "metadata": {
    "ExecuteTime": {
     "start_time": "2023-06-15T14:32:55.098956800Z"
    }
   },
   "outputs": [],
   "source": [
    "plt.figure( facecolor=(1, 1, 1) )\n",
    "plt.title (\"Variations of atomic functions\")\n",
    "plt.xlabel(\"Generations\")\n",
    "plt.ylabel(\"Median of the fitness\")\n",
    "for val in values:\n",
    "    print(val)\n",
    "    plt.plot( range(max_gens), Fit_summation['baseline'], label=str(val) )\n",
    "    legned = plt.legend(loc='lower right', shadow=True)\n",
    "plt.savefig('gen_atomic_median.png', format='png', dpi=300)\n",
    "plt.show()"
   ]
  },
  {
   "attachments": {},
   "cell_type": "markdown",
   "metadata": {},
   "source": [
    "Plot fitness for one run"
   ]
  },
  {
   "cell_type": "code",
   "execution_count": null,
   "metadata": {
    "ExecuteTime": {
     "start_time": "2023-06-15T14:32:55.105264Z"
    }
   },
   "outputs": [],
   "source": [
    "data = {\n",
    "    'gen': [],\n",
    "    'Fit_best': [],\n",
    "    'Size_best': []\n",
    "}\n",
    "\n",
    "df = pd.DataFrame(data)\n",
    "\n",
    "with open('gen.csv', 'r') as f:\n",
    "    csv_reader = csv.reader(f, delimiter='\\t')\n",
    "    for row in csv_reader:\n",
    "        new_row = {'gen': row[0], 'Fit_best': row[1], 'Size_best': row[2]}\n",
    "        df = pd.concat([df, pd.DataFrame(new_row, index=[0])], ignore_index=True)\n",
    "\n",
    "print(df)"
   ]
  },
  {
   "cell_type": "code",
   "execution_count": null,
   "metadata": {
    "ExecuteTime": {
     "start_time": "2023-06-15T14:32:55.113057200Z"
    }
   },
   "outputs": [],
   "source": [
    "def fitBoxplot(file, every_nth=1):\n",
    "    fitnesses = []\n",
    "    # store all fitnesses in a list\n",
    "    with open(file) as csv_file:\n",
    "        csv_reader = csv.reader(csv_file, delimiter='\\t')\n",
    "        for row in csv_reader:\n",
    "            fitnesses.append(row)\n",
    "    fitnesses_array = np.array(fitnesses, dtype=np.float32)  # Transpose for boxplot\n",
    "    filtered_fit_array = np.ma.masked_invalid(fitnesses_array).T\n",
    "\n",
    "    fig = plt.figure(figsize=(10,5))  # Use this to size the figure\n",
    "    ax = fig.add_axes([0,0,1,1])\n",
    "    ax.set_xlabel(\"Generation\")\n",
    "    plt.boxplot(filtered_fit_array[:,::every_nth], showfliers=False)\n",
    "    # plt.xticks(np.arange(0, len(fitnesses), every_nth))\n",
    "    labels, _ = plt.xticks()\n",
    "    plt.xticks(labels, labels*every_nth-every_nth)\n",
    "    plt.show()"
   ]
  },
  {
   "cell_type": "code",
   "execution_count": null,
   "metadata": {},
   "outputs": [],
   "source": [
    "files = sorted( glob.glob(\"fitness*.csv\"),key=os.path.getmtime )\n",
    "for file in files:\n",
    "    fitBoxplot(file, every_nth=5)\n",
    "# This file is on my pc only, get your own fitness file by runing and evlution with save_fitnesses=True\n",
    "# plot('fitnesses20220617003333.csv', every_nth=5)\n"
   ]
  },
  {
   "cell_type": "code",
   "execution_count": null,
   "metadata": {},
   "outputs": [],
   "source": []
  },
  {
   "attachments": {},
   "cell_type": "markdown",
   "metadata": {},
   "source": [
    "## Animations"
   ]
  },
  {
   "attachments": {},
   "cell_type": "markdown",
   "metadata": {},
   "source": [
    "### Make an animation\n",
    "Here the best evolved individual is selected and one episode is rendered. Make sure to save your lunar landers over time to track progress and make comparisons."
   ]
  },
  {
   "cell_type": "code",
   "execution_count": null,
   "metadata": {},
   "outputs": [],
   "source": [
    "frames = []\n",
    "\n",
    "# gist to save gif from https://gist.github.com/botforge/64cbb71780e6208172bbf03cd9293553\n",
    "def save_frames_as_gif(frames, path='./', filename='evolved_lander.gif'):\n",
    "  plt.figure(figsize=(frames[0].shape[1] / 72.0, frames[0].shape[0] / 72.0), dpi=72)\n",
    "  patch = plt.imshow(frames[0])\n",
    "  plt.axis('off')\n",
    "  def animate(i):\n",
    "      patch.set_data(frames[i])\n",
    "  anim = animation.FuncAnimation(plt.gcf(), animate, frames = len(frames), interval=50)\n",
    "  anim.save(path + filename, writer='imagemagick', fps=60)\n",
    "\n",
    "frames = []\n",
    "fitness_function_pt(best, generation = 0, num_episodes=1, episode_duration=500, render=True, ignore_done=False)\n",
    "env.close()\n",
    "save_frames_as_gif(frames)"
   ]
  },
  {
   "attachments": {},
   "cell_type": "markdown",
   "metadata": {},
   "source": [
    "### Play animation"
   ]
  },
  {
   "attachments": {},
   "cell_type": "markdown",
   "metadata": {},
   "source": [
    "<img src=\"evolved_lander.gif\" width=\"750\">"
   ]
  },
  {
   "attachments": {},
   "cell_type": "markdown",
   "metadata": {},
   "source": [
    "## Optimisation\n",
    "The coefficients in the multi-tree aren't optimised. Here Q-learning (taken from https://pytorch.org/tutorials/intermediate/reinforcement_q_learning.html) is used to optimise the weights further. Incorporate coefficient optimisation in training your agent(s). Coefficient Optimisation can be expensive. Think about how often you want to optimise, when, which individuals etc."
   ]
  },
  {
   "cell_type": "code",
   "execution_count": null,
   "metadata": {},
   "outputs": [],
   "source": [
    "batch_size = 128\n",
    "GAMMA = 0.99\n",
    "\n",
    "constants = best.get_subtrees_consts()\n",
    "\n",
    "if len(constants)>0:\n",
    "  optimizer = optim.AdamW(constants, lr=1e-3, amsgrad=True)\n",
    "\n",
    "for _ in range(500):\n",
    "\n",
    "  if len(constants)>0 and len(evo.memory)>batch_size:\n",
    "    target_tree = copy.deepcopy(best)\n",
    "\n",
    "    transitions = evo.memory.sample(batch_size)\n",
    "    batch = Transition(*zip(*transitions))\n",
    "    \n",
    "    non_final_mask = torch.tensor(tuple(map(lambda s: s is not None,\n",
    "                                        batch.next_state)), dtype=torch.bool)\n",
    "\n",
    "    non_final_next_states = torch.cat([s for s in batch.next_state\n",
    "                                               if s is not None])\n",
    "    state_batch = torch.cat(batch.state)\n",
    "    action_batch = torch.cat(batch.action)\n",
    "    reward_batch = torch.cat(batch.reward)\n",
    "\n",
    "    state_action_values = best.get_output_pt(state_batch).gather(1, action_batch)\n",
    "    next_state_values = torch.zeros(batch_size, dtype=torch.float)\n",
    "    with torch.no_grad():\n",
    "      next_state_values[non_final_mask] = target_tree.get_output_pt(non_final_next_states).max(1)[0].float()\n",
    "\n",
    "    expected_state_action_values = (next_state_values * GAMMA) + reward_batch\n",
    "    \n",
    "    criterion = nn.SmoothL1Loss()\n",
    "    loss = criterion(state_action_values, expected_state_action_values.unsqueeze(1))\n",
    "   \n",
    "    # Optimize the model\n",
    "    optimizer.zero_grad()\n",
    "    loss.backward()\n",
    "    torch.nn.utils.clip_grad_value_(constants, 100)\n",
    "    optimizer.step()\n",
    "\n",
    "print(best.get_readable_repr())\n",
    "print(get_test_score(best))"
   ]
  },
  {
   "cell_type": "code",
   "execution_count": null,
   "metadata": {},
   "outputs": [],
   "source": [
    "frames = []\n",
    "fitness_function_pt(best, num_episodes=1, episode_duration=500, render=True, ignore_done=False)\n",
    "env.close()\n",
    "save_frames_as_gif(frames, filename='evolved_lander_RL.gif')"
   ]
  },
  {
   "attachments": {},
   "cell_type": "markdown",
   "metadata": {},
   "source": [
    "<img src=\"evolved_lander_RL.gif\" width=\"750\">"
   ]
  }
 ],
 "metadata": {
  "interpreter": {
   "hash": "224d5cd9c6b0ee09a4fcb288b4f99402d88b7b3d7b0cb6a08c577691994ebb89"
  },
  "kernelspec": {
   "display_name": "Python 3.9.16 ('env': venv)",
   "language": "python",
   "name": "python3"
  },
  "language_info": {
   "codemirror_mode": {
    "name": "ipython",
    "version": 3
   },
   "file_extension": ".py",
   "mimetype": "text/x-python",
   "name": "python",
   "nbconvert_exporter": "python",
   "pygments_lexer": "ipython3",
   "version": "3.9.16"
  }
 },
 "nbformat": 4,
 "nbformat_minor": 4
}
