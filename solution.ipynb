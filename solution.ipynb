{
 "cells": [
  {
   "attachments": {},
   "cell_type": "markdown",
   "metadata": {},
   "source": [
    "# Evolving a Lunar Lander with differentiable Genetic Programming"
   ]
  },
  {
   "attachments": {},
   "cell_type": "markdown",
   "metadata": {},
   "source": [
    "## Installation\n",
    "To install the required libraries run the command:"
   ]
  },
  {
   "cell_type": "code",
   "execution_count": 22,
   "metadata": {
    "ExecuteTime": {
     "end_time": "2023-06-15T11:13:25.020456700Z",
     "start_time": "2023-06-15T11:13:24.994000500Z"
    }
   },
   "outputs": [],
   "source": [
    "install = False\n",
    "load_model = True"
   ]
  },
  {
   "cell_type": "code",
   "execution_count": 23,
   "metadata": {
    "ExecuteTime": {
     "end_time": "2023-06-15T11:13:25.051413Z",
     "start_time": "2023-06-15T11:13:25.008266Z"
    }
   },
   "outputs": [],
   "source": [
    "# %%capture --no-display\n",
    "if install:\n",
    "    %pip install -r requirements.txt"
   ]
  },
  {
   "attachments": {},
   "cell_type": "markdown",
   "metadata": {},
   "source": [
    "## Imports\n",
    "Imports from the standard genepro-multi library are done here. Any adjustments (e.g. different operators) should be made in the notebook."
   ]
  },
  {
   "cell_type": "code",
   "execution_count": 24,
   "metadata": {
    "ExecuteTime": {
     "end_time": "2023-06-15T11:13:32.299610100Z",
     "start_time": "2023-06-15T11:13:25.026770900Z"
    }
   },
   "outputs": [],
   "source": [
    "import gymnasium as gym\n",
    "\n",
    "from genepro.node_impl import *\n",
    "from genepro.evo import Evolution\n",
    "from genepro.node_impl import Constant\n",
    "\n",
    "import torch\n",
    "import torch.optim as optim\n",
    "\n",
    "import random\n",
    "import os\n",
    "import copy\n",
    "from collections import namedtuple, deque\n",
    "\n",
    "import matplotlib.pyplot as plt\n",
    "from matplotlib import animation\n",
    "from sympy import simplify\n",
    "import pickle\n",
    "import os\n",
    "import glob\n",
    "import csv"
   ]
  },
  {
   "attachments": {},
   "cell_type": "markdown",
   "metadata": {},
   "source": [
    "## Reinforcement Learning Setup\n",
    "Here we first setup the Gymnasium environment. Please see https://gymnasium.farama.org/environments/box2d/lunar_lander/ for more information on the environment. \n",
    "\n",
    "Then a memory buffer is made. This is a buffer in which state transitions are stored. When the buffer reaches its maximum capacity old transitions are replaced by new ones.\n",
    "\n",
    "A frame buffer is initialised used to later store animation frames of the environment."
   ]
  },
  {
   "cell_type": "code",
   "execution_count": 25,
   "metadata": {
    "ExecuteTime": {
     "end_time": "2023-06-15T11:13:32.564689700Z",
     "start_time": "2023-06-15T11:13:32.305630Z"
    }
   },
   "outputs": [],
   "source": [
    "env = gym.make(\"LunarLander-v2\", render_mode=\"rgb_array\")"
   ]
  },
  {
   "cell_type": "code",
   "execution_count": 26,
   "metadata": {
    "ExecuteTime": {
     "end_time": "2023-06-15T11:13:32.615445500Z",
     "start_time": "2023-06-15T11:13:32.577546500Z"
    }
   },
   "outputs": [],
   "source": [
    "Transition = namedtuple('Transition', ('state', 'action', 'next_state', 'reward'))\n",
    "\n",
    "class ReplayMemory(object):\n",
    "    def __init__(self, capacity):\n",
    "        self.memory = deque([], maxlen=capacity)\n",
    "\n",
    "    def push(self, *args):\n",
    "        \"\"\"Save a transition\"\"\"\n",
    "        self.memory.append(Transition(*args))\n",
    "\n",
    "    def sample(self, batch_size):\n",
    "        return random.sample(self.memory, batch_size)\n",
    "\n",
    "    def __len__(self):\n",
    "        return len(self.memory)\n",
    "\n",
    "    def __iadd__(self, other):\n",
    "      self.memory += other.memory\n",
    "      return self \n",
    "\n",
    "    def __add__(self, other):\n",
    "      self.memory = self.memory + other.memory \n",
    "      return self"
   ]
  },
  {
   "cell_type": "code",
   "execution_count": 27,
   "metadata": {
    "ExecuteTime": {
     "end_time": "2023-06-15T11:13:32.616478100Z",
     "start_time": "2023-06-15T11:13:32.591780300Z"
    }
   },
   "outputs": [],
   "source": [
    "frames = []"
   ]
  },
  {
   "attachments": {},
   "cell_type": "markdown",
   "metadata": {},
   "source": [
    "## Fitness Function\n",
    "\n",
    "Here you get to be creative. The default setup evaluates 5 episodes of 300 frames. Think of what action to pick and what fitness function to use. The Multi-tree takes an input of $n \\times d$ where $n$ is a batch of size 1."
   ]
  },
  {
   "cell_type": "code",
   "execution_count": 28,
   "metadata": {
    "ExecuteTime": {
     "end_time": "2023-06-15T11:13:32.625690300Z",
     "start_time": "2023-06-15T11:13:32.606803200Z"
    }
   },
   "outputs": [],
   "source": [
    "def fitness_function_pt(multitree, generation, num_episodes=5, episode_duration=300, render=False, ignore_done=False):\n",
    "  memory = ReplayMemory(10000)\n",
    "  rewards = []\n",
    "\n",
    "  for i in range(num_episodes):\n",
    "    # get initial state of the environment\n",
    "    observation = env.reset(seed=(generation*1000 + i))\n",
    "    observation = observation[0]\n",
    "    \n",
    "    for _ in range(episode_duration):\n",
    "      if render:\n",
    "        frames.append(env.render())\n",
    "\n",
    "      input_sample = torch.from_numpy(observation.reshape((1,-1))).float()\n",
    "      \n",
    "      action = torch.argmax(multitree.get_output_pt(input_sample))\n",
    "      observation, reward, terminated, truncated, info = env.step(action.item())\n",
    "      rewards.append(reward)\n",
    "      output_sample = torch.from_numpy(observation.reshape((1,-1))).float()\n",
    "      memory.push(input_sample, torch.tensor([[action.item()]]), output_sample, torch.tensor([reward]))\n",
    "      if (terminated or truncated) and not ignore_done:\n",
    "        break\n",
    "\n",
    "  fitness = np.sum(rewards)/num_episodes\n",
    "  return fitness, memory"
   ]
  },
  {
   "attachments": {},
   "cell_type": "markdown",
   "metadata": {},
   "source": [
    "# Evolution Setup & Evolve\n",
    "Here the leaf and internal nodes are defined. Think about the odds of sampling a constant in this default configurations. Also think about any operators that could be useful and add them here. \n",
    "\n",
    "Adjust the population size (multiple of 8 if you want to use the standard tournament selection), max generations and max tree size to taste. Be aware that each of these settings can increase the runtime."
   ]
  },
  {
   "cell_type": "code",
   "execution_count": 29,
   "metadata": {
    "ExecuteTime": {
     "end_time": "2023-06-15T11:13:32.635663500Z",
     "start_time": "2023-06-15T11:13:32.624692600Z"
    }
   },
   "outputs": [],
   "source": [
    "# if load_model:\n",
    "    # %%script false\n",
    "# else:\n",
    "if not load_model:\n",
    "  np.random.seed(42)\n",
    "\n",
    "  num_features = env.observation_space.shape[0]\n",
    "  leaf_nodes = [Feature(i) for i in range(num_features)] + [Constant() for _ in range(1)]\n",
    "  internal_nodes = [Plus(), Minus(), Times(), Div(), Square(), Sqrt(), Log(), Sin(), Cos(), Max(), Min()] #Add your own operators here\n",
    "\n",
    "  # Run a few times to collect Data\n",
    "  for i in range(5):\n",
    "    print(f\"------ Evolution {i} ------\")\n",
    "    \n",
    "    evo = Evolution(\n",
    "      fitness_function_pt, internal_nodes, leaf_nodes,\n",
    "      4,\n",
    "      pop_size=256,\n",
    "      max_gens=50,\n",
    "      max_tree_size=31,\n",
    "      n_jobs=8,\n",
    "      log_data=True,\n",
    "      verbose=True)\n",
    "    \n",
    "    evo.evolve()"
   ]
  },
  {
   "attachments": {},
   "cell_type": "markdown",
   "metadata": {},
   "source": [
    "## Save the Evolution"
   ]
  },
  {
   "cell_type": "code",
   "execution_count": 30,
   "metadata": {
    "ExecuteTime": {
     "end_time": "2023-06-15T11:13:32.664323300Z",
     "start_time": "2023-06-15T11:13:32.640715600Z"
    }
   },
   "outputs": [],
   "source": [
    "if not load_model:\n",
    "    with open('baseline.pickle', 'wb') as file:\n",
    "        pickle.dump(evo, file, pickle.HIGHEST_PROTOCOL)"
   ]
  },
  {
   "attachments": {},
   "cell_type": "markdown",
   "metadata": {},
   "source": [
    "## Load the Evolution"
   ]
  },
  {
   "cell_type": "code",
   "execution_count": 31,
   "metadata": {
    "is_executing": true
   },
   "outputs": [],
   "source": [
    "evo = pickle.load(open('baseline.pickle', 'rb'))"
   ]
  },
  {
   "attachments": {},
   "cell_type": "markdown",
   "metadata": {},
   "source": [
    "# Test"
   ]
  },
  {
   "attachments": {},
   "cell_type": "markdown",
   "metadata": {},
   "source": [
    "## Scoring and representation"
   ]
  },
  {
   "cell_type": "code",
   "execution_count": 32,
   "metadata": {
    "is_executing": true
   },
   "outputs": [
    {
     "name": "stdout",
     "output_type": "stream",
     "text": [
      "['sqrt(abs(x_1))', '((sqrt(abs(x_1))+(sqrt(abs(x_1))+max(log(abs(x_7)),((x_3*x_5)+x_6))))+(sin(((sqrt(abs(x_1))+x_0)-sin(x_6)))+max(x_3,x_3)))', '(max(x_7,(x_5)**2)+((log(abs(x_3))+max(sqrt(abs(log(abs(x_2)))),sqrt(abs(x_0))))+sin(cos(x_0))))', '((x_5-(sqrt(abs(x_4))-cos(sqrt(abs(sqrt(abs(x_6)))))))/sin(min(cos((cos(x_6)/sin((x_4-x_4)))),x_5)))']\n",
      "0.2913799299808232\n"
     ]
    },
    {
     "ename": "AttributeError",
     "evalue": "'list' object has no attribute 'replace'",
     "output_type": "error",
     "traceback": [
      "\u001b[1;31m---------------------------------------------------------------------------\u001b[0m",
      "\u001b[1;31mAttributeError\u001b[0m                            Traceback (most recent call last)",
      "Cell \u001b[1;32mIn[32], line 31\u001b[0m\n\u001b[0;32m     28\u001b[0m \u001b[39mprint\u001b[39m(representation)\n\u001b[0;32m     29\u001b[0m \u001b[39mprint\u001b[39m(get_test_score(best))\n\u001b[1;32m---> 31\u001b[0m simpl_repr \u001b[39m=\u001b[39m simplify(representation)\n\u001b[0;32m     32\u001b[0m \u001b[39mprint\u001b[39m(simpl_repr)\n",
      "File \u001b[1;32mc:\\Users\\WK\\Anaconda3\\envs\\genepro23\\lib\\site-packages\\sympy\\simplify\\simplify.py:603\u001b[0m, in \u001b[0;36msimplify\u001b[1;34m(expr, ratio, measure, rational, inverse, doit, **kwargs)\u001b[0m\n\u001b[0;32m    600\u001b[0m \u001b[39mif\u001b[39;00m _eval_simplify \u001b[39mis\u001b[39;00m \u001b[39mnot\u001b[39;00m \u001b[39mNone\u001b[39;00m:\n\u001b[0;32m    601\u001b[0m     \u001b[39mreturn\u001b[39;00m _eval_simplify(\u001b[39m*\u001b[39m\u001b[39m*\u001b[39mkwargs)\n\u001b[1;32m--> 603\u001b[0m original_expr \u001b[39m=\u001b[39m expr \u001b[39m=\u001b[39m collect_abs(signsimp(expr))\n\u001b[0;32m    605\u001b[0m \u001b[39mif\u001b[39;00m \u001b[39mnot\u001b[39;00m \u001b[39misinstance\u001b[39m(expr, Basic) \u001b[39mor\u001b[39;00m \u001b[39mnot\u001b[39;00m expr\u001b[39m.\u001b[39margs:  \u001b[39m# XXX: temporary hack\u001b[39;00m\n\u001b[0;32m    606\u001b[0m     \u001b[39mreturn\u001b[39;00m expr\n",
      "File \u001b[1;32mc:\\Users\\WK\\Anaconda3\\envs\\genepro23\\lib\\site-packages\\sympy\\simplify\\radsimp.py:625\u001b[0m, in \u001b[0;36mcollect_abs\u001b[1;34m(expr)\u001b[0m\n\u001b[0;32m    622\u001b[0m   args\u001b[39m.\u001b[39mextend(nc)  \u001b[39m# nc always go last\u001b[39;00m\n\u001b[0;32m    623\u001b[0m   \u001b[39mreturn\u001b[39;00m Mul\u001b[39m.\u001b[39m_from_args(args, is_commutative\u001b[39m=\u001b[39m\u001b[39mnot\u001b[39;00m nc)\n\u001b[1;32m--> 625\u001b[0m \u001b[39mreturn\u001b[39;00m expr\u001b[39m.\u001b[39;49mreplace(\n\u001b[0;32m    626\u001b[0m     \u001b[39mlambda\u001b[39;00m x: \u001b[39misinstance\u001b[39m(x, Mul),\n\u001b[0;32m    627\u001b[0m     \u001b[39mlambda\u001b[39;00m x: _abs(x))\u001b[39m.\u001b[39mreplace(\n\u001b[0;32m    628\u001b[0m         \u001b[39mlambda\u001b[39;00m x: \u001b[39misinstance\u001b[39m(x, Pow),\n\u001b[0;32m    629\u001b[0m         \u001b[39mlambda\u001b[39;00m x: _abs(x))\n",
      "\u001b[1;31mAttributeError\u001b[0m: 'list' object has no attribute 'replace'"
     ]
    }
   ],
   "source": [
    "def get_test_score(tree):\n",
    "    rewards = []\n",
    "\n",
    "    for i in range(10):\n",
    "      # get initial state\n",
    "      observation = env.reset(seed=i)\n",
    "      observation = observation[0]\n",
    "\n",
    "      for _ in range(500):    \n",
    "        # build up the input sample for GP\n",
    "        input_sample = torch.from_numpy(observation.reshape((1,-1))).float()\n",
    "        # get output (squeezing because it is encapsulated in an array)\n",
    "        output = tree.get_output_pt(input_sample)\n",
    "        action = torch.argmax(output)\n",
    "        observation, reward, terminated, truncated, info = env.step(action.item())\n",
    "        rewards.append(reward)\n",
    "\n",
    "        output_sample = torch.from_numpy(observation.reshape((1,-1))).float()\n",
    "        if (terminated or truncated):\n",
    "            break\n",
    "\n",
    "    fitness = np.mean(rewards)\n",
    "    \n",
    "    return fitness\n",
    "\n",
    "best = evo.best_of_gens[-1]\n",
    "representation = best.get_readable_repr()\n",
    "print(representation)\n",
    "print(get_test_score(best))\n",
    "\n",
    "simpl_repr = simplify(representation)\n",
    "print(simpl_repr)"
   ]
  },
  {
   "attachments": {},
   "cell_type": "markdown",
   "metadata": {},
   "source": [
    "## Make plots"
   ]
  },
  {
   "cell_type": "code",
   "execution_count": 42,
   "metadata": {},
   "outputs": [
    {
     "ename": "FileNotFoundError",
     "evalue": "[Errno 2] No such file or directory: 'fitnesses_baseline_v1.csv'",
     "output_type": "error",
     "traceback": [
      "\u001b[1;31m---------------------------------------------------------------------------\u001b[0m",
      "\u001b[1;31mFileNotFoundError\u001b[0m                         Traceback (most recent call last)",
      "Cell \u001b[1;32mIn[42], line 23\u001b[0m\n\u001b[0;32m     20\u001b[0m     plt\u001b[39m.\u001b[39mshow()\n\u001b[0;32m     22\u001b[0m \u001b[39m# Manual renaming of the file to be plotted\u001b[39;00m\n\u001b[1;32m---> 23\u001b[0m plot(\u001b[39m'\u001b[39;49m\u001b[39mfitnesses_baseline_v1.csv\u001b[39;49m\u001b[39m'\u001b[39;49m, every_nth\u001b[39m=\u001b[39;49m\u001b[39m2\u001b[39;49m, title\u001b[39m=\u001b[39;49m\u001b[39m'\u001b[39;49m\u001b[39mBaseline\u001b[39;49m\u001b[39m'\u001b[39;49m)\n",
      "Cell \u001b[1;32mIn[42], line 4\u001b[0m, in \u001b[0;36mplot\u001b[1;34m(file, every_nth, title)\u001b[0m\n\u001b[0;32m      2\u001b[0m fitnesses \u001b[39m=\u001b[39m []\n\u001b[0;32m      3\u001b[0m \u001b[39m# store all fitnesses in a list\u001b[39;00m\n\u001b[1;32m----> 4\u001b[0m \u001b[39mwith\u001b[39;00m \u001b[39mopen\u001b[39;49m(file) \u001b[39mas\u001b[39;00m csv_file:\n\u001b[0;32m      5\u001b[0m     csv_reader \u001b[39m=\u001b[39m csv\u001b[39m.\u001b[39mreader(csv_file, delimiter\u001b[39m=\u001b[39m\u001b[39m'\u001b[39m\u001b[39m\\t\u001b[39;00m\u001b[39m'\u001b[39m)\n\u001b[0;32m      6\u001b[0m     \u001b[39mfor\u001b[39;00m row \u001b[39min\u001b[39;00m csv_reader:\n",
      "File \u001b[1;32mc:\\Users\\WK\\Anaconda3\\envs\\genepro23\\lib\\site-packages\\IPython\\core\\interactiveshell.py:284\u001b[0m, in \u001b[0;36m_modified_open\u001b[1;34m(file, *args, **kwargs)\u001b[0m\n\u001b[0;32m    277\u001b[0m \u001b[39mif\u001b[39;00m file \u001b[39min\u001b[39;00m {\u001b[39m0\u001b[39m, \u001b[39m1\u001b[39m, \u001b[39m2\u001b[39m}:\n\u001b[0;32m    278\u001b[0m     \u001b[39mraise\u001b[39;00m \u001b[39mValueError\u001b[39;00m(\n\u001b[0;32m    279\u001b[0m         \u001b[39mf\u001b[39m\u001b[39m\"\u001b[39m\u001b[39mIPython won\u001b[39m\u001b[39m'\u001b[39m\u001b[39mt let you open fd=\u001b[39m\u001b[39m{\u001b[39;00mfile\u001b[39m}\u001b[39;00m\u001b[39m by default \u001b[39m\u001b[39m\"\u001b[39m\n\u001b[0;32m    280\u001b[0m         \u001b[39m\"\u001b[39m\u001b[39mas it is likely to crash IPython. If you know what you are doing, \u001b[39m\u001b[39m\"\u001b[39m\n\u001b[0;32m    281\u001b[0m         \u001b[39m\"\u001b[39m\u001b[39myou can use builtins\u001b[39m\u001b[39m'\u001b[39m\u001b[39m open.\u001b[39m\u001b[39m\"\u001b[39m\n\u001b[0;32m    282\u001b[0m     )\n\u001b[1;32m--> 284\u001b[0m \u001b[39mreturn\u001b[39;00m io_open(file, \u001b[39m*\u001b[39margs, \u001b[39m*\u001b[39m\u001b[39m*\u001b[39mkwargs)\n",
      "\u001b[1;31mFileNotFoundError\u001b[0m: [Errno 2] No such file or directory: 'fitnesses_baseline_v1.csv'"
     ]
    }
   ],
   "source": [
    "def plot(file, every_nth=1, title=None):\n",
    "    fitnesses = []\n",
    "    # store all fitnesses in a list\n",
    "    with open(file) as csv_file:\n",
    "        csv_reader = csv.reader(csv_file, delimiter='\\t')\n",
    "        for row in csv_reader:\n",
    "            fitnesses.append(row)\n",
    "    fitnesses_array = np.array(fitnesses, dtype=np.float32)  # Transpose for boxplot\n",
    "    filtered_fit_array = np.ma.masked_invalid(fitnesses_array).T\n",
    "\n",
    "    fig, ax = plt.subplots(1, 1, constrained_layout=True, figsize=(12, 8))\n",
    "    ax.set_xlabel(\"Generation\")\n",
    "    plt.boxplot(filtered_fit_array[:,::every_nth], showfliers=False)\n",
    "    # plt.xticks(np.arange(0, len(fitnesses), every_nth))\n",
    "    labels, _ = plt.xticks()\n",
    "    plt.xticks(labels, labels*every_nth-every_nth)\n",
    "    if title is not None:\n",
    "        plt.title(str(title))\n",
    "    plt.savefig('fig1.png')\n",
    "    plt.show()\n",
    "\n",
    "# Manual renaming of the file to be plotted\n",
    "plot('fitnesses_baseline_v1.csv', every_nth=2, title='Baseline')"
   ]
  },
  {
   "attachments": {},
   "cell_type": "markdown",
   "metadata": {},
   "source": [
    "Plot fitness for one run"
   ]
  },
  {
   "cell_type": "code",
   "execution_count": 44,
   "metadata": {},
   "outputs": [
    {
     "name": "stdout",
     "output_type": "stream",
     "text": [
      "                    gen             Fit_best            Size_best\n",
      "0    -129.0233973101214  -128.51217367988474  -252.81654952393987\n",
      "1     -607.141413273357  -157.67181965577487   -159.3049089840842\n",
      "2   -145.11525692954638  -123.77470303172632  -144.37968883489026\n",
      "3    -377.2814384772042   -38.49711409113801   -869.7535683616294\n",
      "4    -92.77485322232357   -47.04501184728356   -55.37963854002179\n",
      "5   -105.44938202237003  -26.264754000897295  -103.21920243846853\n",
      "6   -115.85232947361472   -941.3726128496662   -46.67502586820984\n",
      "7   -183.20720241073045   -46.22544049120674   -335.9043511226369\n",
      "8   -15.985801205325128  -15.985801205325128   -502.2670626696775\n",
      "9   -28.723918013561065   -259.0495241266814  -27.579917848856297\n",
      "10   -33.66314286952985    -623.266102084836  -43.486238864067104\n",
      "11   -1.097528208819662   -243.1835786259764  -14.351733465849662\n",
      "12   -9.128365562140292  -179.45579168986674   -7.133900312971808\n",
      "13   -828.6818084131271   -266.9079493717449  -11.368337237804429\n",
      "14   -55.47761410810151  -17.235306075624564     -9.1213655458089\n",
      "15  -193.49532672803758    -151.654219665514    16.58937074124519\n",
      "16    51.46763460025433   17.232164739101453   17.232164739101453\n",
      "17   14.562972950612215  -132.06227600877915   -5.454912099198393\n",
      "18  -12.215761821293631   -10.51655376235939   -79.29953066464353\n",
      "19  -3.7934166707042225   0.9174217445956259   -13.09645017077455\n",
      "20  -11.875655735595233  -29.870880433557563   -88.42879597498106\n",
      "21  -32.982817224771814  -511.23073368839835  -1.5398102695660412\n",
      "22   -18.09826830430503     4.77857228661522   20.429030924510304\n",
      "23   -818.5789554370103  -112.77546421448248   -94.43406284067524\n",
      "24    7.323818648323147    41.63860261880804   35.335661844211536\n",
      "25   29.384008048796346  -14.057906513996675   -534.1172963060501\n",
      "26    4.512247034151306  -0.7108113215662513    4.512247034151306\n",
      "27   -9.547305736191944   -6.964166899871026  -508.54701727628725\n",
      "28   12.860629611289161   -17.92788697676527  -49.450946449775145\n",
      "29   -31.85813343446598  -3.6635051885458125   -66.17157568127877\n",
      "30  -503.48113269024833   -7.505813836595911    7.905559575813965\n",
      "31   -882.9318096670147    83.85683301787218   50.491191990336006\n",
      "32    6.171821471405579   2.8457943273611277    6.171821471405579\n",
      "33  -20.795039174129425  -33.934905779013384   -19.77128505209446\n",
      "34  -149.31955176453965  -43.140337957143245   0.7887840728829474\n",
      "35  -12.978290027036246   35.657006499163096   -923.2641901574364\n",
      "36  -25.588463167693583   -42.46879483781074   -592.2708188604223\n",
      "37   -21.36572102036933   -773.0766997374718    25.63649428410406\n",
      "38  -127.78469381015475  -17.974702477731665   -33.39481762331674\n",
      "39    52.47763051863136   -1.959133701056738    41.36900048172165\n",
      "40  -114.45212125148961   -640.1816671488752   -294.7998777827012\n",
      "41   -82.40610241740322  -62.023730692413004    60.33959093567209\n",
      "42   -58.46773099035106   -3.883421622304563   -39.52717216401881\n",
      "43    82.90771813687343   46.846124110504434   -41.24976476009935\n",
      "44    6.012842017109013  -314.08310449805356   -65.95345813950618\n",
      "45  -11.206425457875792   -44.59254761984465    20.67096520446475\n",
      "46  -31.316002083547687   -134.5926573393368  -40.164231415931155\n",
      "47   16.669446297605244  -10.227819656365035   24.918864107628004\n",
      "48     6.34948186268262    11.86765360342031   -717.6212447266851\n",
      "49    71.50485377106834    84.40896531652308    69.88535241741951\n"
     ]
    }
   ],
   "source": [
    "import pandas as pd\n",
    "import csv\n",
    "\n",
    "data = {\n",
    "    'gen': [],\n",
    "    'Fit_best': [],\n",
    "    'Size_best': []\n",
    "}\n",
    "\n",
    "df = pd.DataFrame(data)\n",
    "\n",
    "with open('gen.csv', 'r') as f:\n",
    "    csv_reader = csv.reader(f, delimiter='\\t')\n",
    "    for row in csv_reader:\n",
    "        new_row = {'gen': row[0], 'Fit_best': row[1], 'Size_best': row[2]}\n",
    "        df = pd.concat([df, pd.DataFrame(new_row, index=[0])], ignore_index=True)\n",
    "\n",
    "print(df)\n"
   ]
  },
  {
   "cell_type": "code",
   "execution_count": 33,
   "metadata": {},
   "outputs": [],
   "source": [
    "def fitBoxplot(file, every_nth=1):\n",
    "    fitnesses = []\n",
    "    # store all fitnesses in a list\n",
    "    with open(file) as csv_file:\n",
    "        csv_reader = csv.reader(csv_file, delimiter='\\t')\n",
    "        for row in csv_reader:\n",
    "            fitnesses.append(row)\n",
    "    fitnesses_array = np.array(fitnesses, dtype=np.float32)  # Transpose for boxplot\n",
    "    filtered_fit_array = np.ma.masked_invalid(fitnesses_array).T\n",
    "\n",
    "    fig = plt.figure(figsize=(10,5))  # Use this to size the figure\n",
    "    ax = fig.add_axes([0,0,1,1])\n",
    "    ax.set_xlabel(\"Generation\")\n",
    "    plt.boxplot(filtered_fit_array[:,::every_nth], showfliers=False)\n",
    "    # plt.xticks(np.arange(0, len(fitnesses), every_nth))\n",
    "    labels, _ = plt.xticks()\n",
    "    plt.xticks(labels, labels*every_nth-every_nth)\n",
    "    plt.show()\n",
    "\n"
   ]
  },
  {
   "cell_type": "code",
   "execution_count": 37,
   "metadata": {},
   "outputs": [],
   "source": []
  },
  {
   "cell_type": "code",
   "execution_count": 38,
   "metadata": {},
   "outputs": [
    {
     "data": {
      "image/png": "[encoded data removed]",
      "text/plain": [
       "<Figure size 1000x500 with 1 Axes>"
      ]
     },
     "metadata": {},
     "output_type": "display_data"
    },
    {
     "data": {
      "image/png": "[encoded data removed]",
      "text/plain": [
       "<Figure size 1000x500 with 1 Axes>"
      ]
     },
     "metadata": {},
     "output_type": "display_data"
    },
    {
     "data": {
      "image/png": "[encoded data removed]",
      "text/plain": [
       "<Figure size 1000x500 with 1 Axes>"
      ]
     },
     "metadata": {},
     "output_type": "display_data"
    },
    {
     "data": {
      "image/png": "[encoded data removed]",
      "text/plain": [
       "<Figure size 1000x500 with 1 Axes>"
      ]
     },
     "metadata": {},
     "output_type": "display_data"
    },
    {
     "data": {
      "image/png": "[encoded data removed]",
      "text/plain": [
       "<Figure size 1000x500 with 1 Axes>"
      ]
     },
     "metadata": {},
     "output_type": "display_data"
    }
   ],
   "source": [
    "files = sorted( glob.glob(\"fitness*.csv\"),key=os.path.getmtime )\n",
    "for file in files:\n",
    "    fitBoxplot(file, every_nth=5)\n",
    "# This file is on my pc only, get your own fitness file by runing and evlution with save_fitnesses=True\n",
    "# plot('fitnesses20220617003333.csv', every_nth=5)\n"
   ]
  },
  {
   "cell_type": "code",
   "execution_count": null,
   "metadata": {},
   "outputs": [],
   "source": []
  },
  {
   "attachments": {},
   "cell_type": "markdown",
   "metadata": {},
   "source": [
    "## Make an animation\n",
    "Here the best evolved individual is selected and one episode is rendered. Make sure to save your lunar landers over time to track progress and make comparisons."
   ]
  },
  {
   "cell_type": "code",
   "execution_count": null,
   "metadata": {},
   "outputs": [],
   "source": [
    "frames = []\n",
    "\n",
    "# gist to save gif from https://gist.github.com/botforge/64cbb71780e6208172bbf03cd9293553\n",
    "def save_frames_as_gif(frames, path='./', filename='evolved_lander.gif'):\n",
    "  plt.figure(figsize=(frames[0].shape[1] / 72.0, frames[0].shape[0] / 72.0), dpi=72)\n",
    "  patch = plt.imshow(frames[0])\n",
    "  plt.axis('off')\n",
    "  def animate(i):\n",
    "      patch.set_data(frames[i])\n",
    "  anim = animation.FuncAnimation(plt.gcf(), animate, frames = len(frames), interval=50)\n",
    "  anim.save(path + filename, writer='imagemagick', fps=60)\n",
    "\n",
    "frames = []\n",
    "fitness_function_pt(best, generation = 0, num_episodes=1, episode_duration=500, render=True, ignore_done=False)\n",
    "env.close()\n",
    "save_frames_as_gif(frames)"
   ]
  },
  {
   "attachments": {},
   "cell_type": "markdown",
   "metadata": {},
   "source": [
    "## Play animation"
   ]
  },
  {
   "attachments": {},
   "cell_type": "markdown",
   "metadata": {},
   "source": [
    "<img src=\"evolved_lander.gif\" width=\"750\">"
   ]
  },
  {
   "attachments": {},
   "cell_type": "markdown",
   "metadata": {},
   "source": [
    "## Optimisation\n",
    "The coefficients in the multi-tree aren't optimised. Here Q-learning (taken from https://pytorch.org/tutorials/intermediate/reinforcement_q_learning.html) is used to optimise the weights further. Incorporate coefficient optimisation in training your agent(s). Coefficient Optimisation can be expensive. Think about how often you want to optimise, when, which individuals etc."
   ]
  },
  {
   "cell_type": "code",
   "execution_count": null,
   "metadata": {},
   "outputs": [],
   "source": [
    "batch_size = 128\n",
    "GAMMA = 0.99\n",
    "\n",
    "constants = best.get_subtrees_consts()\n",
    "\n",
    "if len(constants)>0:\n",
    "  optimizer = optim.AdamW(constants, lr=1e-3, amsgrad=True)\n",
    "\n",
    "for _ in range(500):\n",
    "\n",
    "  if len(constants)>0 and len(evo.memory)>batch_size:\n",
    "    target_tree = copy.deepcopy(best)\n",
    "\n",
    "    transitions = evo.memory.sample(batch_size)\n",
    "    batch = Transition(*zip(*transitions))\n",
    "    \n",
    "    non_final_mask = torch.tensor(tuple(map(lambda s: s is not None,\n",
    "                                        batch.next_state)), dtype=torch.bool)\n",
    "\n",
    "    non_final_next_states = torch.cat([s for s in batch.next_state\n",
    "                                               if s is not None])\n",
    "    state_batch = torch.cat(batch.state)\n",
    "    action_batch = torch.cat(batch.action)\n",
    "    reward_batch = torch.cat(batch.reward)\n",
    "\n",
    "    state_action_values = best.get_output_pt(state_batch).gather(1, action_batch)\n",
    "    next_state_values = torch.zeros(batch_size, dtype=torch.float)\n",
    "    with torch.no_grad():\n",
    "      next_state_values[non_final_mask] = target_tree.get_output_pt(non_final_next_states).max(1)[0].float()\n",
    "\n",
    "    expected_state_action_values = (next_state_values * GAMMA) + reward_batch\n",
    "    \n",
    "    criterion = nn.SmoothL1Loss()\n",
    "    loss = criterion(state_action_values, expected_state_action_values.unsqueeze(1))\n",
    "   \n",
    "    # Optimize the model\n",
    "    optimizer.zero_grad()\n",
    "    loss.backward()\n",
    "    torch.nn.utils.clip_grad_value_(constants, 100)\n",
    "    optimizer.step()\n",
    "\n",
    "print(best.get_readable_repr())\n",
    "print(get_test_score(best))"
   ]
  },
  {
   "cell_type": "code",
   "execution_count": null,
   "metadata": {},
   "outputs": [],
   "source": [
    "frames = []\n",
    "fitness_function_pt(best, num_episodes=1, episode_duration=500, render=True, ignore_done=False)\n",
    "env.close()\n",
    "save_frames_as_gif(frames, filename='evolved_lander_RL.gif')"
   ]
  },
  {
   "attachments": {},
   "cell_type": "markdown",
   "metadata": {},
   "source": [
    "<img src=\"evolved_lander_RL.gif\" width=\"750\">"
   ]
  }
 ],
 "metadata": {
  "interpreter": {
   "hash": "224d5cd9c6b0ee09a4fcb288b4f99402d88b7b3d7b0cb6a08c577691994ebb89"
  },
  "kernelspec": {
   "display_name": "Python 3.9.16 ('env': venv)",
   "language": "python",
   "name": "python3"
  },
  "language_info": {
   "codemirror_mode": {
    "name": "ipython",
    "version": 3
   },
   "file_extension": ".py",
   "mimetype": "text/x-python",
   "name": "python",
   "nbconvert_exporter": "python",
   "pygments_lexer": "ipython3",
   "version": "3.9.16"
  }
 },
 "nbformat": 4,
 "nbformat_minor": 4
}
