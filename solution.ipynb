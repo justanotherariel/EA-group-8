{
 "cells": [
  {
   "attachments": {},
   "cell_type": "markdown",
   "metadata": {},
   "source": [
    "# Evolving a Lunar Lander with differentiable Genetic Programming"
   ]
  },
  {
   "attachments": {},
   "cell_type": "markdown",
   "metadata": {},
   "source": [
    "## Installation\n",
    "To install the required libraries run the command:"
   ]
  },
  {
   "cell_type": "code",
   "execution_count": 1,
   "metadata": {
    "ExecuteTime": {
     "end_time": "2023-06-15T12:14:49.756463900Z",
     "start_time": "2023-06-15T12:14:49.745761400Z"
    }
   },
   "outputs": [],
   "source": [
    "install = False\n",
    "load_model = True\n",
    "merge_csv = True"
   ]
  },
  {
   "cell_type": "code",
   "execution_count": 2,
   "metadata": {
    "ExecuteTime": {
     "end_time": "2023-06-15T12:14:49.766444700Z",
     "start_time": "2023-06-15T12:14:49.760953200Z"
    }
   },
   "outputs": [],
   "source": [
    "# %%capture --no-display\n",
    "if install:\n",
    "    %pip install -r requirements.txt"
   ]
  },
  {
   "attachments": {},
   "cell_type": "markdown",
   "metadata": {},
   "source": [
    "## Imports\n",
    "Imports from the standard genepro-multi library are done here. Any adjustments (e.g. different operators) should be made in the notebook."
   ]
  },
  {
   "cell_type": "code",
   "execution_count": 3,
   "metadata": {
    "ExecuteTime": {
     "end_time": "2023-06-15T12:14:55.251584800Z",
     "start_time": "2023-06-15T12:14:49.772429Z"
    }
   },
   "outputs": [],
   "source": [
    "import gymnasium as gym\n",
    "\n",
    "from genepro.node_impl import *\n",
    "from genepro.evo import Evolution\n",
    "from genepro.node_impl import Constant\n",
    "\n",
    "import torch\n",
    "import torch.optim as optim\n",
    "\n",
    "import random\n",
    "import os\n",
    "import copy\n",
    "from collections import namedtuple, deque\n",
    "\n",
    "import matplotlib.pyplot as plt\n",
    "from matplotlib import animation\n",
    "from sympy import simplify\n",
    "import pickle\n",
    "import os\n",
    "import glob\n",
    "import csv\n",
    "import pandas as pd\n",
    "import numpy as np"
   ]
  },
  {
   "attachments": {},
   "cell_type": "markdown",
   "metadata": {},
   "source": [
    "## Reinforcement Learning Setup\n",
    "Here we first setup the Gymnasium environment. Please see https://gymnasium.farama.org/environments/box2d/lunar_lander/ for more information on the environment. \n",
    "\n",
    "Then a memory buffer is made. This is a buffer in which state transitions are stored. When the buffer reaches its maximum capacity old transitions are replaced by new ones.\n",
    "\n",
    "A frame buffer is initialised used to later store animation frames of the environment."
   ]
  },
  {
   "cell_type": "code",
   "execution_count": 4,
   "metadata": {
    "ExecuteTime": {
     "end_time": "2023-06-15T12:14:55.373253600Z",
     "start_time": "2023-06-15T12:14:55.254672300Z"
    }
   },
   "outputs": [],
   "source": [
    "env = gym.make(\"LunarLander-v2\", render_mode=\"rgb_array\")"
   ]
  },
  {
   "cell_type": "code",
   "execution_count": 5,
   "metadata": {
    "ExecuteTime": {
     "end_time": "2023-06-15T12:14:55.397616500Z",
     "start_time": "2023-06-15T12:14:55.385185400Z"
    }
   },
   "outputs": [],
   "source": [
    "Transition = namedtuple('Transition', ('state', 'action', 'next_state', 'reward'))\n",
    "\n",
    "class ReplayMemory(object):\n",
    "    def __init__(self, capacity):\n",
    "        self.memory = deque([], maxlen=capacity)\n",
    "\n",
    "    def push(self, *args):\n",
    "        \"\"\"Save a transition\"\"\"\n",
    "        self.memory.append(Transition(*args))\n",
    "\n",
    "    def sample(self, batch_size):\n",
    "        return random.sample(self.memory, batch_size)\n",
    "\n",
    "    def __len__(self):\n",
    "        return len(self.memory)\n",
    "\n",
    "    def __iadd__(self, other):\n",
    "      self.memory += other.memory\n",
    "      return self \n",
    "\n",
    "    def __add__(self, other):\n",
    "      self.memory = self.memory + other.memory \n",
    "      return self"
   ]
  },
  {
   "cell_type": "code",
   "execution_count": 6,
   "metadata": {
    "ExecuteTime": {
     "end_time": "2023-06-15T12:14:55.426727200Z",
     "start_time": "2023-06-15T12:14:55.397616500Z"
    }
   },
   "outputs": [],
   "source": [
    "frames = []"
   ]
  },
  {
   "attachments": {},
   "cell_type": "markdown",
   "metadata": {},
   "source": [
    "## Fitness Function\n",
    "\n",
    "Here you get to be creative. The default setup evaluates 5 episodes of 300 frames. Think of what action to pick and what fitness function to use. The Multi-tree takes an input of $n \\times d$ where $n$ is a batch of size 1."
   ]
  },
  {
   "cell_type": "code",
   "execution_count": 7,
   "metadata": {
    "ExecuteTime": {
     "end_time": "2023-06-15T12:14:55.426727200Z",
     "start_time": "2023-06-15T12:14:55.407209Z"
    }
   },
   "outputs": [],
   "source": [
    "def fitness_function_pt(multitree, generation, num_episodes=5, episode_duration=300, render=False, ignore_done=False):\n",
    "  memory = ReplayMemory(10000)\n",
    "  rewards = []\n",
    "\n",
    "  for i in range(num_episodes):\n",
    "    # get initial state of the environment\n",
    "    observation = env.reset(seed=(generation*1000 + i))\n",
    "    observation = observation[0]\n",
    "    \n",
    "    for _ in range(episode_duration):\n",
    "      if render:\n",
    "        frames.append(env.render())\n",
    "\n",
    "      input_sample = torch.from_numpy(observation.reshape((1,-1))).float()\n",
    "      \n",
    "      action = torch.argmax(multitree.get_output_pt(input_sample))\n",
    "      observation, reward, terminated, truncated, info = env.step(action.item())\n",
    "      rewards.append(reward)\n",
    "      output_sample = torch.from_numpy(observation.reshape((1,-1))).float()\n",
    "      memory.push(input_sample, torch.tensor([[action.item()]]), output_sample, torch.tensor([reward]))\n",
    "      if (terminated or truncated) and not ignore_done:\n",
    "        break\n",
    "\n",
    "  fitness = np.sum(rewards)/num_episodes\n",
    "  return fitness, memory"
   ]
  },
  {
   "attachments": {},
   "cell_type": "markdown",
   "metadata": {},
   "source": [
    "# Evolution Setup & Evolve\n",
    "Here the leaf and internal nodes are defined. Think about the odds of sampling a constant in this default configurations. Also think about any operators that could be useful and add them here. \n",
    "\n",
    "Adjust the population size (multiple of 8 if you want to use the standard tournament selection), max generations and max tree size to taste. Be aware that each of these settings can increase the runtime."
   ]
  },
  {
   "cell_type": "code",
   "execution_count": 8,
   "metadata": {
    "ExecuteTime": {
     "end_time": "2023-06-15T12:14:55.460672700Z",
     "start_time": "2023-06-15T12:14:55.437227300Z"
    }
   },
   "outputs": [],
   "source": [
    "# if load_model:\n",
    "    # %%script false\n",
    "# else:\n",
    "if not load_model:\n",
    "  np.random.seed(42)\n",
    "\n",
    "  num_features = env.observation_space.shape[0]\n",
    "  leaf_nodes = [Feature(i) for i in range(num_features)] + [Constant() for _ in range(1)]\n",
    "  internal_nodes = [Plus(), Minus(), Times(), Div(), Square(), Sqrt(), Log(), Sin(), Cos(), Max(), Min()] #Add your own operators here\n",
    "\n",
    "  # Run a few times to collect Data\n",
    "  for i in range(5):\n",
    "    print(f\"------ Evolution {i} ------\")\n",
    "    \n",
    "    evo = Evolution(\n",
    "      fitness_function_pt, internal_nodes, leaf_nodes,\n",
    "      4,\n",
    "      pop_size=256,\n",
    "      max_gens=50,\n",
    "      max_tree_size=31,\n",
    "      n_jobs=8,\n",
    "      log_data=True,\n",
    "      verbose=True)\n",
    "    \n",
    "    evo.evolve()"
   ]
  },
  {
   "attachments": {},
   "cell_type": "markdown",
   "metadata": {},
   "source": [
    "## Save the Evolution"
   ]
  },
  {
   "cell_type": "code",
   "execution_count": 9,
   "metadata": {
    "ExecuteTime": {
     "end_time": "2023-06-15T12:14:55.526870Z",
     "start_time": "2023-06-15T12:14:55.446722400Z"
    }
   },
   "outputs": [],
   "source": [
    "if not load_model:\n",
    "    with open('baseline.pickle', 'wb') as file:\n",
    "        pickle.dump(evo, file, pickle.HIGHEST_PROTOCOL)"
   ]
  },
  {
   "attachments": {},
   "cell_type": "markdown",
   "metadata": {},
   "source": [
    "## Load the Evolution"
   ]
  },
  {
   "cell_type": "code",
   "execution_count": 10,
   "metadata": {
    "ExecuteTime": {
     "end_time": "2023-06-15T12:15:01.739068100Z",
     "start_time": "2023-06-15T12:14:55.460672700Z"
    }
   },
   "outputs": [],
   "source": [
    "evo = pickle.load(open('baseline.pickle', 'rb'))"
   ]
  },
  {
   "attachments": {},
   "cell_type": "markdown",
   "metadata": {},
   "source": [
    "# Testing, visualisation of the results"
   ]
  },
  {
   "attachments": {},
   "cell_type": "markdown",
   "metadata": {},
   "source": [
    "## Scoring and representation"
   ]
  },
  {
   "cell_type": "code",
   "execution_count": 21,
   "metadata": {
    "ExecuteTime": {
     "end_time": "2023-06-15T12:25:34.361334600Z",
     "start_time": "2023-06-15T12:25:23.305286200Z"
    }
   },
   "outputs": [
    {
     "name": "stdout",
     "output_type": "stream",
     "text": [
      "['sqrt(abs(x_1))', '((sqrt(abs(x_1))+(sqrt(abs(x_1))+max(log(abs(x_7)),((x_3*x_5)+x_6))))+(sin(((sqrt(abs(x_1))+x_0)-sin(x_6)))+max(x_3,x_3)))', '(max(x_7,(x_5)**2)+((log(abs(x_3))+max(sqrt(abs(log(abs(x_2)))),sqrt(abs(x_0))))+sin(cos(x_0))))', '((x_5-(sqrt(abs(x_4))-cos(sqrt(abs(sqrt(abs(x_6)))))))/sin(min(cos((cos(x_6)/sin((x_4-x_4)))),x_5)))']\n",
      "0.291379920635771\n",
      "0\n",
      "1\n",
      "2\n",
      "3\n"
     ]
    }
   ],
   "source": [
    "def get_test_score(tree):\n",
    "    rewards = []\n",
    "\n",
    "    for i in range(10):\n",
    "      # get initial state\n",
    "      observation = env.reset(seed=i)\n",
    "      observation = observation[0]\n",
    "\n",
    "      for _ in range(500):    \n",
    "        # build up the input sample for GP\n",
    "        input_sample = torch.from_numpy(observation.reshape((1,-1))).float()\n",
    "        # get output (squeezing because it is encapsulated in an array)\n",
    "        output = tree.get_output_pt(input_sample)\n",
    "        action = torch.argmax(output)\n",
    "        observation, reward, terminated, truncated, info = env.step(action.item())\n",
    "        rewards.append(reward)\n",
    "\n",
    "        output_sample = torch.from_numpy(observation.reshape((1,-1))).float()\n",
    "        if (terminated or truncated):\n",
    "            break\n",
    "\n",
    "    fitness = np.mean(rewards)\n",
    "    \n",
    "    return fitness\n",
    "\n",
    "best = evo.best_of_gens[-1]\n",
    "representation = best.get_readable_repr()\n"
   ]
  },
  {
   "cell_type": "code",
   "execution_count": 26,
   "outputs": [
    {
     "name": "stdout",
     "output_type": "stream",
     "text": [
      "default:\n",
      "sqrt(abs(x_1))\n",
      "simple:\n",
      "sqrt(Abs(x_1))\n",
      "\n",
      "\n",
      "default:\n",
      "((sqrt(abs(x_1))+(sqrt(abs(x_1))+max(log(abs(x_7)),((x_3*x_5)+x_6))))+(sin(((sqrt(abs(x_1))+x_0)-sin(x_6)))+max(x_3,x_3)))\n",
      "simple:\n",
      "x_3 + sin(x_0 - sin(x_6) + sqrt(Abs(x_1))) + 2*sqrt(Abs(x_1)) + Max(x_3*x_5 + x_6, log(Abs(x_7)))\n",
      "\n",
      "\n",
      "default:\n",
      "(max(x_7,(x_5)**2)+((log(abs(x_3))+max(sqrt(abs(log(abs(x_2)))),sqrt(abs(x_0))))+sin(cos(x_0))))\n",
      "simple:\n",
      "log(Abs(x_3)) + sin(cos(x_0)) + Max(x_5**2, x_7) + Max(sqrt(Abs(x_0)), sqrt(Abs(log(Abs(x_2)))))\n",
      "\n",
      "\n",
      "default:\n",
      "((x_5-(sqrt(abs(x_4))-cos(sqrt(abs(sqrt(abs(x_6)))))))/sin(min(cos((cos(x_6)/sin((x_4-x_4)))),x_5)))\n",
      "simple:\n",
      "(x_5 + cos(Abs(x_6)**(1/4)) - sqrt(Abs(x_4)))/sin(Min(x_5, cos(zoo*cos(x_6))))\n",
      "\n",
      "\n",
      "0.2913799299808232\n"
     ]
    }
   ],
   "source": [
    "for x in range(len(representation)):\n",
    "    print(\"default:\")\n",
    "    print(representation[x])\n",
    "    print(\"simple:\")\n",
    "    simpl_repr = simplify(representation[x])\n",
    "    print(simpl_repr)\n",
    "    print(\"\\n\")\n",
    "print(get_test_score(best))"
   ],
   "metadata": {
    "collapsed": false,
    "ExecuteTime": {
     "end_time": "2023-06-15T12:27:26.027804600Z",
     "start_time": "2023-06-15T12:27:16.027184500Z"
    }
   }
  },
  {
   "cell_type": "code",
   "execution_count": 14,
   "outputs": [
    {
     "name": "stdout",
     "output_type": "stream",
     "text": [
      "['sqrt(abs(x_1))', '((sqrt(abs(x_1))+(sqrt(abs(x_1))+max(log(abs(x_7)),((x_3*x_5)+x_6))))+(sin(((sqrt(abs(x_1))+x_0)-sin(x_6)))+max(x_3,x_3)))', '(max(x_7,(x_5)**2)+((log(abs(x_3))+max(sqrt(abs(log(abs(x_2)))),sqrt(abs(x_0))))+sin(cos(x_0))))', '((x_5-(sqrt(abs(x_4))-cos(sqrt(abs(sqrt(abs(x_6)))))))/sin(min(cos((cos(x_6)/sin((x_4-x_4)))),x_5)))']\n",
      "0.2913799299808232\n"
     ]
    }
   ],
   "source": [
    "best = evo.best_of_gens[-1]\n",
    "representation = best.get_readable_repr()\n",
    "print(representation)\n",
    "print(get_test_score(best))\n"
   ],
   "metadata": {
    "collapsed": false,
    "ExecuteTime": {
     "end_time": "2023-06-15T12:24:37.509627700Z",
     "start_time": "2023-06-15T12:24:25.452227Z"
    }
   }
  },
  {
   "attachments": {},
   "cell_type": "markdown",
   "metadata": {},
   "source": [
    "## Make plots"
   ]
  },
  {
   "attachments": {},
   "cell_type": "markdown",
   "metadata": {},
   "source": [
    "### Merge runs, by csv"
   ]
  },
  {
   "cell_type": "code",
   "execution_count": null,
   "metadata": {},
   "outputs": [],
   "source": [
    "Fit_summation = {}\n",
    "if merge_csv:\n",
    "    runs = 5\n",
    "    max_gens = 50\n",
    "    Fittest =np.zeros([runs,max_gens]) # initialize array to store fitness values\n",
    "    i = 0\n",
    "    j = 0\n",
    " \n",
    "    files = sorted( glob.glob(\"*.csv\"),key=os.path.getmtime )\n",
    "    # values = [ 1,2,3,4,5,6,7,8 ]\n",
    "\n",
    "    for file in files:\n",
    "        value = file.replace(\".csv\", \"\")\t# max tree size value\n",
    "        value = value.split(\"_\")[0]\n",
    "\n",
    "        with open(file, 'r') as f: # open one csv file for a run\n",
    "            csv_reader = csv.reader(f, delimiter='\\t')\n",
    "            idx=0\n",
    "            for row in csv_reader:\n",
    "                try:\n",
    "                    Fittest[i, idx] =  float(row[1])   # fitness for that generation and run\n",
    "                except:\n",
    "                    print(\"error\")\n",
    "                    print(file)\n",
    "                    print(row)\n",
    "                idx+=1    # generation number\n",
    "\n",
    "        i += 1\n",
    "\n",
    "        if i == 3:\n",
    "            i = 0\n",
    "            j += 1\n",
    "            new_csv = {value:np.sum(Fittest,axis=0)/5} \n",
    "            Fit_summation.update(new_csv)   # one vector with the average of all fitness values for that max tree size\n",
    "            with open('gen_merge_' + str(value) + '.csv','a') as f1:\n",
    "                writer = csv.writer(f1, delimiter='\\t',lineterminator='\\n',)\n",
    "                writer.writerow( zip(range(max_gens), Fit_summation[value]) )    \n"
   ]
  },
  {
   "attachments": {},
   "cell_type": "markdown",
   "metadata": {},
   "source": [
    "### Sort csv by run based on numbers given in the csv (not done so will not work)"
   ]
  },
  {
   "cell_type": "code",
   "execution_count": null,
   "metadata": {},
   "outputs": [],
   "source": [
    "%%script false\n",
    "files = sorted( glob.glob(\"*.csv\"),key=os.path.getmtime )\n",
    "values = [ 1,2,3,4,5,6,7,8,9,10]\n",
    "a=b=c=d=e=f=g=h=j=k=0\n",
    "for file in files:\n",
    "    value = file.replace(\".csv\", \"\")\t# max tree size value\n",
    "    value = int(value[17:])\n",
    "    print(file)\n",
    "    print(value)\n",
    "    if value == 1:\n",
    "        a = a+1\n",
    "        shutil.copyfile(file, str(value) + \"_\"+str(a)+'.csv')\n",
    "    if value == 2:\n",
    "        b = b+1\n",
    "        shutil.copyfile(file, str(value) + \"_\"+str(b)+'.csv')\n",
    "    if value == 3:\n",
    "        c = c+1\n",
    "        shutil.copyfile(file, str(value) + \"_\"+str(c)+'.csv')\n",
    "    if value == 4:\n",
    "        d = d+1\n",
    "        shutil.copyfile(file, str(value) + \"_\"+str(d)+'.csv')\n",
    "    if value == 5:\n",
    "        e = e+1\n",
    "        shutil.copyfile(file, str(value) + \"_\"+str(e)+'.csv')\n",
    "    if value == 6:\n",
    "        f = f+1\n",
    "        shutil.copyfile(file, str(value) + \"_\"+str(f)+'.csv')\n",
    "    if value == 7:\n",
    "        g = g+1\n",
    "        shutil.copyfile(file, str(value) + \"_\"+str(g)+'.csv')\n",
    "    if value == 8:\n",
    "        h = h+1\n",
    "        shutil.copyfile(file, str(value) + \"_\"+str(h)+'.csv')\n",
    "    if value == 9:\n",
    "        j = j+1\n",
    "        shutil.copyfile(file, str(value) + \"_\"+str(j)+'.csv')\n",
    "    if value == 10:\n",
    "        k = k+1\n",
    "        shutil.copyfile(file, str(value) + \"_\"+str(k)+'.csv')"
   ]
  },
  {
   "cell_type": "code",
   "execution_count": null,
   "metadata": {},
   "outputs": [],
   "source": [
    "%%script false\n",
    "values= ['1','2','3','4','5','6','7','8','9','10']\n",
    "plt.figure( facecolor=(1, 1, 1) )\n",
    "plt.title (\"Variations of atomic functions\")\n",
    "plt.xlabel(\"Generations\")\n",
    "plt.ylabel(\"Fitness\")\n",
    "for val in values:\n",
    "    print(val)\n",
    "    plt.plot( range(max_gens), Fit_summation[(val)], label=str(val) )\n",
    "    legned = plt.legend(loc='lower right', shadow=True)\n",
    "plt.savefig('gen_atomic_fitness.png', format='png', dpi=300)\n",
    "plt.show()"
   ]
  },
  {
   "cell_type": "code",
   "execution_count": null,
   "metadata": {},
   "outputs": [],
   "source": [
    "max_gens = 50\n",
    "values= ['1']\n",
    "plt.figure( facecolor=(1, 1, 1) )\n",
    "plt.title (\"Variations of atomic functions\")\n",
    "plt.xlabel(\"Generations\")\n",
    "plt.ylabel(\"Fitness\")\n",
    "for val in values:\n",
    "    print(val)\n",
    "    plt.plot( range(max_gens), Fit_summation[(val)], label=str(val) )\n",
    "    legned = plt.legend(loc='lower right', shadow=True)\n",
    "plt.savefig('gen_atomic_fitness.png', format='png', dpi=300)\n",
    "plt.show()"
   ]
  },
  {
   "attachments": {},
   "cell_type": "markdown",
   "metadata": {},
   "source": [
    "### Direct from CSV fitnesses"
   ]
  },
  {
   "cell_type": "code",
   "execution_count": null,
   "metadata": {},
   "outputs": [],
   "source": [
    "def plot(file, every_nth=1, title=None):\n",
    "    fitnesses = []\n",
    "    # store all fitnesses in a list\n",
    "    with open(file) as csv_file:\n",
    "        csv_reader = csv.reader(csv_file, delimiter='\\t')\n",
    "        for row in csv_reader:\n",
    "            fitnesses.append(row)\n",
    "    fitnesses_array = np.array(fitnesses, dtype=np.float32)  # Transpose for boxplot\n",
    "    filtered_fit_array = np.ma.masked_invalid(fitnesses_array).T\n",
    "\n",
    "    fig, ax = plt.subplots(1, 1, constrained_layout=True, figsize=(12, 8))\n",
    "    ax.set_xlabel(\"Generation\")\n",
    "    plt.boxplot(filtered_fit_array[:,::every_nth], showfliers=False)\n",
    "    # plt.xticks(np.arange(0, len(fitnesses), every_nth))\n",
    "    labels, _ = plt.xticks()\n",
    "    plt.xticks(labels, labels*every_nth-every_nth)\n",
    "    if title is not None:\n",
    "        plt.title(str(title))\n",
    "    plt.savefig('fig1.png')\n",
    "    plt.show()\n",
    "\n",
    "# Manual renaming of the file to be plotted\n",
    "# plot('fitnesses_baseline_v1.csv', every_nth=2, title='Baseline')\n",
    "plot('baseline.csv', every_nth=2, title='Baseline')"
   ]
  },
  {
   "attachments": {},
   "cell_type": "markdown",
   "metadata": {},
   "source": [
    "Plot fitness for one run"
   ]
  },
  {
   "cell_type": "code",
   "execution_count": null,
   "metadata": {},
   "outputs": [],
   "source": [
    "data = {\n",
    "    'gen': [],\n",
    "    'Fit_best': [],\n",
    "    'Size_best': []\n",
    "}\n",
    "\n",
    "df = pd.DataFrame(data)\n",
    "\n",
    "with open('gen.csv', 'r') as f:\n",
    "    csv_reader = csv.reader(f, delimiter='\\t')\n",
    "    for row in csv_reader:\n",
    "        new_row = {'gen': row[0], 'Fit_best': row[1], 'Size_best': row[2]}\n",
    "        df = pd.concat([df, pd.DataFrame(new_row, index=[0])], ignore_index=True)\n",
    "\n",
    "print(df)"
   ]
  },
  {
   "cell_type": "code",
   "execution_count": null,
   "metadata": {},
   "outputs": [],
   "source": [
    "def fitBoxplot(file, every_nth=1):\n",
    "    fitnesses = []\n",
    "    # store all fitnesses in a list\n",
    "    with open(file) as csv_file:\n",
    "        csv_reader = csv.reader(csv_file, delimiter='\\t')\n",
    "        for row in csv_reader:\n",
    "            fitnesses.append(row)\n",
    "    fitnesses_array = np.array(fitnesses, dtype=np.float32)  # Transpose for boxplot\n",
    "    filtered_fit_array = np.ma.masked_invalid(fitnesses_array).T\n",
    "\n",
    "    fig = plt.figure(figsize=(10,5))  # Use this to size the figure\n",
    "    ax = fig.add_axes([0,0,1,1])\n",
    "    ax.set_xlabel(\"Generation\")\n",
    "    plt.boxplot(filtered_fit_array[:,::every_nth], showfliers=False)\n",
    "    # plt.xticks(np.arange(0, len(fitnesses), every_nth))\n",
    "    labels, _ = plt.xticks()\n",
    "    plt.xticks(labels, labels*every_nth-every_nth)\n",
    "    plt.show()"
   ]
  },
  {
   "cell_type": "code",
   "execution_count": null,
   "metadata": {},
   "outputs": [],
   "source": [
    "files = sorted( glob.glob(\"fitness*.csv\"),key=os.path.getmtime )\n",
    "for file in files:\n",
    "    fitBoxplot(file, every_nth=5)\n",
    "# This file is on my pc only, get your own fitness file by runing and evlution with save_fitnesses=True\n",
    "# plot('fitnesses20220617003333.csv', every_nth=5)\n"
   ]
  },
  {
   "cell_type": "code",
   "execution_count": null,
   "metadata": {},
   "outputs": [],
   "source": []
  },
  {
   "attachments": {},
   "cell_type": "markdown",
   "metadata": {},
   "source": [
    "## Animations"
   ]
  },
  {
   "attachments": {},
   "cell_type": "markdown",
   "metadata": {},
   "source": [
    "### Make an animation\n",
    "Here the best evolved individual is selected and one episode is rendered. Make sure to save your lunar landers over time to track progress and make comparisons."
   ]
  },
  {
   "cell_type": "code",
   "execution_count": null,
   "metadata": {},
   "outputs": [],
   "source": [
    "frames = []\n",
    "\n",
    "# gist to save gif from https://gist.github.com/botforge/64cbb71780e6208172bbf03cd9293553\n",
    "def save_frames_as_gif(frames, path='./', filename='evolved_lander.gif'):\n",
    "  plt.figure(figsize=(frames[0].shape[1] / 72.0, frames[0].shape[0] / 72.0), dpi=72)\n",
    "  patch = plt.imshow(frames[0])\n",
    "  plt.axis('off')\n",
    "  def animate(i):\n",
    "      patch.set_data(frames[i])\n",
    "  anim = animation.FuncAnimation(plt.gcf(), animate, frames = len(frames), interval=50)\n",
    "  anim.save(path + filename, writer='imagemagick', fps=60)\n",
    "\n",
    "frames = []\n",
    "fitness_function_pt(best, generation = 0, num_episodes=1, episode_duration=500, render=True, ignore_done=False)\n",
    "env.close()\n",
    "save_frames_as_gif(frames)"
   ]
  },
  {
   "attachments": {},
   "cell_type": "markdown",
   "metadata": {},
   "source": [
    "### Play animation"
   ]
  },
  {
   "attachments": {},
   "cell_type": "markdown",
   "metadata": {},
   "source": [
    "<img src=\"evolved_lander.gif\" width=\"750\">"
   ]
  },
  {
   "attachments": {},
   "cell_type": "markdown",
   "metadata": {},
   "source": [
    "## Optimisation\n",
    "The coefficients in the multi-tree aren't optimised. Here Q-learning (taken from https://pytorch.org/tutorials/intermediate/reinforcement_q_learning.html) is used to optimise the weights further. Incorporate coefficient optimisation in training your agent(s). Coefficient Optimisation can be expensive. Think about how often you want to optimise, when, which individuals etc."
   ]
  },
  {
   "cell_type": "code",
   "execution_count": null,
   "metadata": {},
   "outputs": [],
   "source": [
    "batch_size = 128\n",
    "GAMMA = 0.99\n",
    "\n",
    "constants = best.get_subtrees_consts()\n",
    "\n",
    "if len(constants)>0:\n",
    "  optimizer = optim.AdamW(constants, lr=1e-3, amsgrad=True)\n",
    "\n",
    "for _ in range(500):\n",
    "\n",
    "  if len(constants)>0 and len(evo.memory)>batch_size:\n",
    "    target_tree = copy.deepcopy(best)\n",
    "\n",
    "    transitions = evo.memory.sample(batch_size)\n",
    "    batch = Transition(*zip(*transitions))\n",
    "    \n",
    "    non_final_mask = torch.tensor(tuple(map(lambda s: s is not None,\n",
    "                                        batch.next_state)), dtype=torch.bool)\n",
    "\n",
    "    non_final_next_states = torch.cat([s for s in batch.next_state\n",
    "                                               if s is not None])\n",
    "    state_batch = torch.cat(batch.state)\n",
    "    action_batch = torch.cat(batch.action)\n",
    "    reward_batch = torch.cat(batch.reward)\n",
    "\n",
    "    state_action_values = best.get_output_pt(state_batch).gather(1, action_batch)\n",
    "    next_state_values = torch.zeros(batch_size, dtype=torch.float)\n",
    "    with torch.no_grad():\n",
    "      next_state_values[non_final_mask] = target_tree.get_output_pt(non_final_next_states).max(1)[0].float()\n",
    "\n",
    "    expected_state_action_values = (next_state_values * GAMMA) + reward_batch\n",
    "    \n",
    "    criterion = nn.SmoothL1Loss()\n",
    "    loss = criterion(state_action_values, expected_state_action_values.unsqueeze(1))\n",
    "   \n",
    "    # Optimize the model\n",
    "    optimizer.zero_grad()\n",
    "    loss.backward()\n",
    "    torch.nn.utils.clip_grad_value_(constants, 100)\n",
    "    optimizer.step()\n",
    "\n",
    "print(best.get_readable_repr())\n",
    "print(get_test_score(best))"
   ]
  },
  {
   "cell_type": "code",
   "execution_count": null,
   "metadata": {},
   "outputs": [],
   "source": [
    "frames = []\n",
    "fitness_function_pt(best, num_episodes=1, episode_duration=500, render=True, ignore_done=False)\n",
    "env.close()\n",
    "save_frames_as_gif(frames, filename='evolved_lander_RL.gif')"
   ]
  },
  {
   "attachments": {},
   "cell_type": "markdown",
   "metadata": {},
   "source": [
    "<img src=\"evolved_lander_RL.gif\" width=\"750\">"
   ]
  }
 ],
 "metadata": {
  "interpreter": {
   "hash": "224d5cd9c6b0ee09a4fcb288b4f99402d88b7b3d7b0cb6a08c577691994ebb89"
  },
  "kernelspec": {
   "display_name": "Python 3.9.16 ('env': venv)",
   "language": "python",
   "name": "python3"
  },
  "language_info": {
   "codemirror_mode": {
    "name": "ipython",
    "version": 3
   },
   "file_extension": ".py",
   "mimetype": "text/x-python",
   "name": "python",
   "nbconvert_exporter": "python",
   "pygments_lexer": "ipython3",
   "version": "3.9.16"
  }
 },
 "nbformat": 4,
 "nbformat_minor": 4
}
