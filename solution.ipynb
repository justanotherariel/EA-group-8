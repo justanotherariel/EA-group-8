{
 "cells": [
  {
   "cell_type": "markdown",
   "metadata": {},
   "source": [
    "# Evolving a Lunar Lander with differentiable Genetic Programming"
   ]
  },
  {
   "cell_type": "markdown",
   "metadata": {},
   "source": [
    "## Installation\n",
    "To install the required libraries run the command:"
   ]
  },
  {
   "cell_type": "code",
   "execution_count": 1,
   "metadata": {},
   "outputs": [],
   "source": [
    "# %%capture --no-display\n",
    "# %pip install -r requirements.txt"
   ]
  },
  {
   "cell_type": "markdown",
   "metadata": {},
   "source": [
    "## Imports\n",
    "Imports from the standard genepro-multi library are done here. Any adjustments (e.g. different operators) should be made in the notebook."
   ]
  },
  {
   "cell_type": "code",
   "execution_count": 2,
   "metadata": {},
   "outputs": [],
   "source": [
    "import gymnasium as gym\n",
    "\n",
    "from genepro.node_impl import *\n",
    "from genepro.evo import Evolution\n",
    "from genepro.node_impl import Constant\n",
    "\n",
    "import torch\n",
    "import torch.optim as optim\n",
    "\n",
    "import random\n",
    "import os\n",
    "import copy\n",
    "from collections import namedtuple, deque\n",
    "\n",
    "import matplotlib.pyplot as plt\n",
    "from matplotlib import animation"
   ]
  },
  {
   "cell_type": "markdown",
   "metadata": {},
   "source": [
    "## Reinforcement Learning Setup\n",
    "Here we first setup the Gymnasium environment. Please see https://gymnasium.farama.org/environments/box2d/lunar_lander/ for more information on the environment. \n",
    "\n",
    "Then a memory buffer is made. This is a buffer in which state transitions are stored. When the buffer reaches its maximum capacity old transitions are replaced by new ones.\n",
    "\n",
    "A frame buffer is initialised used to later store animation frames of the environment."
   ]
  },
  {
   "cell_type": "code",
   "execution_count": 3,
   "metadata": {},
   "outputs": [],
   "source": [
    "env = gym.make(\"LunarLander-v2\", render_mode=\"rgb_array\")"
   ]
  },
  {
   "cell_type": "code",
   "execution_count": 4,
   "metadata": {},
   "outputs": [],
   "source": [
    "Transition = namedtuple('Transition', ('state', 'action', 'next_state', 'reward'))\n",
    "\n",
    "class ReplayMemory(object):\n",
    "    def __init__(self, capacity):\n",
    "        self.memory = deque([], maxlen=capacity)\n",
    "\n",
    "    def push(self, *args):\n",
    "        \"\"\"Save a transition\"\"\"\n",
    "        self.memory.append(Transition(*args))\n",
    "\n",
    "    def sample(self, batch_size):\n",
    "        return random.sample(self.memory, batch_size)\n",
    "\n",
    "    def __len__(self):\n",
    "        return len(self.memory)\n",
    "\n",
    "    def __iadd__(self, other):\n",
    "      self.memory += other.memory\n",
    "      return self \n",
    "\n",
    "    def __add__(self, other):\n",
    "      self.memory = self.memory + other.memory \n",
    "      return self"
   ]
  },
  {
   "cell_type": "code",
   "execution_count": 5,
   "metadata": {},
   "outputs": [],
   "source": [
    "frames = []"
   ]
  },
  {
   "cell_type": "markdown",
   "metadata": {},
   "source": [
    "## Fitness Function\n",
    "\n",
    "Here you get to be creative. The default setup evaluates 5 episodes of 300 frames. Think of what action to pick and what fitness function to use. The Multi-tree takes an input of $n \\times d$ where $n$ is a batch of size 1."
   ]
  },
  {
   "cell_type": "code",
   "execution_count": 6,
   "metadata": {},
   "outputs": [],
   "source": [
    "def fitness_function_pt(multitree, generation, num_episodes=5, episode_duration=300, render=False, ignore_done=False):\n",
    "  memory = ReplayMemory(10000)\n",
    "  rewards = []\n",
    "\n",
    "  for i in range(num_episodes):\n",
    "    # get initial state of the environment\n",
    "    observation = env.reset(seed=(generation*1000 + i))\n",
    "    observation = observation[0]\n",
    "    \n",
    "    for _ in range(episode_duration):\n",
    "      if render:\n",
    "        frames.append(env.render())\n",
    "\n",
    "      input_sample = torch.from_numpy(observation.reshape((1,-1))).float()\n",
    "      \n",
    "      action = torch.argmax(multitree.get_output_pt(input_sample))\n",
    "      observation, reward, terminated, truncated, info = env.step(action.item())\n",
    "      rewards.append(reward)\n",
    "      output_sample = torch.from_numpy(observation.reshape((1,-1))).float()\n",
    "      memory.push(input_sample, torch.tensor([[action.item()]]), output_sample, torch.tensor([reward]))\n",
    "      if (terminated or truncated) and not ignore_done:\n",
    "        break\n",
    "\n",
    "  fitness = np.sum(rewards)/num_episodes\n",
    "  return fitness, memory"
   ]
  },
  {
   "cell_type": "markdown",
   "metadata": {},
   "source": [
    "## Evolution Setup & Evolve\n",
    "Here the leaf and internal nodes are defined. Think about the odds of sampling a constant in this default configurations. Also think about any operators that could be useful and add them here. \n",
    "\n",
    "Adjust the population size (multiple of 8 if you want to use the standard tournament selection), max generations and max tree size to taste. Be aware that each of these settings can increase the runtime."
   ]
  },
  {
   "cell_type": "code",
   "execution_count": 7,
   "metadata": {},
   "outputs": [],
   "source": [
    "num_features = env.observation_space.shape[0]\n",
    "leaf_nodes = [Feature(i) for i in range(num_features)] + [Constant() for _ in range(1)]\n",
    "internal_nodes = [Plus(), Minus(), Times(), Div(), Square(), Sqrt(), Log(), Sin(), Cos(), Max(), Min()] #Add your own operators here\n",
    "\n",
    "evo = Evolution(\n",
    "  fitness_function_pt, internal_nodes, leaf_nodes,\n",
    "  4,\n",
    "  pop_size=256,\n",
    "  max_gens=50,\n",
    "  max_tree_size=31,\n",
    "  n_jobs=10,\n",
    "  verbose=True)"
   ]
  },
  {
   "cell_type": "markdown",
   "metadata": {},
   "source": [
    "## Evolve\n",
    "Running this cell will use all the settings above as parameters"
   ]
  },
  {
   "cell_type": "code",
   "execution_count": 8,
   "metadata": {},
   "outputs": [
    {
     "name": "stdout",
     "output_type": "stream",
     "text": [
      "Generation: 1\n",
      "\tBest - \tFitness: -40.104, Size: 12\n",
      "\tPopulation - \tAverage Fitness: -203.01188362746947\n",
      "Generation: 2\n",
      "\tBest - \tFitness: -63.867, Size: 12\n",
      "\tPopulation - \tAverage Fitness: -280.5543034621891\n",
      "Generation: 3\n",
      "\tBest - \tFitness: -15.260, Size: 12\n",
      "\tPopulation - \tAverage Fitness: -152.96737454021317\n",
      "Generation: 4\n",
      "\tBest - \tFitness: -21.412, Size: 12\n",
      "\tPopulation - \tAverage Fitness: -215.44526833410362\n",
      "Generation: 5\n",
      "\tBest - \tFitness: -10.843, Size: 12\n",
      "\tPopulation - \tAverage Fitness: -183.037505891231\n",
      "Generation: 6\n",
      "\tBest - \tFitness: 16.942, Size: 12\n",
      "\tPopulation - \tAverage Fitness: -146.8869151757432\n",
      "Generation: 7\n",
      "\tBest - \tFitness: 5.334, Size: 20\n",
      "\tPopulation - \tAverage Fitness: -153.7981842262124\n",
      "Generation: 8\n",
      "\tBest - \tFitness: -41.157, Size: 15\n",
      "\tPopulation - \tAverage Fitness: -170.8065550989888\n",
      "Generation: 9\n",
      "\tBest - \tFitness: 0.648, Size: 27\n",
      "\tPopulation - \tAverage Fitness: -116.65236460651985\n",
      "Generation: 10\n",
      "\tBest - \tFitness: -12.144, Size: 24\n",
      "\tPopulation - \tAverage Fitness: -116.11911265906981\n",
      "Generation: 11\n",
      "\tBest - \tFitness: 11.910, Size: 22\n",
      "\tPopulation - \tAverage Fitness: -113.53214210389868\n",
      "Generation: 12\n",
      "\tBest - \tFitness: 53.564, Size: 23\n",
      "\tPopulation - \tAverage Fitness: -84.34189529455719\n",
      "Generation: 13\n",
      "\tBest - \tFitness: 45.759, Size: 23\n",
      "\tPopulation - \tAverage Fitness: -80.01534178151982\n",
      "Generation: 14\n",
      "\tBest - \tFitness: 9.708, Size: 29\n",
      "\tPopulation - \tAverage Fitness: -65.9952618529809\n",
      "Generation: 15\n",
      "\tBest - \tFitness: 0.208, Size: 22\n",
      "\tPopulation - \tAverage Fitness: -94.32039003899533\n",
      "Generation: 16\n",
      "\tBest - \tFitness: 68.791, Size: 26\n",
      "\tPopulation - \tAverage Fitness: -74.88027813936809\n",
      "Generation: 17\n",
      "\tBest - \tFitness: 82.007, Size: 26\n",
      "\tPopulation - \tAverage Fitness: -84.84188971010262\n",
      "Generation: 18\n",
      "\tBest - \tFitness: 119.192, Size: 23\n",
      "\tPopulation - \tAverage Fitness: -54.67626234999522\n",
      "Generation: 19\n",
      "\tBest - \tFitness: -22.797, Size: 31\n",
      "\tPopulation - \tAverage Fitness: -111.42579419923771\n",
      "Generation: 20\n",
      "\tBest - \tFitness: 78.930, Size: 23\n",
      "\tPopulation - \tAverage Fitness: -128.57193412857302\n",
      "Generation: 21\n",
      "\tBest - \tFitness: 12.846, Size: 22\n",
      "\tPopulation - \tAverage Fitness: -133.2058053771932\n",
      "Generation: 22\n",
      "\tBest - \tFitness: 60.500, Size: 31\n",
      "\tPopulation - \tAverage Fitness: -126.92332700813192\n",
      "Generation: 23\n",
      "\tBest - \tFitness: 63.418, Size: 23\n",
      "\tPopulation - \tAverage Fitness: -112.98628386139801\n",
      "Generation: 24\n",
      "\tBest - \tFitness: 40.791, Size: 23\n",
      "\tPopulation - \tAverage Fitness: -98.780710456604\n",
      "Generation: 25\n",
      "\tBest - \tFitness: 136.602, Size: 25\n",
      "\tPopulation - \tAverage Fitness: -45.301579464561435\n",
      "Generation: 26\n",
      "\tBest - \tFitness: 15.581, Size: 29\n",
      "\tPopulation - \tAverage Fitness: -112.07016694802866\n",
      "Generation: 27\n",
      "\tBest - \tFitness: 118.438, Size: 22\n",
      "\tPopulation - \tAverage Fitness: -98.35556705995215\n",
      "Generation: 28\n",
      "\tBest - \tFitness: 63.993, Size: 29\n",
      "\tPopulation - \tAverage Fitness: -90.4315883251147\n",
      "Generation: 29\n",
      "\tBest - \tFitness: -7.689, Size: 28\n",
      "\tPopulation - \tAverage Fitness: -124.4482542853891\n",
      "Generation: 30\n",
      "\tBest - \tFitness: -2.464, Size: 31\n",
      "\tPopulation - \tAverage Fitness: -107.35967318132526\n"
     ]
    },
    {
     "name": "stderr",
     "output_type": "stream",
     "text": [
      "/home/ariel/University/master/4th-quarter_2023S/evolutionary-algorithms/project-impr-1/env/lib/python3.9/site-packages/joblib/externals/loky/process_executor.py:700: UserWarning: A worker stopped while some jobs were given to the executor. This can be caused by a too short worker timeout or by a memory leak.\n",
      "  warnings.warn(\n"
     ]
    },
    {
     "name": "stdout",
     "output_type": "stream",
     "text": [
      "Generation: 31\n",
      "\tBest - \tFitness: 89.100, Size: 27\n",
      "\tPopulation - \tAverage Fitness: -49.52212870387175\n",
      "Generation: 32\n",
      "\tBest - \tFitness: 88.330, Size: 30\n",
      "\tPopulation - \tAverage Fitness: -24.808072240426483\n",
      "Generation: 33\n",
      "\tBest - \tFitness: 31.212, Size: 30\n",
      "\tPopulation - \tAverage Fitness: -85.63939573562531\n",
      "Generation: 34\n",
      "\tBest - \tFitness: 58.734, Size: 28\n",
      "\tPopulation - \tAverage Fitness: -46.97271739932825\n",
      "Generation: 35\n",
      "\tBest - \tFitness: 1.884, Size: 22\n",
      "\tPopulation - \tAverage Fitness: -113.82027463631843\n",
      "Generation: 36\n",
      "\tBest - \tFitness: 121.994, Size: 25\n",
      "\tPopulation - \tAverage Fitness: -56.462693161457935\n",
      "Generation: 37\n",
      "\tBest - \tFitness: 26.860, Size: 24\n",
      "\tPopulation - \tAverage Fitness: -109.55834478281893\n",
      "Generation: 38\n",
      "\tBest - \tFitness: -4.984, Size: 26\n",
      "\tPopulation - \tAverage Fitness: -98.70502050182655\n",
      "Generation: 39\n",
      "\tBest - \tFitness: -48.507, Size: 25\n",
      "\tPopulation - \tAverage Fitness: -137.38465485916012\n",
      "Generation: 40\n",
      "\tBest - \tFitness: 89.599, Size: 27\n",
      "\tPopulation - \tAverage Fitness: -64.48716390303777\n",
      "Generation: 41\n",
      "\tBest - \tFitness: 84.493, Size: 27\n",
      "\tPopulation - \tAverage Fitness: -31.15804834198805\n",
      "Generation: 42\n",
      "\tBest - \tFitness: 84.618, Size: 28\n",
      "\tPopulation - \tAverage Fitness: -42.66211404432485\n",
      "Generation: 43\n",
      "\tBest - \tFitness: 31.007, Size: 25\n",
      "\tPopulation - \tAverage Fitness: -113.50676324628203\n",
      "Generation: 44\n",
      "\tBest - \tFitness: 54.345, Size: 27\n",
      "\tPopulation - \tAverage Fitness: -44.15486587752284\n",
      "Generation: 45\n",
      "\tBest - \tFitness: 36.931, Size: 30\n",
      "\tPopulation - \tAverage Fitness: -45.962538322902475\n",
      "Generation: 46\n",
      "\tBest - \tFitness: 60.305, Size: 27\n",
      "\tPopulation - \tAverage Fitness: -59.26819604320754\n",
      "Generation: 47\n",
      "\tBest - \tFitness: 15.195, Size: 31\n",
      "\tPopulation - \tAverage Fitness: -94.49453052459573\n",
      "Generation: 48\n",
      "\tBest - \tFitness: 25.700, Size: 31\n",
      "\tPopulation - \tAverage Fitness: -55.81761690888746\n",
      "Generation: 49\n",
      "\tBest - \tFitness: 84.933, Size: 25\n",
      "\tPopulation - \tAverage Fitness: -73.45860153260725\n",
      "Last Generation - Thorough Eval\n",
      "Generation: 50\n",
      "\tBest - \tFitness: 17.200, Size: 31\n",
      "\tPopulation - \tAverage Fitness: -72.7951245372835\n"
     ]
    }
   ],
   "source": [
    "np.random.seed(42)\n",
    "\n",
    "num_features = env.observation_space.shape[0]\n",
    "leaf_nodes = [Feature(i) for i in range(num_features)] + [Constant() for _ in range(1)]\n",
    "internal_nodes = [Plus(), Minus(), Times(), Div(), Square(), Sqrt(), Log(), Sin(), Cos(), Max(), Min()] #Add your own operators here\n",
    "\n",
    "# Run a few times to collect Data\n",
    "for _ in range(5):\n",
    "  evo = Evolution(\n",
    "    fitness_function_pt, internal_nodes, leaf_nodes,\n",
    "    4,\n",
    "    pop_size=256,\n",
    "    max_gens=50,\n",
    "    max_tree_size=31,\n",
    "    n_jobs=8,\n",
    "    log_data=True,\n",
    "    verbose=True)\n",
    "  \n",
    "  evo.evolve()"
   ]
  },
  {
   "cell_type": "markdown",
   "metadata": {},
   "source": [
    "# Test"
   ]
  },
  {
   "cell_type": "code",
   "execution_count": 12,
   "metadata": {},
   "outputs": [
    {
     "name": "stdout",
     "output_type": "stream",
     "text": [
      "['sqrt(abs(((min(sin((max(sqrt(abs((x_5/((x_1)**2*(cos(log(abs(x_5)))*(max(x_0,x_1)-sin(max(x_6,x_4)))))))),sin(x_6)))**2),-1.3413521770946741)*sin(x_1)))**2))', '(log(abs(cos(min(((x_1+x_3)*min(log(abs(x_6)),cos(min(x_0,x_0)))),max((x_0/((x_1+x_3)*min(log(abs(x_6)),cos(min(x_0,x_0))))),x_2)))))/x_3)', '(x_3)**2', '(log(abs(x_1))+max(((x_1+x_1)/x_5),cos(min(log(abs((sin((max(max(x_7,x_0),x_3)/(x_1/cos(x_6)))))**2)),-4.096794435806871))))']\n",
      "0.1485058382296766\n"
     ]
    }
   ],
   "source": [
    "def get_test_score(tree):\n",
    "    rewards = []\n",
    "\n",
    "    for i in range(10):\n",
    "      # get initial state\n",
    "      observation = env.reset(seed=i)\n",
    "      observation = observation[0]\n",
    "\n",
    "      for _ in range(500):    \n",
    "        # build up the input sample for GP\n",
    "        input_sample = torch.from_numpy(observation.reshape((1,-1))).float()\n",
    "        # get output (squeezing because it is encapsulated in an array)\n",
    "        output = tree.get_output_pt(input_sample)\n",
    "        action = torch.argmax(output)\n",
    "        observation, reward, terminated, truncated, info = env.step(action.item())\n",
    "        rewards.append(reward)\n",
    "\n",
    "        output_sample = torch.from_numpy(observation.reshape((1,-1))).float()\n",
    "        if (terminated or truncated):\n",
    "            break\n",
    "\n",
    "    fitness = np.mean(rewards)\n",
    "    \n",
    "    return fitness\n",
    "\n",
    "best = evo.best_of_gens[-1]\n",
    "\n",
    "print(best.get_readable_repr())\n",
    "print(get_test_score(best))"
   ]
  },
  {
   "cell_type": "markdown",
   "metadata": {},
   "source": [
    "## Make an animation\n",
    "Here the best evolved individual is selected and one episode is rendered. Make sure to save your lunar landers over time to track progress and make comparisons."
   ]
  },
  {
   "cell_type": "code",
   "execution_count": 16,
   "metadata": {},
   "outputs": [
    {
     "data": {
      "image/png": "[encoded data removed]",
      "text/plain": [
       "<Figure size 600x400 with 1 Axes>"
      ]
     },
     "metadata": {},
     "output_type": "display_data"
    }
   ],
   "source": [
    "best = evo.best_of_gens[-1]\n",
    "\n",
    "frames = []\n",
    "\n",
    "# gist to save gif from https://gist.github.com/botforge/64cbb71780e6208172bbf03cd9293553\n",
    "def save_frames_as_gif(frames, path='./', filename='evolved_lander.gif'):\n",
    "  plt.figure(figsize=(frames[0].shape[1] / 72.0, frames[0].shape[0] / 72.0), dpi=72)\n",
    "  patch = plt.imshow(frames[0])\n",
    "  plt.axis('off')\n",
    "  def animate(i):\n",
    "      patch.set_data(frames[i])\n",
    "  anim = animation.FuncAnimation(plt.gcf(), animate, frames = len(frames), interval=50)\n",
    "  anim.save(path + filename, writer='imagemagick', fps=60)\n",
    "\n",
    "frames = []\n",
    "fitness_function_pt(best, generation = 0, num_episodes=1, episode_duration=500, render=True, ignore_done=False)\n",
    "env.close()\n",
    "save_frames_as_gif(frames)"
   ]
  },
  {
   "cell_type": "markdown",
   "metadata": {},
   "source": [
    "## Play animation"
   ]
  },
  {
   "cell_type": "markdown",
   "metadata": {},
   "source": [
    "<img src=\"evolved_lander.gif\" width=\"750\">"
   ]
  },
  {
   "cell_type": "markdown",
   "metadata": {},
   "source": [
    "## Optimisation\n",
    "The coefficients in the multi-tree aren't optimised. Here Q-learning (taken from https://pytorch.org/tutorials/intermediate/reinforcement_q_learning.html) is used to optimise the weights further. Incorporate coefficient optimisation in training your agent(s). Coefficient Optimisation can be expensive. Think about how often you want to optimise, when, which individuals etc."
   ]
  },
  {
   "cell_type": "code",
   "execution_count": null,
   "metadata": {},
   "outputs": [],
   "source": [
    "batch_size = 128\n",
    "GAMMA = 0.99\n",
    "\n",
    "constants = best.get_subtrees_consts()\n",
    "\n",
    "if len(constants)>0:\n",
    "  optimizer = optim.AdamW(constants, lr=1e-3, amsgrad=True)\n",
    "\n",
    "for _ in range(500):\n",
    "\n",
    "  if len(constants)>0 and len(evo.memory)>batch_size:\n",
    "    target_tree = copy.deepcopy(best)\n",
    "\n",
    "    transitions = evo.memory.sample(batch_size)\n",
    "    batch = Transition(*zip(*transitions))\n",
    "    \n",
    "    non_final_mask = torch.tensor(tuple(map(lambda s: s is not None,\n",
    "                                        batch.next_state)), dtype=torch.bool)\n",
    "\n",
    "    non_final_next_states = torch.cat([s for s in batch.next_state\n",
    "                                               if s is not None])\n",
    "    state_batch = torch.cat(batch.state)\n",
    "    action_batch = torch.cat(batch.action)\n",
    "    reward_batch = torch.cat(batch.reward)\n",
    "\n",
    "    state_action_values = best.get_output_pt(state_batch).gather(1, action_batch)\n",
    "    next_state_values = torch.zeros(batch_size, dtype=torch.float)\n",
    "    with torch.no_grad():\n",
    "      next_state_values[non_final_mask] = target_tree.get_output_pt(non_final_next_states).max(1)[0].float()\n",
    "\n",
    "    expected_state_action_values = (next_state_values * GAMMA) + reward_batch\n",
    "    \n",
    "    criterion = nn.SmoothL1Loss()\n",
    "    loss = criterion(state_action_values, expected_state_action_values.unsqueeze(1))\n",
    "   \n",
    "    # Optimize the model\n",
    "    optimizer.zero_grad()\n",
    "    loss.backward()\n",
    "    torch.nn.utils.clip_grad_value_(constants, 100)\n",
    "    optimizer.step()\n",
    "\n",
    "print(best.get_readable_repr())\n",
    "print(get_test_score(best))"
   ]
  },
  {
   "cell_type": "code",
   "execution_count": null,
   "metadata": {},
   "outputs": [],
   "source": [
    "frames = []\n",
    "fitness_function_pt(best, num_episodes=1, episode_duration=500, render=True, ignore_done=False)\n",
    "env.close()\n",
    "save_frames_as_gif(frames, filename='evolved_lander_RL.gif')"
   ]
  },
  {
   "cell_type": "markdown",
   "metadata": {},
   "source": [
    "<img src=\"evolved_lander_RL.gif\" width=\"750\">"
   ]
  }
 ],
 "metadata": {
  "interpreter": {
   "hash": "418dcdb4d37babd9dbe9edab2c2ef3757f3166f0f7f6579e9d679af19abe9b1b"
  },
  "kernelspec": {
   "display_name": "Python 3.9.16 ('env': venv)",
   "language": "python",
   "name": "python3"
  },
  "language_info": {
   "codemirror_mode": {
    "name": "ipython",
    "version": 3
   },
   "file_extension": ".py",
   "mimetype": "text/x-python",
   "name": "python",
   "nbconvert_exporter": "python",
   "pygments_lexer": "ipython3",
   "version": "3.9.16"
  }
 },
 "nbformat": 4,
 "nbformat_minor": 4
}
