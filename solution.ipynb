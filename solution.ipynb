{
 "cells": [
  {
   "cell_type": "markdown",
   "metadata": {},
   "source": [
    "# Evolving a Lunar Lander with differentiable Genetic Programming"
   ]
  },
  {
   "cell_type": "markdown",
   "metadata": {},
   "source": [
    "## Installation\n",
    "To install the required libraries run the command:"
   ]
  },
  {
   "cell_type": "code",
   "execution_count": 8,
   "metadata": {},
   "outputs": [],
   "source": [
    "# %%capture --no-display\n",
    "# %pip install -r requirements.txt"
   ]
  },
  {
   "cell_type": "markdown",
   "metadata": {},
   "source": [
    "## Imports\n",
    "Imports from the standard genepro-multi library are done here. Any adjustments (e.g. different operators) should be made in the notebook."
   ]
  },
  {
   "cell_type": "code",
   "execution_count": 9,
   "metadata": {},
   "outputs": [],
   "source": [
    "import gymnasium as gym\n",
    "\n",
    "from genepro.node_impl import *\n",
    "from genepro.evo import Evolution\n",
    "from genepro.node_impl import Constant\n",
    "\n",
    "import torch\n",
    "import torch.optim as optim\n",
    "\n",
    "import random\n",
    "import os\n",
    "import copy\n",
    "from collections import namedtuple, deque\n",
    "\n",
    "import matplotlib.pyplot as plt\n",
    "from matplotlib import animation"
   ]
  },
  {
   "cell_type": "markdown",
   "metadata": {},
   "source": [
    "## Reinforcement Learning Setup\n",
    "Here we first setup the Gymnasium environment. Please see https://gymnasium.farama.org/environments/box2d/lunar_lander/ for more information on the environment. \n",
    "\n",
    "Then a memory buffer is made. This is a buffer in which state transitions are stored. When the buffer reaches its maximum capacity old transitions are replaced by new ones.\n",
    "\n",
    "A frame buffer is initialised used to later store animation frames of the environment."
   ]
  },
  {
   "cell_type": "code",
   "execution_count": 10,
   "metadata": {},
   "outputs": [],
   "source": [
    "env = gym.make(\"LunarLander-v2\", render_mode=\"rgb_array\")"
   ]
  },
  {
   "cell_type": "code",
   "execution_count": 11,
   "metadata": {},
   "outputs": [],
   "source": [
    "Transition = namedtuple('Transition', ('state', 'action', 'next_state', 'reward'))\n",
    "\n",
    "class ReplayMemory(object):\n",
    "    def __init__(self, capacity):\n",
    "        self.memory = deque([], maxlen=capacity)\n",
    "\n",
    "    def push(self, *args):\n",
    "        \"\"\"Save a transition\"\"\"\n",
    "        self.memory.append(Transition(*args))\n",
    "\n",
    "    def sample(self, batch_size):\n",
    "        return random.sample(self.memory, batch_size)\n",
    "\n",
    "    def __len__(self):\n",
    "        return len(self.memory)\n",
    "\n",
    "    def __iadd__(self, other):\n",
    "      self.memory += other.memory\n",
    "      return self \n",
    "\n",
    "    def __add__(self, other):\n",
    "      self.memory = self.memory + other.memory \n",
    "      return self"
   ]
  },
  {
   "cell_type": "code",
   "execution_count": 12,
   "metadata": {},
   "outputs": [],
   "source": [
    "frames = []"
   ]
  },
  {
   "cell_type": "markdown",
   "metadata": {},
   "source": [
    "## Fitness Function\n",
    "\n",
    "Here you get to be creative. The default setup evaluates 5 episodes of 300 frames. Think of what action to pick and what fitness function to use. The Multi-tree takes an input of $n \\times d$ where $n$ is a batch of size 1."
   ]
  },
  {
   "cell_type": "code",
   "execution_count": 13,
   "metadata": {},
   "outputs": [],
   "source": [
    "def fitness_function_pt(multitree, generation, num_episodes=5, episode_duration=300, render=False, ignore_done=False):\n",
    "  memory = ReplayMemory(10000)\n",
    "  rewards = []\n",
    "\n",
    "  for i in range(num_episodes):\n",
    "    # get initial state of the environment\n",
    "    observation = env.reset(seed=(generation*1000 + i))\n",
    "    observation = observation[0]\n",
    "    \n",
    "    for _ in range(episode_duration):\n",
    "      if render:\n",
    "        frames.append(env.render())\n",
    "\n",
    "      input_sample = torch.from_numpy(observation.reshape((1,-1))).float()\n",
    "      \n",
    "      action = torch.argmax(multitree.get_output_pt(input_sample))\n",
    "      observation, reward, terminated, truncated, info = env.step(action.item())\n",
    "      rewards.append(reward)\n",
    "      output_sample = torch.from_numpy(observation.reshape((1,-1))).float()\n",
    "      memory.push(input_sample, torch.tensor([[action.item()]]), output_sample, torch.tensor([reward]))\n",
    "      if (terminated or truncated) and not ignore_done:\n",
    "        break\n",
    "\n",
    "  fitness = np.sum(rewards)/num_episodes\n",
    "  return fitness, memory"
   ]
  },
  {
   "cell_type": "markdown",
   "metadata": {},
   "source": [
    "## Evolution Setup\n",
    "Here the leaf and internal nodes are defined. Think about the odds of sampling a constant in this default configurations. Also think about any operators that could be useful and add them here. \n",
    "\n",
    "Adjust the population size (multiple of 8 if you want to use the standard tournament selection), max generations and max tree size to taste. Be aware that each of these settings can increase the runtime."
   ]
  },
  {
   "cell_type": "code",
   "execution_count": 14,
   "metadata": {},
   "outputs": [],
   "source": [
    "num_features = env.observation_space.shape[0]\n",
    "leaf_nodes = [Feature(i) for i in range(num_features)] + [Constant() for _ in range(1)]\n",
    "internal_nodes = [Plus(), Minus(), Times(), Div(), Square(), Sqrt(), Log(), Sin(), Cos(), Max(), Min()] #Add your own operators here\n",
    "\n",
    "evo = Evolution(\n",
    "  fitness_function_pt, internal_nodes, leaf_nodes,\n",
    "  4,\n",
    "  pop_size=256,\n",
    "  max_gens=50,\n",
    "  max_tree_size=31,\n",
    "  n_jobs=8,\n",
    "  verbose=True)"
   ]
  },
  {
   "cell_type": "markdown",
   "metadata": {},
   "source": [
    "## Evolve\n",
    "Running this cell will use all the settings above as parameters"
   ]
  },
  {
   "cell_type": "code",
   "execution_count": 15,
   "metadata": {},
   "outputs": [
    {
     "name": "stdout",
     "output_type": "stream",
     "text": [
      "Generation: 1\n",
      "\tBest - \tFitness: -6.396, Size: 19\n",
      "\tPopulation - \tAverage Fitness: -216.54375773875603\n",
      "Generation: 2\n",
      "\tBest - \tFitness: -91.921, Size: 23\n",
      "\tPopulation - \tAverage Fitness: -233.48805473279702\n",
      "Generation: 3\n",
      "\tBest - \tFitness: -56.555, Size: 23\n",
      "\tPopulation - \tAverage Fitness: -198.93528552468527\n",
      "Generation: 4\n",
      "\tBest - \tFitness: -40.884, Size: 15\n",
      "\tPopulation - \tAverage Fitness: -248.00535178484864\n",
      "Generation: 5\n",
      "\tBest - \tFitness: -39.099, Size: 31\n",
      "\tPopulation - \tAverage Fitness: -203.791088193747\n",
      "Generation: 6\n",
      "\tBest - \tFitness: -26.874, Size: 27\n",
      "\tPopulation - \tAverage Fitness: -258.73820519354996\n",
      "Generation: 7\n",
      "\tBest - \tFitness: -55.354, Size: 18\n",
      "\tPopulation - \tAverage Fitness: -208.44090506112303\n",
      "Generation: 8\n",
      "\tBest - \tFitness: -44.978, Size: 25\n",
      "\tPopulation - \tAverage Fitness: -187.32357918040628\n",
      "Generation: 9\n",
      "\tBest - \tFitness: -11.265, Size: 25\n",
      "\tPopulation - \tAverage Fitness: -180.83592958014617\n",
      "Generation: 10\n",
      "\tBest - \tFitness: 9.898, Size: 30\n",
      "\tPopulation - \tAverage Fitness: -176.0181968730121\n",
      "Generation: 11\n",
      "\tBest - \tFitness: -59.139, Size: 24\n",
      "\tPopulation - \tAverage Fitness: -213.21492857079147\n",
      "Generation: 12\n",
      "\tBest - \tFitness: 6.116, Size: 26\n",
      "\tPopulation - \tAverage Fitness: -189.94640799486564\n",
      "Generation: 13\n",
      "\tBest - \tFitness: -47.374, Size: 25\n",
      "\tPopulation - \tAverage Fitness: -241.60246879429647\n",
      "Generation: 14\n",
      "\tBest - \tFitness: -24.581, Size: 30\n",
      "\tPopulation - \tAverage Fitness: -170.31365198555352\n",
      "Generation: 15\n",
      "\tBest - \tFitness: -44.048, Size: 21\n",
      "\tPopulation - \tAverage Fitness: -233.77292212064654\n",
      "Generation: 16\n",
      "\tBest - \tFitness: 52.319, Size: 21\n",
      "\tPopulation - \tAverage Fitness: -134.6962822385315\n",
      "Generation: 17\n",
      "\tBest - \tFitness: -33.658, Size: 30\n",
      "\tPopulation - \tAverage Fitness: -203.7874227332075\n",
      "Generation: 18\n",
      "\tBest - \tFitness: -28.819, Size: 21\n",
      "\tPopulation - \tAverage Fitness: -221.57633084851742\n",
      "Generation: 19\n",
      "\tBest - \tFitness: -53.958, Size: 31\n",
      "\tPopulation - \tAverage Fitness: -200.99178644703508\n",
      "Generation: 20\n",
      "\tBest - \tFitness: 2.565, Size: 30\n",
      "\tPopulation - \tAverage Fitness: -194.46432537085826\n",
      "Generation: 21\n",
      "\tBest - \tFitness: -73.138, Size: 31\n",
      "\tPopulation - \tAverage Fitness: -190.82944747191019\n",
      "Generation: 22\n",
      "\tBest - \tFitness: -49.537, Size: 31\n",
      "\tPopulation - \tAverage Fitness: -168.60409080514373\n"
     ]
    },
    {
     "name": "stderr",
     "output_type": "stream",
     "text": [
      "/home/ariel/University/master/4th-quarter_2023S/evolutionary-algorithms/project-main/env/lib/python3.9/site-packages/joblib/externals/loky/process_executor.py:700: UserWarning: A worker stopped while some jobs were given to the executor. This can be caused by a too short worker timeout or by a memory leak.\n",
      "  warnings.warn(\n"
     ]
    },
    {
     "name": "stdout",
     "output_type": "stream",
     "text": [
      "Generation: 23\n",
      "\tBest - \tFitness: 7.187, Size: 30\n",
      "\tPopulation - \tAverage Fitness: -161.92872256787845\n",
      "Generation: 24\n",
      "\tBest - \tFitness: 22.275, Size: 31\n",
      "\tPopulation - \tAverage Fitness: -162.48800634578285\n",
      "Generation: 25\n",
      "\tBest - \tFitness: 68.176, Size: 31\n",
      "\tPopulation - \tAverage Fitness: -108.17092983661811\n",
      "Generation: 26\n",
      "\tBest - \tFitness: -8.593, Size: 31\n",
      "\tPopulation - \tAverage Fitness: -151.16453367050673\n",
      "Generation: 27\n",
      "\tBest - \tFitness: 11.572, Size: 31\n",
      "\tPopulation - \tAverage Fitness: -116.32648014791678\n",
      "Generation: 28\n",
      "\tBest - \tFitness: 93.186, Size: 31\n",
      "\tPopulation - \tAverage Fitness: -62.21549340577437\n",
      "Generation: 29\n",
      "\tBest - \tFitness: -47.722, Size: 31\n",
      "\tPopulation - \tAverage Fitness: -106.88067891234684\n",
      "Generation: 30\n",
      "\tBest - \tFitness: -8.617, Size: 31\n",
      "\tPopulation - \tAverage Fitness: -103.85709316201667\n",
      "Generation: 31\n",
      "\tBest - \tFitness: 93.298, Size: 31\n",
      "\tPopulation - \tAverage Fitness: -120.02376412718435\n",
      "Generation: 32\n",
      "\tBest - \tFitness: 89.179, Size: 31\n",
      "\tPopulation - \tAverage Fitness: -118.58130138710989\n",
      "Generation: 33\n",
      "\tBest - \tFitness: -8.024, Size: 28\n",
      "\tPopulation - \tAverage Fitness: -129.52859469180132\n",
      "Generation: 34\n",
      "\tBest - \tFitness: 72.050, Size: 31\n",
      "\tPopulation - \tAverage Fitness: -89.57655520445967\n",
      "Generation: 35\n",
      "\tBest - \tFitness: 55.363, Size: 31\n",
      "\tPopulation - \tAverage Fitness: -73.22516774515294\n",
      "Generation: 36\n",
      "\tBest - \tFitness: 105.747, Size: 30\n",
      "\tPopulation - \tAverage Fitness: -62.200890713731376\n",
      "Generation: 37\n",
      "\tBest - \tFitness: 25.588, Size: 31\n",
      "\tPopulation - \tAverage Fitness: -95.40457723464351\n",
      "Generation: 38\n",
      "\tBest - \tFitness: 129.704, Size: 30\n",
      "\tPopulation - \tAverage Fitness: -64.53057618671076\n",
      "Generation: 39\n",
      "\tBest - \tFitness: 27.319, Size: 26\n",
      "\tPopulation - \tAverage Fitness: -102.44108869608782\n",
      "Generation: 40\n",
      "\tBest - \tFitness: 56.327, Size: 30\n",
      "\tPopulation - \tAverage Fitness: -98.49996229706107\n",
      "Generation: 41\n",
      "\tBest - \tFitness: 168.902, Size: 29\n",
      "\tPopulation - \tAverage Fitness: -54.50561763885598\n",
      "Generation: 42\n",
      "\tBest - \tFitness: 183.520, Size: 30\n",
      "\tPopulation - \tAverage Fitness: -3.7320918179841422\n",
      "Generation: 43\n",
      "\tBest - \tFitness: 65.168, Size: 31\n",
      "\tPopulation - \tAverage Fitness: -90.98107258290418\n",
      "Generation: 44\n",
      "\tBest - \tFitness: 115.372, Size: 24\n",
      "\tPopulation - \tAverage Fitness: -64.27663344934487\n",
      "Generation: 45\n",
      "\tBest - \tFitness: 14.735, Size: 30\n",
      "\tPopulation - \tAverage Fitness: -97.63144312745905\n",
      "Generation: 46\n",
      "\tBest - \tFitness: 157.334, Size: 30\n",
      "\tPopulation - \tAverage Fitness: -19.266553741160863\n",
      "Generation: 47\n",
      "\tBest - \tFitness: 40.812, Size: 28\n",
      "\tPopulation - \tAverage Fitness: -81.67703529232377\n",
      "Generation: 48\n",
      "\tBest - \tFitness: -21.880, Size: 27\n",
      "\tPopulation - \tAverage Fitness: -117.00109924419863\n",
      "Generation: 49\n",
      "\tBest - \tFitness: 159.341, Size: 30\n",
      "\tPopulation - \tAverage Fitness: -35.30881163739422\n",
      "Generation: 50\n",
      "\tBest - \tFitness: 122.669, Size: 27\n",
      "\tPopulation - \tAverage Fitness: -53.498429001350914\n"
     ]
    }
   ],
   "source": [
    "np.random.seed(42)\n",
    "evo.evolve()"
   ]
  },
  {
   "cell_type": "markdown",
   "metadata": {},
   "source": [
    "# Test"
   ]
  },
  {
   "cell_type": "code",
   "execution_count": 17,
   "metadata": {},
   "outputs": [
    {
     "name": "stdout",
     "output_type": "stream",
     "text": [
      "['sin((x_3--0.209815959243121))', '(((x_6)**2/sqrt(abs(x_1)))/(((cos(sqrt(abs(x_2)))+cos(x_7))-((-2.291795290899682)**2/max(min(x_1,x_0),(x_4*x_4)))))**2)', '((sqrt(abs((cos(x_2)*(x_0-sqrt(abs(x_4))))))/(x_4/x_5))/((x_4/x_6)-(log(abs(x_2))+max(-2.2421209812164307,(x_2+x_2)))))', 'min(sin(min(sin(x_4),cos(log(abs(((x_1)**2-((x_1)**2*(sqrt(abs(log(abs(((x_1)**2-sin(x_0))))))*log(abs(log(abs(-3.9172568321228027)))))))))))),cos(log(abs(x_1))))']\n",
      "0.34838167354606175\n"
     ]
    }
   ],
   "source": [
    "def get_test_score(tree):\n",
    "    rewards = []\n",
    "\n",
    "    for i in range(10):\n",
    "      # get initial state\n",
    "      observation = env.reset(seed=i)\n",
    "      observation = observation[0]\n",
    "\n",
    "      for _ in range(500):    \n",
    "        # build up the input sample for GP\n",
    "        input_sample = torch.from_numpy(observation.reshape((1,-1))).float()\n",
    "        # get output (squeezing because it is encapsulated in an array)\n",
    "        output = tree.get_output_pt(input_sample)\n",
    "        action = torch.argmax(output)\n",
    "        observation, reward, terminated, truncated, info = env.step(action.item())\n",
    "        rewards.append(reward)\n",
    "\n",
    "        output_sample = torch.from_numpy(observation.reshape((1,-1))).float()\n",
    "        if (terminated or truncated):\n",
    "            break\n",
    "\n",
    "    fitness = np.mean(rewards)\n",
    "    \n",
    "    return fitness\n",
    "\n",
    "best = evo.best_of_gens[-1]\n",
    "\n",
    "print(best.get_readable_repr())\n",
    "print(get_test_score(best))"
   ]
  },
  {
   "cell_type": "markdown",
   "metadata": {},
   "source": [
    "## Make an animation\n",
    "Here the best evolved individual is selected and one episode is rendered. Make sure to save your lunar landers over time to track progress and make comparisons."
   ]
  },
  {
   "cell_type": "code",
   "execution_count": 24,
   "metadata": {},
   "outputs": [
    {
     "data": {
      "image/png": "[encoded data removed]",
      "text/plain": [
       "<Figure size 600x400 with 1 Axes>"
      ]
     },
     "metadata": {},
     "output_type": "display_data"
    }
   ],
   "source": [
    "frames = []\n",
    "\n",
    "# gist to save gif from https://gist.github.com/botforge/64cbb71780e6208172bbf03cd9293553\n",
    "def save_frames_as_gif(frames, path='./', filename='evolved_lander.gif'):\n",
    "  plt.figure(figsize=(frames[0].shape[1] / 72.0, frames[0].shape[0] / 72.0), dpi=72)\n",
    "  patch = plt.imshow(frames[0])\n",
    "  plt.axis('off')\n",
    "  def animate(i):\n",
    "      patch.set_data(frames[i])\n",
    "  anim = animation.FuncAnimation(plt.gcf(), animate, frames = len(frames), interval=50)\n",
    "  anim.save(path + filename, writer='imagemagick', fps=60)\n",
    "\n",
    "frames = []\n",
    "fitness_function_pt(best, generation = 0, num_episodes=1, episode_duration=500, render=True, ignore_done=False)\n",
    "env.close()\n",
    "save_frames_as_gif(frames)"
   ]
  },
  {
   "cell_type": "markdown",
   "metadata": {},
   "source": [
    "## Play animation"
   ]
  },
  {
   "cell_type": "markdown",
   "metadata": {},
   "source": [
    "<img src=\"evolved_lander.gif\" width=\"750\">"
   ]
  },
  {
   "cell_type": "markdown",
   "metadata": {},
   "source": [
    "## Optimisation\n",
    "The coefficients in the multi-tree aren't optimised. Here Q-learning (taken from https://pytorch.org/tutorials/intermediate/reinforcement_q_learning.html) is used to optimise the weights further. Incorporate coefficient optimisation in training your agent(s). Coefficient Optimisation can be expensive. Think about how often you want to optimise, when, which individuals etc."
   ]
  },
  {
   "cell_type": "code",
   "execution_count": null,
   "metadata": {},
   "outputs": [],
   "source": [
    "batch_size = 128\n",
    "GAMMA = 0.99\n",
    "\n",
    "constants = best.get_subtrees_consts()\n",
    "\n",
    "if len(constants)>0:\n",
    "  optimizer = optim.AdamW(constants, lr=1e-3, amsgrad=True)\n",
    "\n",
    "for _ in range(500):\n",
    "\n",
    "  if len(constants)>0 and len(evo.memory)>batch_size:\n",
    "    target_tree = copy.deepcopy(best)\n",
    "\n",
    "    transitions = evo.memory.sample(batch_size)\n",
    "    batch = Transition(*zip(*transitions))\n",
    "    \n",
    "    non_final_mask = torch.tensor(tuple(map(lambda s: s is not None,\n",
    "                                        batch.next_state)), dtype=torch.bool)\n",
    "\n",
    "    non_final_next_states = torch.cat([s for s in batch.next_state\n",
    "                                               if s is not None])\n",
    "    state_batch = torch.cat(batch.state)\n",
    "    action_batch = torch.cat(batch.action)\n",
    "    reward_batch = torch.cat(batch.reward)\n",
    "\n",
    "    state_action_values = best.get_output_pt(state_batch).gather(1, action_batch)\n",
    "    next_state_values = torch.zeros(batch_size, dtype=torch.float)\n",
    "    with torch.no_grad():\n",
    "      next_state_values[non_final_mask] = target_tree.get_output_pt(non_final_next_states).max(1)[0].float()\n",
    "\n",
    "    expected_state_action_values = (next_state_values * GAMMA) + reward_batch\n",
    "    \n",
    "    criterion = nn.SmoothL1Loss()\n",
    "    loss = criterion(state_action_values, expected_state_action_values.unsqueeze(1))\n",
    "   \n",
    "    # Optimize the model\n",
    "    optimizer.zero_grad()\n",
    "    loss.backward()\n",
    "    torch.nn.utils.clip_grad_value_(constants, 100)\n",
    "    optimizer.step()\n",
    "\n",
    "print(best.get_readable_repr())\n",
    "print(get_test_score(best))"
   ]
  },
  {
   "cell_type": "code",
   "execution_count": null,
   "metadata": {},
   "outputs": [],
   "source": [
    "frames = []\n",
    "fitness_function_pt(best, num_episodes=1, episode_duration=500, render=True, ignore_done=False)\n",
    "env.close()\n",
    "save_frames_as_gif(frames, filename='evolved_lander_RL.gif')"
   ]
  },
  {
   "cell_type": "markdown",
   "metadata": {},
   "source": [
    "<img src=\"evolved_lander_RL.gif\" width=\"750\">"
   ]
  }
 ],
 "metadata": {
  "interpreter": {
   "hash": "bcec82567cbf7fcc0b88ece865483745690dfeee1e47d38ed4a15513fd146c67"
  },
  "kernelspec": {
   "display_name": "Python 3.9.16 ('env': venv)",
   "language": "python",
   "name": "python3"
  },
  "language_info": {
   "codemirror_mode": {
    "name": "ipython",
    "version": 3
   },
   "file_extension": ".py",
   "mimetype": "text/x-python",
   "name": "python",
   "nbconvert_exporter": "python",
   "pygments_lexer": "ipython3",
   "version": "3.9.16"
  }
 },
 "nbformat": 4,
 "nbformat_minor": 4
}
